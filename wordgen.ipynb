{
 "cells": [
  {
   "cell_type": "markdown",
   "metadata": {},
   "source": [
    "### Word generator\n",
    "Network are learned to predict next letter of a word from a list of 20k words.\n",
    "After that it creates its own word by passing output letter to input."
   ]
  },
  {
   "cell_type": "markdown",
   "metadata": {},
   "source": [
    "Here we set up plot inlining options and its size:"
   ]
  },
  {
   "cell_type": "code",
   "execution_count": 1,
   "metadata": {
    "collapsed": false
   },
   "outputs": [],
   "source": [
    "%matplotlib inline\n",
    "import matplotlib\n",
    "matplotlib.rcParams['figure.figsize'] = (12, 12)\n",
    "from IPython import display"
   ]
  },
  {
   "cell_type": "markdown",
   "metadata": {},
   "source": [
    "Import modules:"
   ]
  },
  {
   "cell_type": "code",
   "execution_count": 2,
   "metadata": {
    "collapsed": false
   },
   "outputs": [],
   "source": [
    "import pynn as nn\n",
    "import pynnui as nnui\n",
    "import math\n",
    "from math import floor\n",
    "from random import random, shuffle\n",
    "from copy import copy\n",
    "import numpy as np\n",
    "from matplotlib import pyplot as plt\n",
    "import signal"
   ]
  },
  {
   "cell_type": "markdown",
   "metadata": {},
   "source": [
    "Char to index and back conversion:"
   ]
  },
  {
   "cell_type": "code",
   "execution_count": 3,
   "metadata": {
    "collapsed": true
   },
   "outputs": [],
   "source": [
    "def idx(c):\n",
    "    a = ord(c)\n",
    "    if a >= 0x61 and a <= 0x7A:\n",
    "        return a - 0x61\n",
    "    if a == 0x27: # '\n",
    "        return 0x1A\n",
    "    if a == 0x2D: # -\n",
    "        return 0x1B\n",
    "    if a == 0xA:  # CR\n",
    "        return 0x1C\n",
    "    return -1\n",
    "\n",
    "def char(i):\n",
    "    if i >= 0 and i <= 0x19:\n",
    "        return chr(i + 0x61)\n",
    "    if a == 0x1A: # '\n",
    "        return chr(0x27)\n",
    "    if a == 0x1B: # -\n",
    "        return chr(0x2D)\n",
    "    if a == 0x1C: # CR\n",
    "        return chr(0xA)\n",
    "    return ''"
   ]
  },
  {
   "cell_type": "markdown",
   "metadata": {},
   "source": [
    "To learn our network we use [BPTT](https://en.wikipedia.org/wiki/Backpropagation_through_time) with [SGD](https://en.wikipedia.org/wiki/Stochastic_gradient_descent) plus [AdaGrad](https://en.wikipedia.org/wiki/Stochastic_gradient_descent#AdaGrad). [Softmax](https://en.wikipedia.org/wiki/Softmax_function) loss is used."
   ]
  },
  {
   "cell_type": "code",
   "execution_count": 4,
   "metadata": {
    "collapsed": true
   },
   "outputs": [],
   "source": [
    "def do_batch(net, pos, batch_size):\n",
    "    loss = 0\n",
    "    grad = net.newGradient()\n",
    "    backprop_count = 0\n",
    "       \n",
    "    for i in range(min(batch_size, len(words) - pos)):\n",
    "        word = words[pos + i]\n",
    "        depth = len(word)\n",
    "\n",
    "        state = net.newState()\n",
    "        state.pipes[net._flink[(1, 0)]].data = np.zeros(shid)\n",
    "        state_stack = [state]\n",
    "\n",
    "        vouts_stack = []\n",
    "\n",
    "        for l in range(depth - 1):\n",
    "            a = idx(word[l])\n",
    "            lin = [0]*size\n",
    "            lin[a] = 1\n",
    "            vins = [np.array(lin)]\n",
    "\n",
    "            # feedforward\n",
    "            state = copy(state)\n",
    "            vouts = net.transmit(state, vins)\n",
    "            state_stack.append(state)\n",
    "            vouts_stack.append(vouts)\n",
    "\n",
    "        error = net.newError()\n",
    "        error.pipes[net._blink[(1, 0)]].data = np.zeros(shid)\n",
    "\n",
    "        for l in range(depth - 1):\n",
    "            a = idx(word[depth - l - 1])\n",
    "            lres = [0]*size\n",
    "            lres[a] = 1\n",
    "            vres = np.array(lres)\n",
    "            vin = vouts_stack.pop()[0]\n",
    "            vout = np.exp(vin)/np.sum(np.exp(vin))\n",
    "            verrs = [vout - vres]\n",
    "            loss += -np.log(vout[a])\n",
    "\n",
    "            # backpropagate\n",
    "            net.backprop(grad, error, state_stack.pop(), verrs)\n",
    "            backprop_count += 1\n",
    "            \n",
    "    grad.mul(1/backprop_count)\n",
    "    return (grad, loss/batch_size)"
   ]
  },
  {
   "cell_type": "markdown",
   "metadata": {},
   "source": [
    "Define network structure:"
   ]
  },
  {
   "cell_type": "code",
   "execution_count": 5,
   "metadata": {
    "collapsed": false
   },
   "outputs": [
    {
     "data": {
      "image/svg+xml": [
       "<svg height=\"167\" version=\"1.1\" width=\"605\" xmlns=\"http://www.w3.org/2000/svg\">\n",
       "\t\t<marker id=\"Arrow\" markerHeight=\"6\" markerUnits=\"strokeWidth\" markerWidth=\"6\" orient=\"auto\" refX=\"2\" refY=\"0\" viewBox=\"-3 -3 6 6\">\n",
       "\t\t<polygon fill=\"gray\" points=\"-1,0 -3,3 3,0 -3,-3\"/>\n",
       "\t\t</marker>\n",
       "\t\t<circle cx=\"45.000000\" cy=\"65.845047\" fill=\"orange\" r=\"30.000000\"/><text fill=\"white\" font-family=\"Verdana\" font-size=\"15.000000\" text-anchor=\"middle\" x=\"45.000000\" y=\"70.345047\">Matrix</text><circle cx=\"250.681837\" cy=\"50.433293\" fill=\"orange\" r=\"30.000000\"/><text fill=\"white\" font-family=\"Verdana\" font-size=\"15.000000\" text-anchor=\"middle\" x=\"250.681837\" y=\"54.933293\">Matrix</text><circle cx=\"148.985813\" cy=\"63.474615\" fill=\"orange\" r=\"30.000000\"/><text fill=\"white\" font-family=\"Verdana\" font-size=\"15.000000\" text-anchor=\"middle\" x=\"148.985813\" y=\"67.974615\">Merger</text><circle cx=\"211.553446\" cy=\"122.856635\" fill=\"orange\" r=\"30.000000\"/><text fill=\"white\" font-family=\"Verdana\" font-size=\"15.000000\" text-anchor=\"middle\" x=\"211.553446\" y=\"127.356635\">Bias</text><circle cx=\"297.721572\" cy=\"118.036089\" fill=\"orange\" r=\"30.000000\"/><text fill=\"white\" font-family=\"Verdana\" font-size=\"15.000000\" text-anchor=\"middle\" x=\"297.721572\" y=\"122.536089\">Tanh</text><circle cx=\"353.232353\" cy=\"52.474639\" fill=\"orange\" r=\"30.000000\"/><text fill=\"white\" font-family=\"Verdana\" font-size=\"15.000000\" text-anchor=\"middle\" x=\"353.232353\" y=\"56.974639\">Fork</text><circle cx=\"456.994876\" cy=\"47.705082\" fill=\"orange\" r=\"30.000000\"/><text fill=\"white\" font-family=\"Verdana\" font-size=\"15.000000\" text-anchor=\"middle\" x=\"456.994876\" y=\"52.205082\">Matrix</text><circle cx=\"560.888101\" cy=\"45.000000\" fill=\"orange\" r=\"30.000000\"/><text fill=\"white\" font-family=\"Verdana\" font-size=\"15.000000\" text-anchor=\"middle\" x=\"560.888101\" y=\"49.500000\">Bias</text><line marker-end=\"url(#Arrow)\" stroke=\"gray\" stroke-width=\"2\" x1=\"77.991429\" x2=\"115.994384\" y1=\"65.092983\" y2=\"64.226678\"/><line marker-end=\"url(#Arrow)\" stroke=\"gray\" stroke-width=\"2\" x1=\"217.949879\" x2=\"181.717771\" y1=\"54.630782\" y2=\"59.277125\"/><line marker-end=\"url(#Arrow)\" stroke=\"gray\" stroke-width=\"2\" x1=\"172.921725\" x2=\"187.617534\" y1=\"86.191836\" y2=\"100.139413\"/><line marker-end=\"url(#Arrow)\" stroke=\"gray\" stroke-width=\"2\" x1=\"244.501927\" x2=\"264.773091\" y1=\"121.013382\" y2=\"119.879342\"/><line marker-end=\"url(#Arrow)\" stroke=\"gray\" stroke-width=\"2\" x1=\"319.045659\" x2=\"331.908267\" y1=\"92.851107\" y2=\"77.659621\"/><line marker-end=\"url(#Arrow)\" stroke=\"gray\" stroke-width=\"2\" x1=\"320.238889\" x2=\"283.675301\" y1=\"51.817879\" y2=\"51.090053\"/><line marker-end=\"url(#Arrow)\" stroke=\"gray\" stroke-width=\"2\" x1=\"386.197546\" x2=\"424.029684\" y1=\"50.959358\" y2=\"49.220363\"/><line marker-end=\"url(#Arrow)\" stroke=\"gray\" stroke-width=\"2\" x1=\"489.983696\" x2=\"527.899281\" y1=\"46.846148\" y2=\"45.858934\"/><line marker-end=\"url(#Arrow)\" stroke=\"gray\" stroke-width=\"2\" x1=\"5.000000\" x2=\"12.000000\" y1=\"65.845047\" y2=\"65.845047\"/><line marker-end=\"url(#Arrow)\" stroke=\"gray\" stroke-width=\"2\" x1=\"593.888101\" x2=\"600.888101\" y1=\"45.000000\" y2=\"45.000000\"/></svg>"
      ],
      "text/plain": [
       "<IPython.core.display.SVG object>"
      ]
     },
     "execution_count": 5,
     "metadata": {},
     "output_type": "execute_result"
    }
   ],
   "source": [
    "net = nn.Network(1, 1)\n",
    "size = 0x1D\n",
    "shid = 0x80\n",
    "\n",
    "net.nodes[0] = nn.MatrixProduct(size, shid) # W_xh\n",
    "net.nodes[1] = nn.MatrixProduct(shid, shid) # W_hh\n",
    "net.nodes[2] = nn.Merger(shid, 2)\n",
    "net.nodes[3] = nn.Bias(shid)\n",
    "net.nodes[4] = nn.Tanh(shid)\n",
    "net.nodes[5] = nn.Fork(shid, 2)\n",
    "net.nodes[6] = nn.MatrixProduct(shid, size) # W_hy\n",
    "net.nodes[7] = nn.Bias(size)\n",
    "\n",
    "net.paths.append(nn.Path((-1, 0), ( 0, 0)))\n",
    "net.paths.append(nn.Path(( 0, 0), ( 2, 0)))\n",
    "net.paths.append(nn.Path(( 1, 0), ( 2, 1)))\n",
    "\n",
    "net.paths.append(nn.Path(( 2, 0), ( 3, 0)))\n",
    "net.paths.append(nn.Path(( 3, 0), ( 4, 0)))\n",
    "net.paths.append(nn.Path(( 4, 0), ( 5, 0)))\n",
    "\n",
    "net.paths.append(nn.Path(( 5, 1), ( 1, 0)))\n",
    "net.paths.append(nn.Path(( 5, 0), ( 6, 0)))\n",
    "net.paths.append(nn.Path(( 6, 0), ( 7, 0)))\n",
    "net.paths.append(nn.Path(( 7, 0), (-1, 0)))\n",
    "\n",
    "net.update()\n",
    "\n",
    "rate = nn.RateAdaGrad(net, 1e-1)\n",
    "\n",
    "b = 0\n",
    "p = 0\n",
    "smooth_loss = 0\n",
    "losses = []\n",
    "epoch = 0\n",
    "epochs = []\n",
    "\n",
    "display.SVG(data=nnui.Graph(net).svg())"
   ]
  },
  {
   "cell_type": "markdown",
   "metadata": {},
   "source": [
    "Load data:"
   ]
  },
  {
   "cell_type": "code",
   "execution_count": 6,
   "metadata": {
    "collapsed": false
   },
   "outputs": [],
   "source": [
    "batch_size = 20\n",
    "\n",
    "file = open('data/20k.txt')\n",
    "words = []\n",
    "for word in file:\n",
    "    words.append(word)\n",
    "\n",
    "# del words[2000:]"
   ]
  },
  {
   "cell_type": "markdown",
   "metadata": {},
   "source": [
    "Main learning loop. You can interrupt it and continue whenever you want."
   ]
  },
  {
   "cell_type": "code",
   "execution_count": 7,
   "metadata": {
    "collapsed": false
   },
   "outputs": [
    {
     "data": {
      "image/png": "[encoded data removed]",
      "text/plain": [
       "<matplotlib.figure.Figure at 0x1dac1170be0>"
      ]
     },
     "metadata": {},
     "output_type": "display_data"
    },
    {
     "data": {
      "text/plain": [
       "'done'"
      ]
     },
     "execution_count": 7,
     "metadata": {},
     "output_type": "execute_result"
    }
   ],
   "source": [
    "done = False\n",
    "def signal_handler(signal, frame):\n",
    "    global done\n",
    "    done = True\n",
    "signal.signal(signal.SIGINT, signal_handler)\n",
    "\n",
    "show_period = 20\n",
    "while not done:\n",
    "    if p >= len(words):\n",
    "        p = 0\n",
    "        b = 0\n",
    "        epoch += 1\n",
    "    if p == 0:\n",
    "        shuffle(words)\n",
    "    \n",
    "    (grad, loss) = do_batch(net, p, batch_size)\n",
    "    grad.clip(5e0)\n",
    "    rate.update(grad)\n",
    "    net.learn(grad, rate)\n",
    "    \n",
    "    smooth_loss = 0.9*smooth_loss + 0.1*loss\n",
    "    \n",
    "    if (b+1) % show_period == 0:\n",
    "        smooth_epoch = epoch + p/len(words)\n",
    "        epochs.append(smooth_epoch)\n",
    "        losses.append(smooth_loss)\n",
    "\n",
    "        fig = plt.figure()\n",
    "        ax = (fig.add_subplot(211), fig.add_subplot(212))\n",
    "        ax[0].plot(epochs, losses)\n",
    "        r = max(len(losses) - 100, 0)\n",
    "        ax[1].plot(epochs[r:],losses[r:])\n",
    "        ax[1].text(smooth_epoch,smooth_loss,str(smooth_loss))\n",
    "\n",
    "        display.clear_output(wait=True)\n",
    "\n",
    "        plt.show()\n",
    "        \n",
    "    p += batch_size\n",
    "    b += 1\n",
    "    \n",
    "'done'"
   ]
  },
  {
   "cell_type": "markdown",
   "metadata": {},
   "source": [
    "Here network generates word for each alphabet letter."
   ]
  },
  {
   "cell_type": "code",
   "execution_count": 28,
   "metadata": {
    "collapsed": false
   },
   "outputs": [
    {
     "name": "stdout",
     "output_type": "stream",
     "text": [
      "an\n",
      "bluecl\n",
      "ciuribog\n",
      "detmatoiptkduiam\n",
      "efiu\n",
      "farpit\n",
      "gurintydcsne\n",
      "halp\n",
      "imr\n",
      "jeuxlbcay\n",
      "kreaanro\n",
      "ligcglmaseu\n",
      "mhc\n",
      "nand\n",
      "ofia\n",
      "pordd\n",
      "querl\n",
      "rucruso\n",
      "stopraa\n",
      "tlrurosera\n",
      "uneelh\n",
      "vormti\n",
      "werg\n",
      "xehse\n",
      "ypx\n",
      "zrer\n"
     ]
    }
   ],
   "source": [
    "alphabet = 'abcdefghijklmnopqrstuvwxyz'\n",
    "\n",
    "for j in range(len(alphabet)):\n",
    "\n",
    "    state = net.newState()\n",
    "    state.pipes[net._flink[(1, 0)]].data = np.zeros(shid)\n",
    "\n",
    "    a = idx(alphabet[j])\n",
    "    print(alphabet[j], end='')\n",
    "\n",
    "    for i in range(0x40):\n",
    "        lin = [0]*size\n",
    "        lin[a] = 1\n",
    "        vins = [np.array(lin)]\n",
    "        vouts = net.transmit(state, vins)\n",
    "        prob = np.exp(vouts[0])/np.sum(np.exp(vouts[0]))\n",
    "        a = np.random.choice(range(size), p=prob)\n",
    "        letter = char(a)\n",
    "\n",
    "        if letter == '\\n':\n",
    "            break\n",
    "        print(letter, end='')\n",
    "    print()"
   ]
  },
  {
   "cell_type": "code",
   "execution_count": null,
   "metadata": {
    "collapsed": true
   },
   "outputs": [],
   "source": []
  }
 ],
 "metadata": {
  "kernelspec": {
   "display_name": "Python 3",
   "language": "python",
   "name": "python3"
  },
  "language_info": {
   "codemirror_mode": {
    "name": "ipython",
    "version": 3
   },
   "file_extension": ".py",
   "mimetype": "text/x-python",
   "name": "python",
   "nbconvert_exporter": "python",
   "pygments_lexer": "ipython3",
   "version": "3.5.1"
  }
 },
 "nbformat": 4,
 "nbformat_minor": 0
}
