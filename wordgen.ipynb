{
 "cells": [
  {
   "cell_type": "code",
   "execution_count": 1,
   "metadata": {
    "collapsed": false
   },
   "outputs": [],
   "source": [
    "%matplotlib inline\n",
    "import matplotlib\n",
    "matplotlib.rcParams['figure.figsize'] = (12, 6)\n",
    "from IPython import display"
   ]
  },
  {
   "cell_type": "markdown",
   "metadata": {},
   "source": [
    "Import modules:"
   ]
  },
  {
   "cell_type": "code",
   "execution_count": 2,
   "metadata": {
    "collapsed": false
   },
   "outputs": [],
   "source": [
    "import pynn as nn\n",
    "import pynnui as nnui\n",
    "import math\n",
    "from random import random, shuffle\n",
    "from copy import copy\n",
    "import numpy as np\n",
    "from matplotlib import pyplot as plt"
   ]
  },
  {
   "cell_type": "markdown",
   "metadata": {},
   "source": [
    "Char to index and back conversion:"
   ]
  },
  {
   "cell_type": "code",
   "execution_count": 3,
   "metadata": {
    "collapsed": true
   },
   "outputs": [],
   "source": [
    "def idx(c):\n",
    "    a = ord(c)\n",
    "    if a >= 0x61 and a <= 0x7A:\n",
    "        return a - 0x61\n",
    "    if a == 0x27: # '\n",
    "        return 0x1A\n",
    "    if a == 0x2D: # -\n",
    "        return 0x1B\n",
    "    if a == 0xA:  # CR\n",
    "        return 0x1C\n",
    "    return -1\n",
    "\n",
    "def char(i):\n",
    "    if i >= 0 and i <= 0x19:\n",
    "        return chr(i + 0x61)\n",
    "    if a == 0x1A: # '\n",
    "        return chr(0x27)\n",
    "    if a == 0x1B: # -\n",
    "        return chr(0x2D)\n",
    "    if a == 0x1C: # CR\n",
    "        return chr(0xA)\n",
    "    return ''"
   ]
  },
  {
   "cell_type": "markdown",
   "metadata": {},
   "source": [
    "Define network structure:"
   ]
  },
  {
   "cell_type": "code",
   "execution_count": 8,
   "metadata": {
    "collapsed": false
   },
   "outputs": [
    {
     "data": {
      "image/svg+xml": [
       "<svg height=\"160\" version=\"1.1\" width=\"502\" xmlns=\"http://www.w3.org/2000/svg\">\n",
       "\t\t<marker id=\"Arrow\" markerHeight=\"6\" markerUnits=\"strokeWidth\" markerWidth=\"6\" orient=\"auto\" refX=\"2\" refY=\"0\" viewBox=\"-3 -3 6 6\">\n",
       "\t\t<polygon fill=\"gray\" points=\"-1,0 -3,3 3,0 -3,-3\"/>\n",
       "\t\t</marker>\n",
       "\t\t<circle cx=\"45.000000\" cy=\"50.484375\" fill=\"orange\" r=\"30.000000\"/><text fill=\"white\" font-family=\"Verdana\" font-size=\"15.000000\" text-anchor=\"middle\" x=\"45.000000\" y=\"54.984375\">Matrix</text><circle cx=\"251.487198\" cy=\"45.000000\" fill=\"orange\" r=\"30.000000\"/><text fill=\"white\" font-family=\"Verdana\" font-size=\"15.000000\" text-anchor=\"middle\" x=\"251.487198\" y=\"49.500000\">Matrix</text><circle cx=\"148.976531\" cy=\"51.284776\" fill=\"orange\" r=\"30.000000\"/><text fill=\"white\" font-family=\"Verdana\" font-size=\"15.000000\" text-anchor=\"middle\" x=\"148.976531\" y=\"55.784776\">Merger</text><circle cx=\"207.230497\" cy=\"114.420661\" fill=\"orange\" r=\"30.000000\"/><text fill=\"white\" font-family=\"Verdana\" font-size=\"15.000000\" text-anchor=\"middle\" x=\"207.230497\" y=\"118.920661\">Bias</text><circle cx=\"293.458058\" cy=\"115.813310\" fill=\"orange\" r=\"30.000000\"/><text fill=\"white\" font-family=\"Verdana\" font-size=\"15.000000\" text-anchor=\"middle\" x=\"293.458058\" y=\"120.313310\">Tanh</text><circle cx=\"353.734882\" cy=\"54.415123\" fill=\"orange\" r=\"30.000000\"/><text fill=\"white\" font-family=\"Verdana\" font-size=\"15.000000\" text-anchor=\"middle\" x=\"353.734882\" y=\"58.915123\">Fork</text><circle cx=\"457.748313\" cy=\"55.217483\" fill=\"orange\" r=\"30.000000\"/><text fill=\"white\" font-family=\"Verdana\" font-size=\"15.000000\" text-anchor=\"middle\" x=\"457.748313\" y=\"59.717483\">Matrix</text><line marker-end=\"url(#Arrow)\" stroke=\"gray\" stroke-width=\"2\" x1=\"77.999022\" x2=\"115.977509\" y1=\"50.738399\" y2=\"51.030753\"/><line marker-end=\"url(#Arrow)\" stroke=\"gray\" stroke-width=\"2\" x1=\"218.549043\" x2=\"181.914686\" y1=\"47.019389\" y2=\"49.265387\"/><line marker-end=\"url(#Arrow)\" stroke=\"gray\" stroke-width=\"2\" x1=\"171.354524\" x2=\"184.852505\" y1=\"75.538135\" y2=\"90.167301\"/><line marker-end=\"url(#Arrow)\" stroke=\"gray\" stroke-width=\"2\" x1=\"240.226194\" x2=\"260.462362\" y1=\"114.953569\" y2=\"115.280401\"/><line marker-end=\"url(#Arrow)\" stroke=\"gray\" stroke-width=\"2\" x1=\"316.576548\" x2=\"330.616392\" y1=\"92.264734\" y2=\"77.963699\"/><line marker-end=\"url(#Arrow)\" stroke=\"gray\" stroke-width=\"2\" x1=\"320.873902\" x2=\"284.348178\" y1=\"51.389234\" y2=\"48.025889\"/><line marker-end=\"url(#Arrow)\" stroke=\"gray\" stroke-width=\"2\" x1=\"386.733900\" x2=\"424.749295\" y1=\"54.669678\" y2=\"54.962928\"/><line marker-end=\"url(#Arrow)\" stroke=\"gray\" stroke-width=\"2\" x1=\"5.000000\" x2=\"12.000000\" y1=\"50.484375\" y2=\"50.484375\"/><line marker-end=\"url(#Arrow)\" stroke=\"gray\" stroke-width=\"2\" x1=\"490.748313\" x2=\"497.748313\" y1=\"55.217483\" y2=\"55.217483\"/></svg>"
      ],
      "text/plain": [
       "<IPython.core.display.SVG object>"
      ]
     },
     "execution_count": 8,
     "metadata": {},
     "output_type": "execute_result"
    }
   ],
   "source": [
    "net = nn.Network(1, 1)\n",
    "size = 0x1D\n",
    "shid = 0x80\n",
    "\n",
    "net.nodes[0] = nn.MatrixProduct(size, shid) # W_xh\n",
    "net.nodes[1] = nn.MatrixProduct(shid, shid) # W_hh\n",
    "net.nodes[2] = nn.Merger(shid, 2)\n",
    "net.nodes[3] = nn.Bias(shid)\n",
    "net.nodes[4] = nn.Tanh(shid)\n",
    "net.nodes[5] = nn.Fork(shid, 2)\n",
    "net.nodes[6] = nn.MatrixProduct(shid, size) # W_hy\n",
    "\n",
    "net.paths.append(nn.Path((-1, 0), ( 0, 0)))\n",
    "net.paths.append(nn.Path(( 0, 0), ( 2, 0)))\n",
    "net.paths.append(nn.Path(( 1, 0), ( 2, 1)))\n",
    "\n",
    "net.paths.append(nn.Path(( 2, 0), ( 3, 0)))\n",
    "net.paths.append(nn.Path(( 3, 0), ( 4, 0)))\n",
    "net.paths.append(nn.Path(( 4, 0), ( 5, 0)))\n",
    "\n",
    "net.paths.append(nn.Path(( 5, 1), ( 1, 0)))\n",
    "net.paths.append(nn.Path(( 5, 0), ( 6, 0)))\n",
    "net.paths.append(nn.Path(( 6, 0), (-1, 0)))\n",
    "\n",
    "net.update()\n",
    "\n",
    "display.SVG(data=nnui.Graph(net).svg())"
   ]
  },
  {
   "cell_type": "code",
   "execution_count": 6,
   "metadata": {
    "collapsed": false
   },
   "outputs": [],
   "source": [
    "batch_size = 20\n",
    "\n",
    "file = open('data/20k.txt')\n",
    "words = []\n",
    "for word in file:\n",
    "    words.append(word)\n",
    "\n",
    "del words[1000:]"
   ]
  },
  {
   "cell_type": "code",
   "execution_count": 9,
   "metadata": {
    "collapsed": false
   },
   "outputs": [
    {
     "name": "stdout",
     "output_type": "stream",
     "text": [
      "epoch: 49\n",
      "cost: 6.077302\n"
     ]
    },
    {
     "data": {
      "image/png": "[encoded data removed]",
      "text/plain": [
       "<matplotlib.figure.Figure at 0x1809b30d3c8>"
      ]
     },
     "metadata": {},
     "output_type": "display_data"
    },
    {
     "data": {
      "text/plain": [
       "''"
      ]
     },
     "execution_count": 9,
     "metadata": {},
     "output_type": "execute_result"
    }
   ],
   "source": [
    "costs = []\n",
    "for k in range(50):\n",
    "    cost = 0.0\n",
    "    shuffle(words)\n",
    "\n",
    "    for j in range(math.floor(len(words)/batch_size)):\n",
    "        grad = net.newGradient()\n",
    "        backprop_count = 0\n",
    "\n",
    "        for i in range(batch_size):\n",
    "            word = words[j*batch_size + i]\n",
    "            depth = len(word)\n",
    "\n",
    "            state = net.newState()\n",
    "            state.pipes[net._flink[(1, 0)]].data = np.zeros(shid)\n",
    "            state_stack = [state]\n",
    "\n",
    "            vouts_stack = []\n",
    "\n",
    "            for l in range(depth - 1):\n",
    "                a = idx(word[l])\n",
    "                lin = [0]*size\n",
    "                lin[a] = 1\n",
    "                vins = [np.array(lin)]\n",
    "                \n",
    "                # feedforward\n",
    "                state = copy(state)\n",
    "                vouts = net.transmit(state, vins)\n",
    "                state_stack.append(state)\n",
    "                vouts_stack.append(vouts)\n",
    "\n",
    "            error = net.newError()\n",
    "            error.pipes[net._blink[(1, 0)]].data = np.zeros(shid)\n",
    "\n",
    "            for l in range(depth - 1):\n",
    "                a = idx(word[depth - l - 1])\n",
    "                lres = [0]*size\n",
    "                lres[a] = 1\n",
    "                vres = np.array(lres)\n",
    "                vin = vouts_stack.pop()[0]\n",
    "                vout = np.tanh(vin)\n",
    "                verrs = [vout - vres]\n",
    "                cost += np.sum((verrs[0])**2)\n",
    "\n",
    "                # backpropagate\n",
    "                net.backprop(grad, error, state_stack.pop(), verrs)\n",
    "                backprop_count += 1\n",
    "        \n",
    "        grad.mul(1/backprop_count)\n",
    "        grad.clip(5e0)\n",
    "        net.learn(grad, 1e-2)\n",
    "\n",
    "    cost /= len(words)\n",
    "    costs.append(cost)\n",
    "    \n",
    "    plt.clf()\n",
    "    plt.plot(costs)\n",
    "    ax = plt.gca()\n",
    "    ax.set_yscale('log')\n",
    "    \n",
    "    display.clear_output(wait=True)\n",
    "    \n",
    "    print('epoch: %d' % k)\n",
    "    print('cost: %f' % cost)\n",
    "    plt.show()\n",
    "''"
   ]
  },
  {
   "cell_type": "code",
   "execution_count": 10,
   "metadata": {
    "collapsed": false
   },
   "outputs": [
    {
     "name": "stdout",
     "output_type": "stream",
     "text": [
      "anree\n",
      "bevee\n",
      "covee\n",
      "deree\n",
      "e\n",
      "fivee\n",
      "gsrit\n",
      "hcvee\n",
      "invee\n",
      "jyvee\n",
      "kwoee\n",
      "livee\n",
      "maree\n",
      "nuree\n",
      "otree\n",
      "prree\n",
      "q'eee\n",
      "reaee\n",
      "steee\n",
      "thaee\n",
      "udvee\n",
      "vgmit\n",
      "wovee\n",
      "x\n",
      "yqvee\n",
      "zgvee\n"
     ]
    }
   ],
   "source": [
    "alphabet = 'abcdefghijklmnopqrstuvwxyz'\n",
    "\n",
    "for j in range(len(alphabet)):\n",
    "\n",
    "    state = net.newState()\n",
    "    state.pipes[net._flink[(1, 0)]].data = np.zeros(shid)\n",
    "\n",
    "    a = idx(alphabet[j])\n",
    "    print(alphabet[j], end='')\n",
    "\n",
    "    for i in range(0x40):\n",
    "        lin = [0]*size\n",
    "        lin[a] = 1\n",
    "        vins = [np.array(lin)]\n",
    "        vouts = net.transmit(state, vins)\n",
    "        a = np.argmax(vouts[0])\n",
    "        letter = char(a)\n",
    "\n",
    "        if letter == '\\n':\n",
    "            break\n",
    "        print(letter, end='')\n",
    "    print()"
   ]
  },
  {
   "cell_type": "code",
   "execution_count": null,
   "metadata": {
    "collapsed": true
   },
   "outputs": [],
   "source": []
  }
 ],
 "metadata": {
  "kernelspec": {
   "display_name": "Python 3",
   "language": "python",
   "name": "python3"
  },
  "language_info": {
   "codemirror_mode": {
    "name": "ipython",
    "version": 3
   },
   "file_extension": ".py",
   "mimetype": "text/x-python",
   "name": "python",
   "nbconvert_exporter": "python",
   "pygments_lexer": "ipython3",
   "version": "3.5.1"
  }
 },
 "nbformat": 4,
 "nbformat_minor": 0
}
