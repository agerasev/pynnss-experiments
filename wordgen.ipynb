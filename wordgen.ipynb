{
 "cells": [
  {
   "cell_type": "markdown",
   "metadata": {},
   "source": [
    "### Word generator\n",
    "Network are learned to predict next letter of a word from a list of 20k words.\n",
    "After that it creates its own word by passing output letter to input."
   ]
  },
  {
   "cell_type": "markdown",
   "metadata": {},
   "source": [
    "Here we set up plot inlining options and its size:"
   ]
  },
  {
   "cell_type": "code",
   "execution_count": 3,
   "metadata": {
    "collapsed": false
   },
   "outputs": [],
   "source": [
    "%matplotlib inline\n",
    "import matplotlib\n",
    "matplotlib.rcParams['figure.figsize'] = (12, 12)\n",
    "from IPython import display"
   ]
  },
  {
   "cell_type": "markdown",
   "metadata": {},
   "source": [
    "Import modules:"
   ]
  },
  {
   "cell_type": "code",
   "execution_count": 4,
   "metadata": {
    "collapsed": false
   },
   "outputs": [],
   "source": [
    "import pynn as nn\n",
    "import pynnui as nnui\n",
    "import math\n",
    "from math import floor\n",
    "from random import random, shuffle\n",
    "from copy import copy\n",
    "import numpy as np\n",
    "from matplotlib import pyplot as plt\n",
    "import signal"
   ]
  },
  {
   "cell_type": "markdown",
   "metadata": {},
   "source": [
    "Load data:"
   ]
  },
  {
   "cell_type": "code",
   "execution_count": 15,
   "metadata": {
    "collapsed": false
   },
   "outputs": [],
   "source": [
    "data = open('data/20k.txt').read()\n",
    "words = []\n",
    "for word in data.split('\\n'):\n",
    "    words.append(word + '\\n')"
   ]
  },
  {
   "cell_type": "markdown",
   "metadata": {},
   "source": [
    "Char to index and back conversion:"
   ]
  },
  {
   "cell_type": "code",
   "execution_count": 26,
   "metadata": {
    "collapsed": true
   },
   "outputs": [
    {
     "name": "stdout",
     "output_type": "stream",
     "text": [
      "['\\n', \"'\", '-', '.', '0', '1', '2', '4', '5', '9', 'W', 'a', 'b', 'c', 'd', 'e', 'f', 'g', 'h', 'i', 'j', 'k', 'l', 'm', 'n', 'o', 'p', 'q', 'r', 's', 't', 'u', 'v', 'w', 'x', 'y', 'z']\n"
     ]
    }
   ],
   "source": [
    "chars = sorted(list(set(data)))\n",
    "ci = {c:i for i,c in enumerate(chars)}\n",
    "ic = {i:c for i,c in enumerate(chars)}\n",
    "\n",
    "size = len(chars)\n",
    "\n",
    "print(chars)"
   ]
  },
  {
   "cell_type": "markdown",
   "metadata": {},
   "source": [
    "To learn our network we use [BPTT](https://en.wikipedia.org/wiki/Backpropagation_through_time) with [SGD](https://en.wikipedia.org/wiki/Stochastic_gradient_descent) plus [AdaGrad](https://en.wikipedia.org/wiki/Stochastic_gradient_descent#AdaGrad). [Softmax](https://en.wikipedia.org/wiki/Softmax_function) loss is used."
   ]
  },
  {
   "cell_type": "code",
   "execution_count": 28,
   "metadata": {
    "collapsed": true
   },
   "outputs": [],
   "source": [
    "def do_batch(net, pos, batch_size):\n",
    "    loss = 0\n",
    "    grad = net.newGradient()\n",
    "       \n",
    "    for i in range(min(batch_size, len(words) - pos)):\n",
    "        word = words[pos + i]\n",
    "        depth = len(word)\n",
    "\n",
    "        state = net.newState()\n",
    "        state_stack = []\n",
    "        vouts_stack = []\n",
    "\n",
    "        for l in range(depth - 1):\n",
    "            a = ci[word[l]]\n",
    "            lin = [0]*size\n",
    "            lin[a] = 1\n",
    "            vins = [np.array(lin)]\n",
    "\n",
    "            # feedforward\n",
    "            state = copy(state)\n",
    "            vouts = net.transmit(state, vins)\n",
    "            state_stack.append(state)\n",
    "            vouts_stack.append(vouts)\n",
    "\n",
    "        error = net.newError()\n",
    "\n",
    "        for l in range(depth - 1):\n",
    "            a = ci[word[depth - l - 1]]\n",
    "            lres = [0]*size\n",
    "            lres[a] = 1\n",
    "            vres = np.array(lres)\n",
    "            vin = vouts_stack.pop()[0]\n",
    "            vout = np.exp(vin)/np.sum(np.exp(vin)) # softmax\n",
    "            verrs = [vout - vres]\n",
    "            loss += -np.log(vout[a])\n",
    "\n",
    "            # backpropagate\n",
    "            net.backprop(grad, error, state_stack.pop(), verrs)\n",
    "            \n",
    "    grad.mul(1/batch_size)\n",
    "    return (grad, loss/batch_size)"
   ]
  },
  {
   "cell_type": "markdown",
   "metadata": {},
   "source": [
    "Hyperparameters:"
   ]
  },
  {
   "cell_type": "code",
   "execution_count": 38,
   "metadata": {
    "collapsed": false
   },
   "outputs": [],
   "source": [
    "shid = 200\n",
    "batch_size = 20\n",
    "rate_factor = 1e-1"
   ]
  },
  {
   "cell_type": "markdown",
   "metadata": {},
   "source": [
    "Define network structure:"
   ]
  },
  {
   "cell_type": "code",
   "execution_count": 39,
   "metadata": {
    "collapsed": false
   },
   "outputs": [
    {
     "data": {
      "image/svg+xml": [
       "<svg height=\"160\" version=\"1.1\" width=\"606\" xmlns=\"http://www.w3.org/2000/svg\">\n",
       "\t\t<marker id=\"Arrow\" markerHeight=\"6\" markerUnits=\"strokeWidth\" markerWidth=\"6\" orient=\"auto\" refX=\"2\" refY=\"0\" viewBox=\"-3 -3 6 6\">\n",
       "\t\t<polygon fill=\"gray\" points=\"-1,0 -3,3 3,0 -3,-3\"/>\n",
       "\t\t</marker>\n",
       "\t\t<circle cx=\"45.000000\" cy=\"106.262661\" fill=\"orange\" r=\"30.000000\"/><text fill=\"white\" font-family=\"Verdana\" font-size=\"15.000000\" text-anchor=\"middle\" x=\"45.000000\" y=\"110.762661\">Matrix</text><circle cx=\"251.282448\" cy=\"115.598517\" fill=\"orange\" r=\"30.000000\"/><text fill=\"white\" font-family=\"Verdana\" font-size=\"15.000000\" text-anchor=\"middle\" x=\"251.282448\" y=\"120.098517\">Matrix</text><circle cx=\"149.004093\" cy=\"106.717289\" fill=\"orange\" r=\"30.000000\"/><text fill=\"white\" font-family=\"Verdana\" font-size=\"15.000000\" text-anchor=\"middle\" x=\"149.004093\" y=\"111.217289\">Merger</text><circle cx=\"208.943112\" cy=\"45.000000\" fill=\"orange\" r=\"30.000000\"/><text fill=\"white\" font-family=\"Verdana\" font-size=\"15.000000\" text-anchor=\"middle\" x=\"208.943112\" y=\"49.500000\">Bias</text><circle cx=\"295.193102\" cy=\"45.957737\" fill=\"orange\" r=\"30.000000\"/><text fill=\"white\" font-family=\"Verdana\" font-size=\"15.000000\" text-anchor=\"middle\" x=\"295.193102\" y=\"50.457737\">Tanh</text><circle cx=\"353.735898\" cy=\"108.908371\" fill=\"orange\" r=\"30.000000\"/><text fill=\"white\" font-family=\"Verdana\" font-size=\"15.000000\" text-anchor=\"middle\" x=\"353.735898\" y=\"113.408371\">Fork</text><circle cx=\"457.711053\" cy=\"109.903354\" fill=\"orange\" r=\"30.000000\"/><text fill=\"white\" font-family=\"Verdana\" font-size=\"15.000000\" text-anchor=\"middle\" x=\"457.711053\" y=\"114.403354\">Matrix</text><circle cx=\"561.698914\" cy=\"110.476911\" fill=\"orange\" r=\"30.000000\"/><text fill=\"white\" font-family=\"Verdana\" font-size=\"15.000000\" text-anchor=\"middle\" x=\"561.698914\" y=\"114.976911\">Bias</text><line marker-end=\"url(#Arrow)\" stroke=\"gray\" stroke-width=\"2\" x1=\"77.999685\" x2=\"116.004409\" y1=\"106.406911\" y2=\"106.573039\"/><line marker-end=\"url(#Arrow)\" stroke=\"gray\" stroke-width=\"2\" x1=\"218.406161\" x2=\"181.880380\" y1=\"112.743741\" y2=\"109.572065\"/><line marker-end=\"url(#Arrow)\" stroke=\"gray\" stroke-width=\"2\" x1=\"171.995076\" x2=\"185.952129\" y1=\"83.044209\" y2=\"68.673079\"/><line marker-end=\"url(#Arrow)\" stroke=\"gray\" stroke-width=\"2\" x1=\"241.941077\" x2=\"262.195137\" y1=\"45.366416\" y2=\"45.591321\"/><line marker-end=\"url(#Arrow)\" stroke=\"gray\" stroke-width=\"2\" x1=\"317.666253\" x2=\"331.262747\" y1=\"70.122950\" y2=\"84.743158\"/><line marker-end=\"url(#Arrow)\" stroke=\"gray\" stroke-width=\"2\" x1=\"320.806030\" x2=\"284.212316\" y1=\"111.058671\" y2=\"113.448217\"/><line marker-end=\"url(#Arrow)\" stroke=\"gray\" stroke-width=\"2\" x1=\"386.734387\" x2=\"424.712564\" y1=\"109.224148\" y2=\"109.587578\"/><line marker-end=\"url(#Arrow)\" stroke=\"gray\" stroke-width=\"2\" x1=\"490.710551\" x2=\"528.699416\" y1=\"110.085367\" y2=\"110.294899\"/><line marker-end=\"url(#Arrow)\" stroke=\"gray\" stroke-width=\"2\" x1=\"5.000000\" x2=\"12.000000\" y1=\"106.262661\" y2=\"106.262661\"/><line marker-end=\"url(#Arrow)\" stroke=\"gray\" stroke-width=\"2\" x1=\"594.698914\" x2=\"601.698914\" y1=\"110.476911\" y2=\"110.476911\"/></svg>"
      ],
      "text/plain": [
       "<IPython.core.display.SVG at 0x7f5ddbe9e5c0>"
      ]
     },
     "execution_count": 39,
     "metadata": {},
     "output_type": "execute_result"
    }
   ],
   "source": [
    "net = nn.Network(1, 1)\n",
    "\n",
    "net.nodes[0] = nn.MatrixProduct(size, shid) # W_xh\n",
    "net.nodes[1] = nn.MatrixProduct(shid, shid) # W_hh\n",
    "net.nodes[2] = nn.Merger(shid, 2)\n",
    "net.nodes[3] = nn.Bias(shid)\n",
    "net.nodes[4] = nn.Tanh(shid)\n",
    "net.nodes[5] = nn.Fork(shid, 2)\n",
    "net.nodes[6] = nn.MatrixProduct(shid, size) # W_hy\n",
    "net.nodes[7] = nn.Bias(size)\n",
    "\n",
    "net.link(nn.Path((-1, 0), ( 0, 0)))\n",
    "net.link(nn.Path(( 0, 0), ( 2, 0)))\n",
    "net.link(nn.Path(( 1, 0), ( 2, 1)))\n",
    "\n",
    "net.link(nn.Path(( 2, 0), ( 3, 0)))\n",
    "net.link(nn.Path(( 3, 0), ( 4, 0)))\n",
    "net.link(nn.Path(( 4, 0), ( 5, 0)))\n",
    "\n",
    "net.link(nn.Path(( 5, 1), ( 1, 0), np.zeros(shid)))\n",
    "net.link(nn.Path(( 5, 0), ( 6, 0)))\n",
    "net.link(nn.Path(( 6, 0), ( 7, 0)))\n",
    "net.link(nn.Path(( 7, 0), (-1, 0)))\n",
    "\n",
    "rate = nn.RateAdaGrad(net, rate_factor)\n",
    "\n",
    "display.SVG(data=nnui.Graph(net).svg())"
   ]
  },
  {
   "cell_type": "markdown",
   "metadata": {},
   "source": [
    "Initialize counters:"
   ]
  },
  {
   "cell_type": "code",
   "execution_count": 40,
   "metadata": {
    "collapsed": false
   },
   "outputs": [],
   "source": [
    "b = 0\n",
    "p = 0\n",
    "smooth_loss = 0\n",
    "losses = []\n",
    "epoch = 0\n",
    "epochs = []"
   ]
  },
  {
   "cell_type": "markdown",
   "metadata": {},
   "source": [
    "Main learning loop. You can interrupt it and continue whenever you want."
   ]
  },
  {
   "cell_type": "code",
   "execution_count": 50,
   "metadata": {
    "collapsed": false
   },
   "outputs": [
    {
     "data": {
      "image/png": "[encoded data removed]",
      "text/plain": [
       "<matplotlib.figure.Figure at 0x7f5ddbefb588>"
      ]
     },
     "metadata": {},
     "output_type": "display_data"
    },
    {
     "data": {
      "text/plain": [
       "'done'"
      ]
     },
     "execution_count": 50,
     "metadata": {},
     "output_type": "execute_result"
    }
   ],
   "source": [
    "done = False\n",
    "def signal_handler(signal, frame):\n",
    "    global done\n",
    "    done = True\n",
    "signal.signal(signal.SIGINT, signal_handler)\n",
    "\n",
    "show_period = 20\n",
    "while not done:\n",
    "    if p >= len(words):\n",
    "        p = 0\n",
    "        b = 0\n",
    "        epoch += 1\n",
    "    if p == 0:\n",
    "        shuffle(words)\n",
    "    \n",
    "    (grad, loss) = do_batch(net, p, batch_size)\n",
    "    grad.clip(5e0)\n",
    "    rate.update(grad)\n",
    "    net.learn(grad, rate)\n",
    "    \n",
    "    smooth_loss = 0.9*smooth_loss + 0.1*loss\n",
    "    \n",
    "    if (b+1) % show_period == 0:\n",
    "        smooth_epoch = epoch + p/len(words)\n",
    "        epochs.append(smooth_epoch)\n",
    "        losses.append(smooth_loss)\n",
    "\n",
    "        fig = plt.figure()\n",
    "        ax = (fig.add_subplot(211), fig.add_subplot(212))\n",
    "        ax[0].plot(epochs, losses)\n",
    "        r = max(len(losses) - 100, 0)\n",
    "        ax[1].plot(epochs[r:],losses[r:])\n",
    "        ax[1].text(smooth_epoch,smooth_loss,str(smooth_loss))\n",
    "\n",
    "        display.clear_output(wait=True)\n",
    "\n",
    "        plt.show()\n",
    "        \n",
    "    p += batch_size\n",
    "    b += 1\n",
    "    \n",
    "'done'"
   ]
  },
  {
   "cell_type": "markdown",
   "metadata": {},
   "source": [
    "Here network generates word for each alphabet letter."
   ]
  },
  {
   "cell_type": "code",
   "execution_count": 55,
   "metadata": {
    "collapsed": false
   },
   "outputs": [
    {
     "name": "stdout",
     "output_type": "stream",
     "text": [
      "atdric\n",
      "bintham\n",
      "coutininnterioncaly\n",
      "discre\n",
      "expeng\n",
      "flide\n",
      "guner\n",
      "hacerot\n",
      "ipsuobanded\n",
      "julse\n",
      "knones\n",
      "luvs\n",
      "marm\n",
      "nevea\n",
      "oriac\n",
      "plopenobule\n",
      "qiaency\n",
      "retlonk\n",
      "saedare\n",
      "triak\n",
      "un\n",
      "van\n",
      "winsiluak\n",
      "xyliry\n",
      "ydetims\n",
      "zeweod\n"
     ]
    }
   ],
   "source": [
    "alphabet = 'abcdefghijklmnopqrstuvwxyz'\n",
    "\n",
    "for j in range(len(alphabet)):\n",
    "\n",
    "    state = net.newState()\n",
    "\n",
    "    a = ci[alphabet[j]]\n",
    "    print(alphabet[j], end='')\n",
    "\n",
    "    for i in range(0x40):\n",
    "        lin = [0]*size\n",
    "        lin[a] = 1\n",
    "        vins = [np.array(lin)]\n",
    "        vouts = net.transmit(state, vins)\n",
    "        prob = np.exp(vouts[0])/np.sum(np.exp(vouts[0]))\n",
    "        a = np.random.choice(range(size), p=prob)\n",
    "        letter = ic[a]\n",
    "\n",
    "        if letter == '\\n':\n",
    "            break\n",
    "        print(letter, end='')\n",
    "    print()"
   ]
  },
  {
   "cell_type": "code",
   "execution_count": null,
   "metadata": {
    "collapsed": true
   },
   "outputs": [],
   "source": []
  }
 ],
 "metadata": {
  "kernelspec": {
   "display_name": "Python 3",
   "language": "python",
   "name": "python3"
  },
  "language_info": {
   "codemirror_mode": {
    "name": "ipython",
    "version": 3
   },
   "file_extension": ".py",
   "mimetype": "text/x-python",
   "name": "python",
   "nbconvert_exporter": "python",
   "pygments_lexer": "ipython3",
   "version": "3.5.1"
  }
 },
 "nbformat": 4,
 "nbformat_minor": 0
}
