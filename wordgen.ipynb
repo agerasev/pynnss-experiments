{
 "cells": [
  {
   "cell_type": "code",
   "execution_count": 1,
   "metadata": {
    "collapsed": false
   },
   "outputs": [],
   "source": [
    "%matplotlib inline\n",
    "import matplotlib\n",
    "matplotlib.rcParams['figure.figsize'] = (12, 6)\n",
    "from IPython import display"
   ]
  },
  {
   "cell_type": "markdown",
   "metadata": {},
   "source": [
    "Import modules:"
   ]
  },
  {
   "cell_type": "code",
   "execution_count": 4,
   "metadata": {
    "collapsed": false
   },
   "outputs": [],
   "source": [
    "import pynn as nn\n",
    "import pynnui as nnui\n",
    "import math\n",
    "from random import random, shuffle\n",
    "from copy import copy\n",
    "import numpy as np\n",
    "from matplotlib import pyplot as plt\n",
    "import signal\n",
    "from concurrent.futures import ThreadPoolExecutor"
   ]
  },
  {
   "cell_type": "markdown",
   "metadata": {},
   "source": [
    "Char to index and back conversion:"
   ]
  },
  {
   "cell_type": "code",
   "execution_count": 5,
   "metadata": {
    "collapsed": true
   },
   "outputs": [],
   "source": [
    "def idx(c):\n",
    "    a = ord(c)\n",
    "    if a >= 0x61 and a <= 0x7A:\n",
    "        return a - 0x61\n",
    "    if a == 0x27: # '\n",
    "        return 0x1A\n",
    "    if a == 0x2D: # -\n",
    "        return 0x1B\n",
    "    if a == 0xA:  # CR\n",
    "        return 0x1C\n",
    "    return -1\n",
    "\n",
    "def char(i):\n",
    "    if i >= 0 and i <= 0x19:\n",
    "        return chr(i + 0x61)\n",
    "    if a == 0x1A: # '\n",
    "        return chr(0x27)\n",
    "    if a == 0x1B: # -\n",
    "        return chr(0x2D)\n",
    "    if a == 0x1C: # CR\n",
    "        return chr(0xA)\n",
    "    return ''"
   ]
  },
  {
   "cell_type": "markdown",
   "metadata": {},
   "source": [
    "Define network structure:"
   ]
  },
  {
   "cell_type": "code",
   "execution_count": 6,
   "metadata": {
    "collapsed": false
   },
   "outputs": [
    {
     "data": {
      "image/svg+xml": [
       "<svg height=\"161\" version=\"1.1\" width=\"502\" xmlns=\"http://www.w3.org/2000/svg\">\n",
       "\t\t<marker id=\"Arrow\" markerHeight=\"6\" markerUnits=\"strokeWidth\" markerWidth=\"6\" orient=\"auto\" refX=\"2\" refY=\"0\" viewBox=\"-3 -3 6 6\">\n",
       "\t\t<polygon fill=\"gray\" points=\"-1,0 -3,3 3,0 -3,-3\"/>\n",
       "\t\t</marker>\n",
       "\t\t<circle cx=\"45.000000\" cy=\"49.199428\" fill=\"orange\" r=\"30.000000\"/><text fill=\"white\" font-family=\"Verdana\" font-size=\"15.000000\" text-anchor=\"middle\" x=\"45.000000\" y=\"53.699428\">Matrix</text><circle cx=\"251.521675\" cy=\"45.000000\" fill=\"orange\" r=\"30.000000\"/><text fill=\"white\" font-family=\"Verdana\" font-size=\"15.000000\" text-anchor=\"middle\" x=\"251.521675\" y=\"49.500000\">Matrix</text><circle cx=\"148.959612\" cy=\"50.432959\" fill=\"orange\" r=\"30.000000\"/><text fill=\"white\" font-family=\"Verdana\" font-size=\"15.000000\" text-anchor=\"middle\" x=\"148.959612\" y=\"54.932959\">Merger</text><circle cx=\"206.653065\" cy=\"114.030910\" fill=\"orange\" r=\"30.000000\"/><text fill=\"white\" font-family=\"Verdana\" font-size=\"15.000000\" text-anchor=\"middle\" x=\"206.653065\" y=\"118.530910\">Bias</text><circle cx=\"292.864296\" cy=\"116.179056\" fill=\"orange\" r=\"30.000000\"/><text fill=\"white\" font-family=\"Verdana\" font-size=\"15.000000\" text-anchor=\"middle\" x=\"292.864296\" y=\"120.679056\">Tanh</text><circle cx=\"353.678154\" cy=\"55.261403\" fill=\"orange\" r=\"30.000000\"/><text fill=\"white\" font-family=\"Verdana\" font-size=\"15.000000\" text-anchor=\"middle\" x=\"353.678154\" y=\"59.761403\">Fork</text><circle cx=\"457.694666\" cy=\"56.499649\" fill=\"orange\" r=\"30.000000\"/><text fill=\"white\" font-family=\"Verdana\" font-size=\"15.000000\" text-anchor=\"middle\" x=\"457.694666\" y=\"60.999649\">Matrix</text><line marker-end=\"url(#Arrow)\" stroke=\"gray\" stroke-width=\"2\" x1=\"77.997677\" x2=\"115.961934\" y1=\"49.590961\" y2=\"50.041426\"/><line marker-end=\"url(#Arrow)\" stroke=\"gray\" stroke-width=\"2\" x1=\"218.567878\" x2=\"181.913409\" y1=\"46.745642\" y2=\"48.687317\"/><line marker-end=\"url(#Arrow)\" stroke=\"gray\" stroke-width=\"2\" x1=\"171.131949\" x2=\"184.480728\" y1=\"74.874470\" y2=\"89.589399\"/><line marker-end=\"url(#Arrow)\" stroke=\"gray\" stroke-width=\"2\" x1=\"239.642826\" x2=\"259.874536\" y1=\"114.852924\" y2=\"115.357042\"/><line marker-end=\"url(#Arrow)\" stroke=\"gray\" stroke-width=\"2\" x1=\"316.178915\" x2=\"330.363535\" y1=\"92.824645\" y2=\"78.615815\"/><line marker-end=\"url(#Arrow)\" stroke=\"gray\" stroke-width=\"2\" x1=\"320.843386\" x2=\"284.356443\" y1=\"51.963220\" y2=\"48.298183\"/><line marker-end=\"url(#Arrow)\" stroke=\"gray\" stroke-width=\"2\" x1=\"386.675816\" x2=\"424.697004\" y1=\"55.654218\" y2=\"56.106835\"/><line marker-end=\"url(#Arrow)\" stroke=\"gray\" stroke-width=\"2\" x1=\"5.000000\" x2=\"12.000000\" y1=\"49.199428\" y2=\"49.199428\"/><line marker-end=\"url(#Arrow)\" stroke=\"gray\" stroke-width=\"2\" x1=\"490.694666\" x2=\"497.694666\" y1=\"56.499649\" y2=\"56.499649\"/></svg>"
      ],
      "text/plain": [
       "<IPython.core.display.SVG object>"
      ]
     },
     "execution_count": 6,
     "metadata": {},
     "output_type": "execute_result"
    }
   ],
   "source": [
    "net = nn.Network(1, 1)\n",
    "size = 0x1D\n",
    "shid = 0x80\n",
    "\n",
    "net.nodes[0] = nn.MatrixProduct(size, shid) # W_xh\n",
    "net.nodes[1] = nn.MatrixProduct(shid, shid) # W_hh\n",
    "net.nodes[2] = nn.Merger(shid, 2)\n",
    "net.nodes[3] = nn.Bias(shid)\n",
    "net.nodes[4] = nn.Tanh(shid)\n",
    "net.nodes[5] = nn.Fork(shid, 2)\n",
    "net.nodes[6] = nn.MatrixProduct(shid, size) # W_hy\n",
    "\n",
    "net.paths.append(nn.Path((-1, 0), ( 0, 0)))\n",
    "net.paths.append(nn.Path(( 0, 0), ( 2, 0)))\n",
    "net.paths.append(nn.Path(( 1, 0), ( 2, 1)))\n",
    "\n",
    "net.paths.append(nn.Path(( 2, 0), ( 3, 0)))\n",
    "net.paths.append(nn.Path(( 3, 0), ( 4, 0)))\n",
    "net.paths.append(nn.Path(( 4, 0), ( 5, 0)))\n",
    "\n",
    "net.paths.append(nn.Path(( 5, 1), ( 1, 0)))\n",
    "net.paths.append(nn.Path(( 5, 0), ( 6, 0)))\n",
    "net.paths.append(nn.Path(( 6, 0), (-1, 0)))\n",
    "\n",
    "net.update()\n",
    "epoch = 0\n",
    "\n",
    "display.SVG(data=nnui.Graph(net).svg())"
   ]
  },
  {
   "cell_type": "code",
   "execution_count": 7,
   "metadata": {
    "collapsed": false
   },
   "outputs": [],
   "source": [
    "batch_size = 20\n",
    "\n",
    "file = open('data/20k.txt')\n",
    "words = []\n",
    "for word in file:\n",
    "    words.append(word)\n",
    "\n",
    "del words[500:]"
   ]
  },
  {
   "cell_type": "code",
   "execution_count": 8,
   "metadata": {
    "collapsed": true
   },
   "outputs": [],
   "source": [
    "def do_batch(net, pos, batch_size):\n",
    "    cost = 0\n",
    "    grad = net.newGradient()\n",
    "    backprop_count = 0\n",
    "       \n",
    "    for i in range(min(batch_size, len(words) - pos)):\n",
    "        word = words[pos + i]\n",
    "        depth = len(word)\n",
    "\n",
    "        state = net.newState()\n",
    "        state.pipes[net._flink[(1, 0)]].data = np.zeros(shid)\n",
    "        state_stack = [state]\n",
    "\n",
    "        vouts_stack = []\n",
    "\n",
    "        for l in range(depth - 1):\n",
    "            a = idx(word[l])\n",
    "            lin = [0]*size\n",
    "            lin[a] = 1\n",
    "            vins = [np.array(lin)]\n",
    "\n",
    "            # feedforward\n",
    "            state = copy(state)\n",
    "            vouts = net.transmit(state, vins)\n",
    "            state_stack.append(state)\n",
    "            vouts_stack.append(vouts)\n",
    "\n",
    "        error = net.newError()\n",
    "        error.pipes[net._blink[(1, 0)]].data = np.zeros(shid)\n",
    "\n",
    "        for l in range(depth - 1):\n",
    "            a = idx(word[depth - l - 1])\n",
    "            lres = [0]*size\n",
    "            lres[a] = 1\n",
    "            vres = np.array(lres)\n",
    "            vin = vouts_stack.pop()[0]\n",
    "            vout = np.tanh(vin)\n",
    "            verrs = [vout - vres]\n",
    "            cost += np.sum((verrs[0])**2)\n",
    "\n",
    "            # backpropagate\n",
    "            net.backprop(grad, error, state_stack.pop(), verrs)\n",
    "            backprop_count += 1\n",
    "            \n",
    "    grad.mul(1/backprop_count)\n",
    "    return (grad, cost)"
   ]
  },
  {
   "cell_type": "code",
   "execution_count": 11,
   "metadata": {
    "collapsed": false
   },
   "outputs": [
    {
     "name": "stdout",
     "output_type": "stream",
     "text": [
      "epoch: 268\n",
      "cost: 4.381070\n"
     ]
    },
    {
     "data": {
      "image/png": "[encoded data removed]",
      "text/plain": [
       "<matplotlib.figure.Figure at 0x251b4185978>"
      ]
     },
     "metadata": {},
     "output_type": "display_data"
    },
    {
     "data": {
      "text/plain": [
       "'done'"
      ]
     },
     "execution_count": 11,
     "metadata": {},
     "output_type": "execute_result"
    }
   ],
   "source": [
    "done = False\n",
    "def signal_handler(signal, frame):\n",
    "    print('SIGINT')\n",
    "    global done\n",
    "    done = True\n",
    "signal.signal(signal.SIGINT, signal_handler)\n",
    "\n",
    "costs = []\n",
    "while not done:\n",
    "    cost = 0.0\n",
    "    shuffle(words)\n",
    "\n",
    "    for j in range(math.floor(len(words)/batch_size)):\n",
    "        (grad, lcost) = do_batch(net, j*batch_size, batch_size)\n",
    "        grad.clip(5e0)\n",
    "        net.learn(grad, 1e-2)\n",
    "        cost += lcost\n",
    "\n",
    "    cost /= len(words)\n",
    "    costs.append(cost)\n",
    "\n",
    "    plt.clf()\n",
    "    plt.plot(costs)\n",
    "    #ax = plt.gca()\n",
    "    #ax.set_yscale('log')\n",
    "\n",
    "    display.clear_output(wait=True)\n",
    "\n",
    "    print('epoch: %d' % epoch)\n",
    "    print('cost: %f' % cost)\n",
    "    plt.show()\n",
    "\n",
    "    epoch += 1\n",
    "    \n",
    "'done'"
   ]
  },
  {
   "cell_type": "code",
   "execution_count": 12,
   "metadata": {
    "collapsed": false
   },
   "outputs": [
    {
     "name": "stdout",
     "output_type": "stream",
     "text": [
      "aro\n",
      "bet\n",
      "coo\n",
      "deo\n",
      "evt\n",
      "fot\n",
      "gat\n",
      "hot\n",
      "int\n",
      "joo\n",
      "keod\n",
      "lit\n",
      "mao\n",
      "noo\n",
      "ont\n",
      "prt\n",
      "qmo\n",
      "ret\n",
      "set\n",
      "tht\n",
      "ust\n",
      "vet\n",
      "wht\n",
      "x\n",
      "yoo\n",
      "zut\n"
     ]
    }
   ],
   "source": [
    "alphabet = 'abcdefghijklmnopqrstuvwxyz'\n",
    "\n",
    "for j in range(len(alphabet)):\n",
    "\n",
    "    state = net.newState()\n",
    "    state.pipes[net._flink[(1, 0)]].data = np.zeros(shid)\n",
    "\n",
    "    a = idx(alphabet[j])\n",
    "    print(alphabet[j], end='')\n",
    "\n",
    "    for i in range(0x40):\n",
    "        lin = [0]*size\n",
    "        lin[a] = 1\n",
    "        vins = [np.array(lin)]\n",
    "        vouts = net.transmit(state, vins)\n",
    "        a = np.argmax(vouts[0])\n",
    "        letter = char(a)\n",
    "\n",
    "        if letter == '\\n':\n",
    "            break\n",
    "        print(letter, end='')\n",
    "    print()"
   ]
  },
  {
   "cell_type": "code",
   "execution_count": null,
   "metadata": {
    "collapsed": true
   },
   "outputs": [],
   "source": []
  }
 ],
 "metadata": {
  "kernelspec": {
   "display_name": "Python 3",
   "language": "python",
   "name": "python3"
  },
  "language_info": {
   "codemirror_mode": {
    "name": "ipython",
    "version": 3
   },
   "file_extension": ".py",
   "mimetype": "text/x-python",
   "name": "python",
   "nbconvert_exporter": "python",
   "pygments_lexer": "ipython3",
   "version": "3.5.1"
  }
 },
 "nbformat": 4,
 "nbformat_minor": 0
}
