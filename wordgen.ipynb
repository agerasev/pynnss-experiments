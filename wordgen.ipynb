{
 "metadata": {
  "kernelspec": {
   "display_name": "Python 3",
   "language": "python",
   "name": "python3"
  },
  "language_info": {
   "codemirror_mode": {
    "name": "ipython",
    "version": 3
   },
   "file_extension": ".py",
   "mimetype": "text/x-python",
   "name": "python",
   "nbconvert_exporter": "python",
   "pygments_lexer": "ipython3",
   "version": "3.5.1"
  },
  "name": "",
  "signature": "sha256:72ffc9097cf8b502b465b6d27937bf293254a56a8f75cbc5658b26c68639157f"
 },
 "nbformat": 3,
 "nbformat_minor": 0,
 "worksheets": [
  {
   "cells": [
    {
     "cell_type": "code",
     "collapsed": false,
     "input": [
      "%matplotlib inline\n",
      "import matplotlib\n",
      "matplotlib.rcParams['figure.figsize'] = (12, 12)\n",
      "from IPython import display"
     ],
     "language": "python",
     "metadata": {},
     "outputs": [],
     "prompt_number": 23
    },
    {
     "cell_type": "markdown",
     "metadata": {},
     "source": [
      "Import modules:"
     ]
    },
    {
     "cell_type": "code",
     "collapsed": false,
     "input": [
      "import pynn as nn\n",
      "import pynnui as nnui\n",
      "import math\n",
      "from random import random, shuffle\n",
      "from copy import copy\n",
      "import numpy as np\n",
      "from matplotlib import pyplot as plt\n",
      "import signal"
     ],
     "language": "python",
     "metadata": {},
     "outputs": [],
     "prompt_number": 3
    },
    {
     "cell_type": "markdown",
     "metadata": {},
     "source": [
      "Char to index and back conversion:"
     ]
    },
    {
     "cell_type": "code",
     "collapsed": true,
     "input": [
      "def idx(c):\n",
      "    a = ord(c)\n",
      "    if a >= 0x61 and a <= 0x7A:\n",
      "        return a - 0x61\n",
      "    if a == 0x27: # '\n",
      "        return 0x1A\n",
      "    if a == 0x2D: # -\n",
      "        return 0x1B\n",
      "    if a == 0xA:  # CR\n",
      "        return 0x1C\n",
      "    return -1\n",
      "\n",
      "def char(i):\n",
      "    if i >= 0 and i <= 0x19:\n",
      "        return chr(i + 0x61)\n",
      "    if a == 0x1A: # '\n",
      "        return chr(0x27)\n",
      "    if a == 0x1B: # -\n",
      "        return chr(0x2D)\n",
      "    if a == 0x1C: # CR\n",
      "        return chr(0xA)\n",
      "    return ''"
     ],
     "language": "python",
     "metadata": {},
     "outputs": [],
     "prompt_number": 4
    },
    {
     "cell_type": "markdown",
     "metadata": {},
     "source": [
      "Define network structure:"
     ]
    },
    {
     "cell_type": "code",
     "collapsed": false,
     "input": [
      "net = nn.Network(1, 1)\n",
      "size = 0x1D\n",
      "shid = 0x80\n",
      "\n",
      "net.nodes[0] = nn.MatrixProduct(size, shid) # W_xh\n",
      "net.nodes[1] = nn.MatrixProduct(shid, shid) # W_hh\n",
      "net.nodes[2] = nn.Merger(shid, 2)\n",
      "net.nodes[3] = nn.Bias(shid)\n",
      "net.nodes[4] = nn.Tanh(shid)\n",
      "net.nodes[5] = nn.Fork(shid, 2)\n",
      "net.nodes[6] = nn.MatrixProduct(shid, size) # W_hy\n",
      "\n",
      "net.paths.append(nn.Path((-1, 0), ( 0, 0)))\n",
      "net.paths.append(nn.Path(( 0, 0), ( 2, 0)))\n",
      "net.paths.append(nn.Path(( 1, 0), ( 2, 1)))\n",
      "\n",
      "net.paths.append(nn.Path(( 2, 0), ( 3, 0)))\n",
      "net.paths.append(nn.Path(( 3, 0), ( 4, 0)))\n",
      "net.paths.append(nn.Path(( 4, 0), ( 5, 0)))\n",
      "\n",
      "net.paths.append(nn.Path(( 5, 1), ( 1, 0)))\n",
      "net.paths.append(nn.Path(( 5, 0), ( 6, 0)))\n",
      "net.paths.append(nn.Path(( 6, 0), (-1, 0)))\n",
      "\n",
      "net.update()\n",
      "\n",
      "epoch = 0\n",
      "costs = []\n",
      "\n",
      "display.SVG(data=nnui.Graph(net).svg())"
     ],
     "language": "python",
     "metadata": {},
     "outputs": [
      {
       "metadata": {},
       "output_type": "pyout",
       "prompt_number": 5,
       "svg": [
        "<svg height=\"177\" version=\"1.1\" width=\"486\" xmlns=\"http://www.w3.org/2000/svg\">\n",
        "\t\t<marker id=\"Arrow\" markerHeight=\"6\" markerUnits=\"strokeWidth\" markerWidth=\"6\" orient=\"auto\" refX=\"2\" refY=\"0\" viewBox=\"-3 -3 6 6\">\n",
        "\t\t<polygon fill=\"gray\" points=\"-1,0 -3,3 3,0 -3,-3\"/>\n",
        "\t\t</marker>\n",
        "\t\t<circle cx=\"45.000000\" cy=\"66.411452\" fill=\"orange\" r=\"30.000000\"/><text fill=\"white\" font-family=\"Verdana\" font-size=\"15.000000\" text-anchor=\"middle\" x=\"45.000000\" y=\"70.911452\">Matrix</text><circle cx=\"231.471410\" cy=\"109.461139\" fill=\"orange\" r=\"30.000000\"/><text fill=\"white\" font-family=\"Verdana\" font-size=\"15.000000\" text-anchor=\"middle\" x=\"231.471410\" y=\"113.961139\">Matrix</text><circle cx=\"148.876404\" cy=\"68.337221\" fill=\"orange\" r=\"30.000000\"/><text fill=\"white\" font-family=\"Verdana\" font-size=\"15.000000\" text-anchor=\"middle\" x=\"148.876404\" y=\"72.837221\">Merger</text><circle cx=\"242.789788\" cy=\"45.000000\" fill=\"orange\" r=\"30.000000\"/><text fill=\"white\" font-family=\"Verdana\" font-size=\"15.000000\" text-anchor=\"middle\" x=\"242.789788\" y=\"49.500000\">Bias</text><circle cx=\"294.669175\" cy=\"132.339030\" fill=\"orange\" r=\"30.000000\"/><text fill=\"white\" font-family=\"Verdana\" font-size=\"15.000000\" text-anchor=\"middle\" x=\"294.669175\" y=\"136.839030\">Tanh</text><circle cx=\"337.569751\" cy=\"73.773602\" fill=\"orange\" r=\"30.000000\"/><text fill=\"white\" font-family=\"Verdana\" font-size=\"15.000000\" text-anchor=\"middle\" x=\"337.569751\" y=\"78.273602\">Fork</text><circle cx=\"441.432881\" cy=\"74.664194\" fill=\"orange\" r=\"30.000000\"/><text fill=\"white\" font-family=\"Verdana\" font-size=\"15.000000\" text-anchor=\"middle\" x=\"441.432881\" y=\"79.164194\">Matrix</text><line marker-end=\"url(#Arrow)\" stroke=\"gray\" stroke-width=\"2\" x1=\"77.994330\" x2=\"115.882073\" y1=\"67.023136\" y2=\"67.725538\"/><line marker-end=\"url(#Arrow)\" stroke=\"gray\" stroke-width=\"2\" x1=\"201.930520\" x2=\"178.417293\" y1=\"94.752778\" y2=\"83.045581\"/><line marker-end=\"url(#Arrow)\" stroke=\"gray\" stroke-width=\"2\" x1=\"180.902398\" x2=\"210.763794\" y1=\"60.378849\" y2=\"52.958373\"/><line marker-end=\"url(#Arrow)\" stroke=\"gray\" stroke-width=\"2\" x1=\"259.642812\" x2=\"277.816151\" y1=\"73.372092\" y2=\"103.966938\"/><line marker-end=\"url(#Arrow)\" stroke=\"gray\" stroke-width=\"2\" x1=\"314.170160\" x2=\"318.068766\" y1=\"105.717393\" y2=\"100.395239\"/><line marker-end=\"url(#Arrow)\" stroke=\"gray\" stroke-width=\"2\" x1=\"306.291745\" x2=\"262.749416\" y1=\"84.294360\" y2=\"98.940380\"/><line marker-end=\"url(#Arrow)\" stroke=\"gray\" stroke-width=\"2\" x1=\"370.568538\" x2=\"408.434094\" y1=\"74.056556\" y2=\"74.381240\"/><line marker-end=\"url(#Arrow)\" stroke=\"gray\" stroke-width=\"2\" x1=\"5.000000\" x2=\"12.000000\" y1=\"66.411452\" y2=\"66.411452\"/><line marker-end=\"url(#Arrow)\" stroke=\"gray\" stroke-width=\"2\" x1=\"474.432881\" x2=\"481.432881\" y1=\"74.664194\" y2=\"74.664194\"/></svg>"
       ],
       "text": [
        "<IPython.core.display.SVG at 0x7fb8c0216470>"
       ]
      }
     ],
     "prompt_number": 5
    },
    {
     "cell_type": "code",
     "collapsed": false,
     "input": [
      "batch_size = 20\n",
      "\n",
      "file = open('data/20k.txt')\n",
      "words = []\n",
      "for word in file:\n",
      "    words.append(word)\n",
      "\n",
      "del words[500:]"
     ],
     "language": "python",
     "metadata": {},
     "outputs": [],
     "prompt_number": 6
    },
    {
     "cell_type": "code",
     "collapsed": true,
     "input": [
      "def do_batch(net, pos, batch_size):\n",
      "    cost = 0\n",
      "    grad = net.newGradient()\n",
      "    backprop_count = 0\n",
      "       \n",
      "    for i in range(min(batch_size, len(words) - pos)):\n",
      "        word = words[pos + i]\n",
      "        depth = len(word)\n",
      "\n",
      "        state = net.newState()\n",
      "        state.pipes[net._flink[(1, 0)]].data = np.zeros(shid)\n",
      "        state_stack = [state]\n",
      "\n",
      "        vouts_stack = []\n",
      "\n",
      "        for l in range(depth - 1):\n",
      "            a = idx(word[l])\n",
      "            lin = [0]*size\n",
      "            lin[a] = 1\n",
      "            vins = [np.array(lin)]\n",
      "\n",
      "            # feedforward\n",
      "            state = copy(state)\n",
      "            vouts = net.transmit(state, vins)\n",
      "            state_stack.append(state)\n",
      "            vouts_stack.append(vouts)\n",
      "\n",
      "        error = net.newError()\n",
      "        error.pipes[net._blink[(1, 0)]].data = np.zeros(shid)\n",
      "\n",
      "        for l in range(depth - 1):\n",
      "            a = idx(word[depth - l - 1])\n",
      "            lres = [0]*size\n",
      "            lres[a] = 1\n",
      "            vres = np.array(lres)\n",
      "            vin = vouts_stack.pop()[0]\n",
      "            vout = np.tanh(vin)\n",
      "            verrs = [vout - vres]\n",
      "            cost += np.sum((verrs[0])**2)\n",
      "\n",
      "            # backpropagate\n",
      "            net.backprop(grad, error, state_stack.pop(), verrs)\n",
      "            backprop_count += 1\n",
      "            \n",
      "    grad.mul(1/backprop_count)\n",
      "    return (grad, cost)"
     ],
     "language": "python",
     "metadata": {},
     "outputs": [],
     "prompt_number": 7
    },
    {
     "cell_type": "code",
     "collapsed": false,
     "input": [
      "done = False\n",
      "def signal_handler(signal, frame):\n",
      "    global done\n",
      "    done = True\n",
      "signal.signal(signal.SIGINT, signal_handler)\n",
      "\n",
      "while not done:\n",
      "    cost = 0.0\n",
      "    shuffle(words)\n",
      "\n",
      "    for j in range(math.floor(len(words)/batch_size)):\n",
      "        (grad, lcost) = do_batch(net, j*batch_size, batch_size)\n",
      "        grad.clip(5e0)\n",
      "        net.learn(grad, 1e-4)\n",
      "        cost += lcost\n",
      "\n",
      "    cost /= len(words)\n",
      "    costs.append(cost)\n",
      "\n",
      "    #plt.clf()\n",
      "    fig = plt.figure()\n",
      "    ax = (fig.add_subplot(211), fig.add_subplot(212))\n",
      "    ax[0].plot(costs)\n",
      "    r = (max(len(costs) - 100, 0), len(costs))\n",
      "    ax[1].plot(list(range(r[0],r[1])),costs[r[0]:])\n",
      "    ax[1].text(r[1],cost,str(cost))\n",
      "    #ax = plt.gca()\n",
      "    #ax.set_yscale('log')\n",
      "\n",
      "    display.clear_output(wait=True)\n",
      "\n",
      "    plt.show()\n",
      "    # print('epoch: %d' % epoch)\n",
      "    # print('cost: %f' % cost)\n",
      "    \n",
      "    epoch += 1\n",
      "    \n",
      "'done'"
     ],
     "language": "python",
     "metadata": {},
     "outputs": [
      {
       "metadata": {},
       "output_type": "display_data",
       "png": "[encoded data removed]",
       "text": [
        "<matplotlib.figure.Figure at 0x7fb8bb57c160>"
       ]
      },
      {
       "metadata": {},
       "output_type": "pyout",
       "prompt_number": 35,
       "text": [
        "'done'"
       ]
      }
     ],
     "prompt_number": 35
    },
    {
     "cell_type": "code",
     "collapsed": false,
     "input": [
      "alphabet = 'abcdefghijklmnopqrstuvwxyz'\n",
      "\n",
      "for j in range(len(alphabet)):\n",
      "\n",
      "    state = net.newState()\n",
      "    state.pipes[net._flink[(1, 0)]].data = np.zeros(shid)\n",
      "\n",
      "    a = idx(alphabet[j])\n",
      "    print(alphabet[j], end='')\n",
      "\n",
      "    for i in range(0x40):\n",
      "        lin = [0]*size\n",
      "        lin[a] = 1\n",
      "        vins = [np.array(lin)]\n",
      "        vouts = net.transmit(state, vins)\n",
      "        a = np.argmax(vouts[0])\n",
      "        letter = char(a)\n",
      "\n",
      "        if letter == '\\n':\n",
      "            break\n",
      "        print(letter, end='')\n",
      "    print()"
     ],
     "language": "python",
     "metadata": {},
     "outputs": [
      {
       "output_type": "stream",
       "stream": "stdout",
       "text": [
        "are\n",
        "bete\n",
        "cote\n",
        "dese\n",
        "eve\n",
        "fose\n",
        "goe\n",
        "hote\n",
        "ine\n",
        "jote\n",
        "ktre\n",
        "lite\n",
        "mate\n",
        "note\n",
        "ona\n",
        "prte\n",
        "qute\n",
        "rete\n",
        "see\n",
        "thte\n",
        "use\n",
        "via\n",
        "whe\n",
        "xve\n",
        "yoe\n",
        "zlte\n"
       ]
      }
     ],
     "prompt_number": 36
    },
    {
     "cell_type": "code",
     "collapsed": true,
     "input": [],
     "language": "python",
     "metadata": {},
     "outputs": [],
     "prompt_number": null
    }
   ],
   "metadata": {}
  }
 ]
}