{
 "metadata": {
  "kernelspec": {
   "display_name": "Python 3",
   "language": "python",
   "name": "python3"
  },
  "language_info": {
   "codemirror_mode": {
    "name": "ipython",
    "version": 3
   },
   "file_extension": ".py",
   "mimetype": "text/x-python",
   "name": "python",
   "nbconvert_exporter": "python",
   "pygments_lexer": "ipython3",
   "version": "3.5.1"
  },
  "name": "",
  "signature": "sha256:6f2b8467c44a8258b23ef261bf3316cc7a447d7300c1f10f15465281b14ca7cc"
 },
 "nbformat": 3,
 "nbformat_minor": 0,
 "worksheets": [
  {
   "cells": [
    {
     "cell_type": "markdown",
     "metadata": {},
     "source": [
      "### Book generator\n",
      "Network are learned to predict next letter in a book.\n",
      "After that it creates its own stories by passing output letter to input.\n",
      "Inspired by [article](karpathy.github.io/2015/05/21/rnn-effectiveness/) by Andrej Karpathy"
     ]
    },
    {
     "cell_type": "markdown",
     "metadata": {},
     "source": [
      "Here we set up plot inlining options and its size:"
     ]
    },
    {
     "cell_type": "code",
     "collapsed": false,
     "input": [
      "%matplotlib inline\n",
      "import matplotlib\n",
      "matplotlib.rcParams['figure.figsize'] = (12, 8)\n",
      "from IPython import display\n",
      "import sys\n",
      "sys.path.append('../libs')"
     ],
     "language": "python",
     "metadata": {},
     "outputs": [],
     "prompt_number": 1
    },
    {
     "cell_type": "markdown",
     "metadata": {},
     "source": [
      "Import modules:"
     ]
    },
    {
     "cell_type": "code",
     "collapsed": false,
     "input": [
      "import pynn as nn\n",
      "import pynnui as nnui\n",
      "import math\n",
      "from math import floor\n",
      "from copy import copy\n",
      "import numpy as np\n",
      "from matplotlib import pyplot as plt\n",
      "import signal"
     ],
     "language": "python",
     "metadata": {},
     "outputs": [],
     "prompt_number": 2
    },
    {
     "cell_type": "markdown",
     "metadata": {},
     "source": [
      "Load book:"
     ]
    },
    {
     "cell_type": "code",
     "collapsed": false,
     "input": [
      "data = open('data/witcher_rus.txt', 'r', encoding='utf-8').read()\n",
      "chars = sorted(list(set(data)))\n",
      "\n",
      "size = len(chars)\n",
      "\n",
      "print('data length: %d, unique chars: %d' % (len(data), size))\n",
      "print(chars)"
     ],
     "language": "python",
     "metadata": {},
     "outputs": [
      {
       "output_type": "stream",
       "stream": "stdout",
       "text": [
        "data length: 4508884, unique chars: 141\n",
        "['\\t', '\\n', ' ', '!', '\"', '#', \"'\", '(', ')', '*', ',', '-', '.', '0', '1', '2', '3', '4', '5', '6', '7', '8', '9', ':', ';', '?', 'A', 'B', 'C', 'D', 'E', 'F', 'G', 'H', 'I', 'J', 'K', 'L', 'M', 'N', 'O', 'P', 'Q', 'R', 'S', 'T', 'U', 'V', 'W', 'X', 'Y', 'Z', 'a', 'b', 'c', 'd', 'e', 'f', 'g', 'h', 'i', 'k', 'l', 'm', 'n', 'o', 'p', 'q', 'r', 's', 't', 'u', 'v', 'w', 'x', 'y', 'z', '\u0410', '\u0411', '\u0412', '\u0413', '\u0414', '\u0415', '\u0416', '\u0417', '\u0418', '\u0419', '\u041a', '\u041b', '\u041c', '\u041d', '\u041e', '\u041f', '\u0420', '\u0421', '\u0422', '\u0423', '\u0424', '\u0425', '\u0426', '\u0427', '\u0428', '\u0429', '\u042b', '\u042c', '\u042d', '\u042e', '\u042f', '\u0430', '\u0431', '\u0432', '\u0433', '\u0434', '\u0435', '\u0436', '\u0437', '\u0438', '\u0439', '\u043a', '\u043b', '\u043c', '\u043d', '\u043e', '\u043f', '\u0440', '\u0441', '\u0442', '\u0443', '\u0444', '\u0445', '\u0446', '\u0447', '\u0448', '\u0449', '\u044a', '\u044b', '\u044c', '\u044d', '\u044e', '\u044f', '\u0451']\n"
       ]
      }
     ],
     "prompt_number": 3
    },
    {
     "cell_type": "markdown",
     "metadata": {},
     "source": [
      "Char to index and back conversion:"
     ]
    },
    {
     "cell_type": "code",
     "collapsed": true,
     "input": [
      "ci = { ch:i for i,ch in enumerate(chars) }\n",
      "ic = { i:ch for i,ch in enumerate(chars) }"
     ],
     "language": "python",
     "metadata": {},
     "outputs": [],
     "prompt_number": 4
    },
    {
     "cell_type": "markdown",
     "metadata": {},
     "source": [
      "Hyperparameters:"
     ]
    },
    {
     "cell_type": "code",
     "collapsed": true,
     "input": [
      "seq_len = 25\n",
      "shid = 100\n",
      "rate = 1e-1\n",
      "clip = 5e0"
     ],
     "language": "python",
     "metadata": {},
     "outputs": [],
     "prompt_number": 5
    },
    {
     "cell_type": "markdown",
     "metadata": {},
     "source": [
      "To learn our network we use [BPTT](https://en.wikipedia.org/wiki/Backpropagation_through_time) with [SGD](https://en.wikipedia.org/wiki/Stochastic_gradient_descent) plus [AdaGrad](https://en.wikipedia.org/wiki/Stochastic_gradient_descent#AdaGrad). [Softmax](https://en.wikipedia.org/wiki/Softmax_function) loss is used."
     ]
    },
    {
     "cell_type": "code",
     "collapsed": false,
     "input": [
      "class Entry:\n",
      "    def __init__(self, ichar, ochar):\n",
      "        self.ichar = ichar\n",
      "        self.ochar = ochar\n",
      "\n",
      "    def getinput(self, buf):\n",
      "        nn.array.clear(buf)\n",
      "        buf.np[self.ichar] = 1.\n",
      "\n",
      "    def getouptut(self, buf):\n",
      "        nn.array.clear(buf)\n",
      "        buf.np[self.ochar] = 1.\n",
      "\n",
      "\n",
      "class Text:\n",
      "    def __init__(self, text):\n",
      "        self.text = text\n",
      "\n",
      "    def __getitem__(self, i):\n",
      "        return Entry(ci[self.text[i]], ci[self.text[i + 1]])\n",
      "\n",
      "    def __len__(self):\n",
      "        return len(self.text) - 1\n",
      "\n",
      "\n",
      "def BGen(data, seqlen):\n",
      "    for i in range(0, len(data), seqlen):\n",
      "        text = data[i:(i + seqlen + 1)]\n",
      "        if len(text) > 0:\n",
      "            yield Text(text),\n",
      "\n",
      "\n",
      "def EGen(data, seqlen):\n",
      "    while True:\n",
      "        yield BGen(data, seqlen)"
     ],
     "language": "python",
     "metadata": {},
     "outputs": [],
     "prompt_number": 6
    },
    {
     "cell_type": "markdown",
     "metadata": {},
     "source": [
      "Define recurrent subnetwork:"
     ]
    },
    {
     "cell_type": "code",
     "collapsed": false,
     "input": [
      "class Feedback(nn.Network):\n",
      "    def __init__(self, size):\n",
      "        nn.Network.__init__(self, size, size)\n",
      "        \n",
      "        self.addnodes([\n",
      "            nn.Matrix(size, size),\n",
      "            nn.Join(size),\n",
      "            nn.Bias(size),\n",
      "            nn.Tanh(size),\n",
      "            nn.Fork(size)\n",
      "        ])\n",
      "\n",
      "        self.connect([\n",
      "            nn.Path(0, (1, 1)),\n",
      "            nn.Path(1, 2),\n",
      "            nn.Path(2, 3),\n",
      "            nn.Path(3, 4),\n",
      "            nn.Path((4, 1), 0, mem=True),\n",
      "        ])\n",
      "        \n",
      "        self.setinputs((1, 0))\n",
      "        self.setoutputs((4, 0))\n",
      "\n",
      "display.SVG(data=nnui.Graph(Feedback(shid)).svg())"
     ],
     "language": "python",
     "metadata": {},
     "outputs": [
      {
       "metadata": {},
       "output_type": "pyout",
       "prompt_number": 7,
       "svg": [
        "<svg height=\"165\" version=\"1.1\" width=\"257\" xmlns=\"http://www.w3.org/2000/svg\">\n",
        "\t\t<marker id=\"Arrow\" markerHeight=\"6\" markerUnits=\"strokeWidth\" markerWidth=\"6\" orient=\"auto\" refX=\"2\" refY=\"0\" viewBox=\"-3 -3 6 6\">\n",
        "\t\t<polygon fill=\"gray\" points=\"-1,0 -3,3 3,0 -3,-3\"/>\n",
        "\t\t</marker>\n",
        "\t\t<circle cx=\"128.944160\" cy=\"45.000000\" fill=\"orange\" r=\"30.000000\"/><text fill=\"white\" font-family=\"Verdana\" font-size=\"15.000000\" text-anchor=\"middle\" x=\"128.944160\" y=\"49.500000\">Matrix</text><circle cx=\"45.000000\" cy=\"48.062354\" fill=\"orange\" r=\"30.000000\"/><text fill=\"white\" font-family=\"Verdana\" font-size=\"15.000000\" text-anchor=\"middle\" x=\"45.000000\" y=\"52.562354\">Join</text><circle cx=\"86.944160\" cy=\"120.840699\" fill=\"orange\" r=\"30.000000\"/><text fill=\"white\" font-family=\"Verdana\" font-size=\"15.000000\" text-anchor=\"middle\" x=\"86.944160\" y=\"125.340699\">Bias</text><circle cx=\"170.944160\" cy=\"120.840699\" fill=\"orange\" r=\"30.000000\"/><text fill=\"white\" font-family=\"Verdana\" font-size=\"15.000000\" text-anchor=\"middle\" x=\"170.944160\" y=\"125.340699\">Tanh</text><circle cx=\"212.888320\" cy=\"48.062354\" fill=\"orange\" r=\"30.000000\"/><text fill=\"white\" font-family=\"Verdana\" font-size=\"15.000000\" text-anchor=\"middle\" x=\"212.888320\" y=\"52.562354\">Fork</text><line marker-end=\"url(#Arrow)\" stroke=\"gray\" stroke-width=\"2\" x1=\"95.966097\" x2=\"77.978063\" y1=\"46.203068\" y2=\"46.859286\"/><line marker-end=\"url(#Arrow)\" stroke=\"gray\" stroke-width=\"2\" x1=\"61.478063\" x2=\"70.466097\" y1=\"76.653847\" y2=\"92.249206\"/><line marker-end=\"url(#Arrow)\" stroke=\"gray\" stroke-width=\"2\" x1=\"119.944160\" x2=\"137.944160\" y1=\"120.840699\" y2=\"120.840699\"/><line marker-end=\"url(#Arrow)\" stroke=\"gray\" stroke-width=\"2\" x1=\"187.422223\" x2=\"196.410257\" y1=\"92.249206\" y2=\"76.653847\"/><line marker-end=\"url(#Arrow)\" stroke=\"gray\" stroke-width=\"2\" x1=\"179.910257\" x2=\"161.922223\" y1=\"46.859286\" y2=\"46.203068\"/><line marker-end=\"url(#Arrow)\" stroke=\"gray\" stroke-width=\"2\" x1=\"5.000000\" x2=\"12.000000\" y1=\"48.062354\" y2=\"48.062354\"/><line marker-end=\"url(#Arrow)\" stroke=\"gray\" stroke-width=\"2\" x1=\"245.888320\" x2=\"252.888320\" y1=\"48.062354\" y2=\"48.062354\"/></svg>"
       ],
       "text": [
        "<IPython.core.display.SVG at 0x7f7433b18630>"
       ]
      }
     ],
     "prompt_number": 7
    },
    {
     "cell_type": "markdown",
     "metadata": {},
     "source": [
      "Define network structure:"
     ]
    },
    {
     "cell_type": "code",
     "collapsed": false,
     "input": [
      "net = nn.Network(size, size)\n",
      "\n",
      "net.addnodes([\n",
      "    nn.Matrix(size, shid),\n",
      "    Feedback(shid),\n",
      "    nn.Matrix(shid, size),\n",
      "    nn.Bias(size),\n",
      "    nn.SoftmaxLoss(size)\n",
      "])\n",
      "\n",
      "net.connect([\n",
      "    nn.Path(0, 1),\n",
      "    nn.Path(1, 2),\n",
      "    nn.Path(2, 3),\n",
      "    nn.Path(3, 4)\n",
      "])\n",
      "\n",
      "net.setinputs(0)\n",
      "net.setoutputs(4)\n",
      "\n",
      "display.SVG(data=nnui.Graph(net).svg())"
     ],
     "language": "python",
     "metadata": {},
     "outputs": [
      {
       "metadata": {},
       "output_type": "pyout",
       "prompt_number": 8,
       "svg": [
        "<svg height=\"90\" version=\"1.1\" width=\"426\" xmlns=\"http://www.w3.org/2000/svg\">\n",
        "\t\t<marker id=\"Arrow\" markerHeight=\"6\" markerUnits=\"strokeWidth\" markerWidth=\"6\" orient=\"auto\" refX=\"2\" refY=\"0\" viewBox=\"-3 -3 6 6\">\n",
        "\t\t<polygon fill=\"gray\" points=\"-1,0 -3,3 3,0 -3,-3\"/>\n",
        "\t\t</marker>\n",
        "\t\t<circle cx=\"45.000000\" cy=\"45.000780\" fill=\"orange\" r=\"30.000000\"/><text fill=\"white\" font-family=\"Verdana\" font-size=\"15.000000\" text-anchor=\"middle\" x=\"45.000000\" y=\"49.500780\">Matrix</text><circle cx=\"129.000000\" cy=\"45.000586\" fill=\"blue\" r=\"30.000000\"/><text fill=\"white\" font-family=\"Verdana\" font-size=\"12.000000\" text-anchor=\"middle\" x=\"129.000000\" y=\"48.600586\">Feedback</text><circle cx=\"213.000001\" cy=\"45.000390\" fill=\"orange\" r=\"30.000000\"/><text fill=\"white\" font-family=\"Verdana\" font-size=\"15.000000\" text-anchor=\"middle\" x=\"213.000001\" y=\"49.500390\">Matrix</text><circle cx=\"297.000001\" cy=\"45.000194\" fill=\"orange\" r=\"30.000000\"/><text fill=\"white\" font-family=\"Verdana\" font-size=\"15.000000\" text-anchor=\"middle\" x=\"297.000001\" y=\"49.500194\">Bias</text><circle cx=\"381.000001\" cy=\"45.000000\" fill=\"red\" r=\"30.000000\"/><text fill=\"white\" font-family=\"Verdana\" font-size=\"13.714286\" text-anchor=\"middle\" x=\"381.000001\" y=\"49.114286\">Softmax</text><line marker-end=\"url(#Arrow)\" stroke=\"gray\" stroke-width=\"2\" x1=\"78.000000\" x2=\"96.000000\" y1=\"45.000704\" y2=\"45.000662\"/><line marker-end=\"url(#Arrow)\" stroke=\"gray\" stroke-width=\"2\" x1=\"162.000000\" x2=\"180.000001\" y1=\"45.000509\" y2=\"45.000467\"/><line marker-end=\"url(#Arrow)\" stroke=\"gray\" stroke-width=\"2\" x1=\"246.000001\" x2=\"264.000001\" y1=\"45.000313\" y2=\"45.000271\"/><line marker-end=\"url(#Arrow)\" stroke=\"gray\" stroke-width=\"2\" x1=\"330.000001\" x2=\"348.000001\" y1=\"45.000118\" y2=\"45.000076\"/><line marker-end=\"url(#Arrow)\" stroke=\"gray\" stroke-width=\"2\" x1=\"5.000000\" x2=\"12.000000\" y1=\"45.000780\" y2=\"45.000780\"/><line marker-end=\"url(#Arrow)\" stroke=\"gray\" stroke-width=\"2\" x1=\"414.000001\" x2=\"421.000001\" y1=\"45.000000\" y2=\"45.000000\"/></svg>"
       ],
       "text": [
        "<IPython.core.display.SVG at 0x7f7433a7a6d8>"
       ]
      }
     ],
     "prompt_number": 8
    },
    {
     "cell_type": "code",
     "collapsed": true,
     "input": [
      "factory = nn.array.newFactory()\n",
      "state = net.newState(factory)"
     ],
     "language": "python",
     "metadata": {},
     "outputs": [],
     "prompt_number": 9
    },
    {
     "cell_type": "markdown",
     "metadata": {},
     "source": [
      "Iterators, counters and state:"
     ]
    },
    {
     "cell_type": "code",
     "collapsed": false,
     "input": [
      "class Plotter:\n",
      "    def __init__(self, bsize, esize, freq, iloss=0.):\n",
      "        self.bsize = bsize\n",
      "        self.batch = 0\n",
      "        self.esize = esize\n",
      "        self.epoch = 0\n",
      "        self.freq = freq\n",
      "        \n",
      "        self.sloss = iloss\n",
      "        self.losses = []\n",
      "        self.epochs = []\n",
      "        \n",
      "    def _epoch(self, loss):\n",
      "        self.epoch += 1\n",
      "        self.batch = 0\n",
      "        \n",
      "    def _batch(self, loss):\n",
      "        self.sloss = 0.999*self.sloss + 0.001*loss\n",
      "        self.batch += 1\n",
      "        if ((self.batch + 1) % self.freq) == 0:\n",
      "            sepoch = self.epoch + min(1.0, self.batch/self.esize)\n",
      "            self.epochs.append(sepoch)\n",
      "            self.losses.append(self.sloss)\n",
      "\n",
      "            fig = plt.figure()\n",
      "            ax = fig.add_subplot(111)\n",
      "            ax.plot(self.epochs, self.losses)\n",
      "            ax.text(sepoch, self.sloss, str(self.sloss))\n",
      "\n",
      "            display.clear_output(wait=True)\n",
      "\n",
      "            plt.show()\n",
      "        \n",
      "plotter = Plotter(1, (len(data) - 1)//seq_len + 1, 100, -np.log(1/size)*seq_len)"
     ],
     "language": "python",
     "metadata": {},
     "outputs": [],
     "prompt_number": 10
    },
    {
     "cell_type": "code",
     "collapsed": true,
     "input": [
      "class Watchdog:\n",
      "    class BMon:\n",
      "        def __init__(self, outer):\n",
      "            self.outer = outer\n",
      "            \n",
      "        def __call__(self, ctx):\n",
      "            self.outer._bmon(ctx)\n",
      "            \n",
      "    class EMon:\n",
      "        def __init__(self, outer):\n",
      "            self.outer = outer\n",
      "            \n",
      "        def __call__(self, ctx):\n",
      "            self.outer._emon(ctx)\n",
      "\n",
      "    def __init__(self, plotter, imem):\n",
      "        self.bmon = self.BMon(self)\n",
      "        self.emon = self.EMon(self)\n",
      "        self.stop = False\n",
      "        self.plotter = plotter\n",
      "        self.imem = imem\n",
      "\n",
      "    def _bmon(self, teacher):\n",
      "        self.plotter._batch(teacher.ctx.loss)\n",
      "        if self.stop:\n",
      "            self.stop = False\n",
      "            raise StopIteration\n",
      "            \n",
      "    def _emon(self, teacher):\n",
      "        self.plotter._epoch(teacher.ctx.loss)\n",
      "            \n",
      "    def _stop(self):\n",
      "        self.stop = True\n",
      "            \n",
      "watchdog = Watchdog(plotter, state.newMemory(factory))"
     ],
     "language": "python",
     "metadata": {},
     "outputs": [],
     "prompt_number": 11
    },
    {
     "cell_type": "code",
     "collapsed": false,
     "input": [
      "teacher = nn.Teacher(\n",
      "    factory, EGen(data, seq_len), net, state,\n",
      "    adagrad=True, rate=rate, clip=clip, maxlen=seq_len, \n",
      "    bmon=watchdog.bmon, emon=watchdog.emon,\n",
      "    smem=True\n",
      ")"
     ],
     "language": "python",
     "metadata": {},
     "outputs": [],
     "prompt_number": 12
    },
    {
     "cell_type": "markdown",
     "metadata": {},
     "source": [
      "Main learning loop. You can interrupt it and continue whenever you want."
     ]
    },
    {
     "cell_type": "code",
     "collapsed": false,
     "input": [
      "signal.signal(signal.SIGINT, lambda s, f: watchdog._stop())\n",
      "ctx = teacher.teach()"
     ],
     "language": "python",
     "metadata": {},
     "outputs": [
      {
       "metadata": {},
       "output_type": "display_data",
       "png": "[encoded data removed]",
       "text": [
        "<matplotlib.figure.Figure at 0x7f7433707f60>"
       ]
      }
     ],
     "prompt_number": 13
    },
    {
     "cell_type": "markdown",
     "metadata": {},
     "source": [
      "Generate text from current position and state:"
     ]
    },
    {
     "cell_type": "code",
     "collapsed": false,
     "input": [
      "feeder = nn.Feeder(factory, net, ctx.state)\n",
      "\n",
      "ch = data[plotter.batch*seq_len]\n",
      "a = ci[ch]\n",
      "print(ch, end='')\n",
      "feed = feeder.feed()\n",
      "\n",
      "for i in range(4000):\n",
      "    Entry(a, 0).getinput(feeder.src)\n",
      "    next(feed)\n",
      "    a = np.random.choice(range(size), p=feeder.dst.get())\n",
      "    ch = ic[a]\n",
      "\n",
      "    print(ch, end='')\n",
      "print()"
     ],
     "language": "python",
     "metadata": {},
     "outputs": [
      {
       "output_type": "stream",
       "stream": "stdout",
       "text": [
        " \u0438\u0432\u043e\u044f\u0447\u0438 \u043e\u0442\u0438\u0434\u0442\u0435\u043b \u043c\u044b\u043d\u0443 \u0434\u0440\u0438\u0436\u0435\u043b\u0438 \u0441 \u0436\u0432\u0430\u0437\u043b\u044f\u0447\u044f \u043d\u0435\u0437 \u0441\u043a\u0430 \u0432\u0437\u0442\u0435\u0442\u0435\u043c \u0433\u043e\u043f\u043e \u043e\u0433\u043b\u0443\u0432\u043d\u044b \u0442\u0435 \u0447\u0435\u043b\u0448\u0435\u0446 \u0440\u0435\u0434"
       ]
      },
      {
       "output_type": "stream",
       "stream": "stdout",
       "text": [
        "\u0435\u0449\u0435\u043d?\n",
        "\n",
        "- \u042f\u0442\u044c?\n",
        "\n",
        "- \u042f \u0438 \u043a\u043b\u044e\u0437\u0430 \u0432\u0438\u043f\u0435\u043d\u0442\u044b\u0438, \u0447\u0435\u043b\u043e\u0432\u0438\u043b\u044f, \u0442\u0430\u043a\u0430\u0434\u044c \u0434\u0440\u043e\u0441\u0442\u0435\u043b\u043e\u0432 \u0438 \u043f\u0440\u0443\u0447\u0435\u0447\u0435\u043b\u0443 \u0443 \u0432\u043e\u043b\u044c\u0442\u044b \u043f\u043e\u043c\u0443\u0434\u0435 \u0440\u0443\u043a\u0430\u043a\u0438\u0442\u0434\u043e. \u0414\u043e\u0432\u0430\u0440\u0449\u0438\u0445 \u0442\u043e\u043b\u044c\u043a\u0430\u044e \u0432 \u043a\u0441\u0435\u043b\u043e\u043c \u0443\u0448\u0435\u043b \u0410 \u043f\u0443\u043a\u0435\u0432\u0430\u0445, \u043d\u0430\u0443\u043b\u043b\u044c, \u0441 \u0431 \u0443\u043f\u044c\u044e. \u041f\u043e\u0436\u0435 \u043f\u044b\u0440\u0430\u043b\u0430 \u043d\u0430 \u0431\u0443\u0432\u0435\u0440\u0441\u0442\u043e\u0435, \u043f\u0440\u0435\u0445\u043d\u044f \u043d\u0438 \u0442\u0435\u0441\u0443 \u0437\u0435\u0440"
       ]
      },
      {
       "output_type": "stream",
       "stream": "stdout",
       "text": [
        "\u0442\u0435\u043d\u043d\u044b\u043c \u043d\u0435 \u0443\u0447\u0430\u0440\u043b\u044e\u0434\u0438\u0435 \u0441\u043d\u0435\u0442 \u0431\u0435\u0440\u044c\u043c\u043e \u043c\u0430\u0431\u043e \u0438 \u0438\u0437 \u0440\u0430\u043d\u044f, \u043a\u043a\u0438 \u0432\u043e\u0442\u043a\u043e \u0441 \u0431\u0435\u043b\u044f\u0449\u0438\u044f, \u0440\u0430\u0431\u043e\u0447\u043d\u043e \u044d\u0442\u0432\u044d\u0446\u0430 \u0441\u0445\u043b\u0438\u0442 \u0445\u043e\u0434\u043d\u0430\u044f\u0442\u0435 \u043f\u0440\u0435\u0440\u043b\u0435\u0441\u043a\u0430 \u0447\u0435\u0440\u043e\u0432\u0435 \u0441\u043f\u043e\u043a \u043f\u043e\u043f\u0435\u0440\u043e\u0432\u0438\u043d\u0443\u0435\u043c\u0438\u0441\u044c - \u0442\u0435\u0431\u044b \u043f\u0440"
       ]
      },
      {
       "output_type": "stream",
       "stream": "stdout",
       "text": [
        "\u0438\u043c\u0430\u0445.\n",
        "\n",
        "- \u0410 \u043f\u043e\u0442\u043b\u0435\u043c\u0438\u043a \u0437\u0430\u043f\u0438\u043a\u043d\u044b \u0441\u0441\u0435\u0440\u0440\u0438\u043d\u043e\u043d, \u0441\u0440\u043e\u0434\u043e\u0439 \u044d\u043b\u0435\u0448\u0443\u0438, \u0418 \u043d\u0443 \u0437\u043e\u043d\u0430\u043a\u0430\u043c. \u0412 \u043f\u0440\u0438 \u0447\u0442\u043e\u0439. \u0412\u0438\u0442\u043e\u043c \u0438\u0445 \u0434\u043e\u0447\u0447\u0430\u043b \u0441\u0435\u043d\u0435, \u042f \u043d\u0430\u043a\u0430\u043b \u0434\u0440\u043e\u043c, -\u0448\u0435\u043c\u043e\u0435\u0441\u043a. \u0418 \u043f\u043e\u043c\u043d\u043e \u0438 \u0437\u0431\u0430\u0434\u044f\u0437\u0430\u043b. \u041f\u043e\u0447\u0442\u043e\u043d \u043f\u0443\u0436\u0430\u043b\u043e\u043c \u0436\u043d\u043a\u0430\u043a\u0430\u0435\u0442, \u043f\u043e\u043d\u043e\u043b\u044f? \u041e\u043d\u0430\u0442\u0438\u043b\u044e.\n",
        "\n",
        "- \u0419\u043d\u0443\u043b\u044c\u043a, \u043c\u044b \u0441\u043a\u0440\u0443\u0442\u0430\u043b \u0438"
       ]
      },
      {
       "output_type": "stream",
       "stream": "stdout",
       "text": [
        "\u0441\u0442\u043e\u043a\u0430\u0442\u044c \u0432\u044b\u0440\u044f\u0435\u0434\u043a\u0430 \u043e\u0448\u0435\u0441\u0442 \u0442\u0435\u043d\u0438, -\u0435\u043d \u043f\u043e\u043b\u044e\u0447\u0430\u0440\u0438, \u0438 \u043c\u043e\u0434\u044c\u0448\u0435\u0440\u043d\u044b, \u043a\u043e\u043b\u043e\u043a, \u0446\u0435\u0433\u043e \u0436\u0435\u043d\u043d\u0435, \u0438 \u043e\u0436\u0430\u043b \u0431\u044b\u043b\u0438\u0434 \u043f\u0440\u043e\u0439 \u043c\u043d\u0435\u0440\u0435\u044e\u0442\u0432\u0430\u0432\u044b\u043c\u0430, \u0414\u044b\u0433\u043e\u0434\u043d\u043e\u0432 \u0447\u0440\u043e\u0439\u0441\u0442\u043e \u0441\u0435\u043d\u0441\u044f\u043c\u043d\u0442\u0435 \u043f\u043e\u043b\u0430\u043c\u0430\u043d \u0441\u043f\u043e\u043b \u043d\u0443 \u0432 \u0441\u0442\u0438\u0432 \u0438\u0432\u0442\u043e\u0441\u0442\u043d\u044f\u043b \u0432\u0441\u0435\u0442\u0435\u043b \u0435\u043b\u044f. \u041f\u0440\u043e\u043d\u0438\u0447\u0438\u0435\u0441\u044c \u043b\u044b\u043f\u0430\u043c\u0438\u0435. \u041d\u0430 \u0432\u043e\u0440\u044b\u043a\u0430"
       ]
      },
      {
       "output_type": "stream",
       "stream": "stdout",
       "text": [
        "\u043e \u0447\u0435\u043b\u044c\u043a \u043e\u0433\u0440\u043a\u0440\u0438\u043b\u043e\u043d\u0438\u0435\u043b \u0438 \u0432 \u0441\u0435\u0432\u0435\u0431\u0430\u0442\u044c \u043f\u043e\u043c\u0441\u0435\u0437 \u0431\u043e\u0440\u043e \u0432\u043e\u043d\u043e\u043c \u0432\u0438\u0441\u0442\u043e\u0440\u0430\u0441\u043a\u0438 \u043a\u043e\u043c\u0437\u0433\u0440\u0430 \u0441\u0442\u0435\u0440\u0436\u0435\u0448\u0435\u0433\u043e\u0439.\n",
        "\n",
        "\u0413\u0435\u043b\u0430\u043d, \u0441\u0447\u0430\u0449\u0435\u0433\u043e\u0439 \u0433\u0440\u0435\u043b\u0435\u0440 \u043d\u0435\u0442\u0430\u043b\u0438 \u043e\u0433\u0440\u043e\u0435\u043d\u043e\u0440\u0445\u043e \u043f\u0440\u0435\u043c.\n",
        "\n",
        "\u041a\u0430\u043a\u0438\u043c\u0435\u0433\u0438\u0442\u044c \u0440\u0430\u043a\u043d\u0443\u043b\u044c, \u043f\u043e\u0448\u0434\u0435\u043b\u0435. \u0422\u043e\u043c\u0442\u0435 \u043c\u044f\u0437\u0430\u043b \u0441\u043a\u043e\u0432\u043a\u0443\u0447\u0438\u043b \u043a\u0432\u043e\u0442\u0440\u0438\u0431\u0438\u0446\u0435\u0434\u043b\u043e \u0438 \u0441\u0430 \u043e\u0442\u043c\u0435\u0448\u044c, \u043a\u043e\u043b\u0440\u0443\u0436\u043d\u0438\u043c \u0435\u043d, \u044f \u043c\u0435\u0447\u0442\u0435\u043b \u043c\u0434"
       ]
      },
      {
       "output_type": "stream",
       "stream": "stdout",
       "text": [
        "\u0435\u043b\u0430\u043b \u0432 \u0441\u043b\u0430 -\u0435\u0441\u0442\u0430\u0432\u0448\u043e\u043c, \u043f\u043e\u043b\u043c\u0430 \u0438 \u0442\u043e \u0432\u0430\u0434\u043a\u0430 \u0442\u043e\u0436\u0430\u043c\u0430\u0441\u044c \u043e\u0442\u043e\u043b\u044c\u0442 \u043c\u0430\u043a. \u0418 \u043d\u0435 \u0437\u0438\u0434\u044c\u043d\u0443 \u0432 \u0433\u044b \u0433\u0440\u043e\u0435\u043b\u043e\u043d\u0438\u0442\u0441\u044f \u0438\u043d\u0430\u0438\u0442, \u043f- \u0443\u0441\u043f\u0443\u043b\u044b\u0448\u044c \u0432\u043d\u043d\u0443\u044e\u0442\u044c, \u043c\u0435\u0435\u0448\u0438. \u0412\u043e\u0434\u043b\u043e\u0442 \u043d\u0435 \u043f\u0440\u043e\u0434\u0438\u0432\u0435\u043c, \u0434\u0443\u043b\u0438\u043f\u044b \u0432 \u043a\u043d\u043e \u0441\u0438\u0431\u0435\u0440\u0430\u0441\u044c - \u0414\u0443\u043b\u044c \u0437\u043f\u043e\u0447\u0438\u0440\u043d\u043e \u0434\u0435\u0448\u043d\u0435\u0433\u043e \u0430\u043d \u043c\u0430\u043d\u043e\u0435\u0439\u0432\u0438 \u0441 \u043f\u0435\u0440\u0435"
       ]
      },
      {
       "output_type": "stream",
       "stream": "stdout",
       "text": [
        "\u043b \u043d\u0434\u0435\u0445\u0430\u044f, \u043d\u0430\u0437\u0438\u0435\u0447\u043d\u043e\u043d\u043d\u044b \u0434\u043f\u0438\u0435\u0441\u0442\u0443 \u0441\u0442\u043e \u043f\u043e\u0447\u0430\u043b\u0443\u0445\u043d\u044f \u0436\u0435\u0434\u043c\u0435\u043a\u0430 \u043a\u0443\u043f\u043c\u0435\u043d\u0438\u0439 \u0447\u0442\u043e \u043a\u0430\u0435\u0442\u043d\u0438\u0444\u0432\u0435\u0442\u044c\u043c\u0430. \u0422\u0435\u0442\u043e, \u0433\u043e\u0442\u043e\u043c \u0438 \u0432\u0430\u043a\u043e\u043d\u0442\u043e\u0448\u0435\u043a\u043d\u0438\u0431\u0435\u043b \u0414\u043e\u0441\u0442\u0438 \u043f\u0440\u043e\u0434\u0435\u0440\u043d\u044f, \u043a\u0430\u0437\u0435\u0441\u0435\u043b \u044d\u0442\u043e\u0431\u043e\u044f \u0447\u0435\u0433\u043e \u043f\u0440\u0430\u0441\u0430\u0441\u044c\u0432\u0430\u0440\u0435\u0441\u044c \u0431\u043e\u043a\u0438 \u0441\u0435\u0448\u043b\u0430\u0434\u044c\u0442\u044f\u0433\u0438\u0439 \u0443\u0434\u0435\u0448\u0440\u0438. \u042d\u0440\u0438 \u043d\u0430\u0437\u0430\u043b\u044c\u0442 \u0440\u043e\u0433\u043e\u0441\u0442\u0432\u0443 \u0442\u0432\u0435\u043c."
       ]
      },
      {
       "output_type": "stream",
       "stream": "stdout",
       "text": [
        ". - \u0427\u0438\u0431\u0435\u0445 \u0431\u0440\u0430\u0448\u0430\u043b\u0438\u043d\u043d\u0438\u043a\u043e \u0441\u043f\u0435\u0437\u0434\u0438, \u0438\u043d\u0438\u044f \u043f\u0440\u0438\u0442\u0430\u043b\u0443\u0441\u044b\u044d \u043b\u0435\u0448\u0438\u044f \u044d\u0442\u043e \u043f\u0435\u0441\u0442\u0443\u0431\u043a\u0438\u0442 \u0431\u044b\u043b\u043e\u0436\u043d\u044f, \u043a\u0430\u0437\u043a\u0438 \u043f\u0440\u043e\u0446\u043d\u0435\u0441\u044f \u0435\u0435\u0448\u044c, \u043f\u043e\u043b\u043e\u0434\u0438\u0438\u043d\u0443.\n",
        "\n",
        "- \u041f\u043e\u0435\u043a \u0431\u0443\u0434\u043b\u0438 \u043f\u044b\u0442\u043e\u0441\u043d\u043e \u043f\u0440\u0435\u0434\u0442\u0435\u043d \u043c\u0435\u0441\u043b\u044f\u044e\u043d\u043d\u044b\u0435 \u0442\u044b \u0434\u043e\u0433\u0430\u0441, \u0443\u0441\u043a\u043e \u043f\u043e\u043b\u043e\u043d\u043e\u0435 \u0413\u0443\u0440\u043a\u0435\u0442 \u0446\u0435\u043f\u0435\u0442\u044c\u0442\u0435\u0435\u0442\u044c, \u043e\u0442\u043e\u043c, \u0434\u0438\u043b\u044c\u0441\u044f \u0432\u043e\u0434\u044c\u043a\u043e\u0441\u0442 \u0440\u043e\u0434\u044f\u043d"
       ]
      },
      {
       "output_type": "stream",
       "stream": "stdout",
       "text": [
        " \u0432\u0430\u043c \u043c\u0435\u0441\u043f\u043e\u0435 \u0441 \u0441\u0442\u043e\u0430 \u043f\u043e\u0434\u0435\u0434\u043e\u0445\u0438 \u0432, \u0434\u0435\u0440\u0443\u0433\u043e\u043c \u0438 \u0431\u044b\u043a\u0443\u0449\u0430\u044c, \u0441 \u0441\u0435\u0432\u0448\u0435\u043c\u0442\u043e\u0432\u0430\u044f \u0441\u043e\u0433\u0440\u043e\u0439\u0447\u0435 \u044f \u0447\u0442\u0440\u044f\u0433\u0443\u0433\u043e \u0434\u044b\u043b\u044c. - \u041f\u043e\u0442\u0434\u0435\u0440\u043d\u044f \u043d\u0430\u0441\u0449\u043e\u0440\u0430\u043d\u044b\u0439 \u043c\u044b\u0442, \u0437\u0430\u043b\u044b\u0442\u044c\u0441\u043d\u043e\u044d\u0434\u0435\u0433\u0438 \u043e\u043d\u043d\u043e\u0431\u044b \u043d\u0435\u043d\u044b\u0439 \u0445\u043e\u043b\u0442\u0438\u0442\u044c\u0442 \u0433\u0438\u043b\u0441\u044f \u0447\u0438\u0440\u0435\u0442\u0430 \u044b \u0442\u043e\u0433\u0440\u0430\u0436\u0438\u0441\u044c \u0435 \u0432\u0435\u0435\u0442\u044c, \u0431\u044b\u0442\u0432\u0440\u0438\u043a\u0430, \u0441\u043a\u0438\u0439\u0442\u043e\u043d.\n",
        "\n",
        "- \u041f\u043e\u0432\u0440\u0435\u043f\u0430\u043d\u0442\u0430\u043b \u043f\u0440\u0430\u0434\u0435\u043b \u043f\u0440\u043e\u0447\u0438\u0441\u044c \u043c \u0444\u0443\u043a\u0443\u0434"
       ]
      },
      {
       "output_type": "stream",
       "stream": "stdout",
       "text": [
        "\u0438\u0449\u0435 \u044d\u0442\u043e \u0448\u0435\u043b\u0441\u0438\u0440\u0435\u0449\u0443. \u0419\u0435\u043d\u044f, \u0435\u0449\u0435\u0440\u0430 \u0447\u0443\u043b\u044e, \u0447\u0442\u043e\u0447\u0430\u0442, \u0432 \u0437\u0430.\n",
        "\n",
        "- \u0412\u043e\u043d\u043e\u043b\u044c\u0435 \u0442\u043e \u043c\u0435\u0441\u0442\u0432\u0435 \u0432\u0434\u0435 \u043a\u0440\u043e\u0448\u0440\u0438\u0446\u0430, \u044f \u0441\u0438 \u043f\u0443\u0440\u0430\u0437 \u043a\u043e\u0434\u0430\u0436\u0438\u043c\u0438\u043a \u043d\u0430 \u0433\u043b\u0430\u0441\u0442\u043e\u043b\u0438 \u043f\u043e\u0433\u0440\u044f\u0430\u0442\u043d\u0438\u043e. \u0421- \u043e\u0433\u043e\u0442\u043e\u0433\u0438\u043c\u0438\u0447\u043e\u0434\u043d\u044b\u0432. \u043a\u043e\u0440\u0430\u043f\u0438\u043b\u0430\u0441\u044c, \u043f\u0440\u043e\u0431\u043e\u043f\u0438\u043d\u0438\u043b\u0435 \u043d\u0443 \u0447\u0442\u0435\u043f\u0438\u043c\u0435\u0439\u0434\u0432\u0438\u043b \u0441\u043a\u0430 \u0432\u043e\u0447\u0438\u043b\u043e\u0442\u0430\u043b\u044e. \u0412\u043e\u0434\u044c\u0442\u043b\u043e \u0441e\u0433\u0443 \u043d\u043e \u0440\u0430\u043b\u043d\u0438\u044f \u0432"
       ]
      },
      {
       "output_type": "stream",
       "stream": "stdout",
       "text": [
        "\u043e\u0437\u043b\u0430\u043b\u044c\u0435 \u043a\u043d\u0438\u0449\u0438\u043a \u043d\u0438\u0435 \u0441\u0442\u0443 \u043c\u043e\u043f\u0442\u0435\u0441\u0442\u044c \u0440\u0435\u0442\u043e\u0435\u0442 \u043f\u0440\u0438\u043b\u0435\u043c \u0435\u0441\u043b\u0430\u0441, \u0441\u0430 \u043d\u0435\u0441\u0442\u0438\u043d \u0441\u0435\u0432\u043d\u0430. \u041e\u043d\u043e\u0431\u043e. \u0419\u0439 \u0435\u0433\u043e \u0441\u0432\u0440\u0443\u0436\u0430 \u0431\u044b\u0441\u043b\u0430\u043f\u0435\u0440\u0435\u0441\u0445\u0430. \u0417\u0430\u0434\u0441\u0430\u044e \u0441\u043b\u0435\u043c\u044b\u043a\u0443 \u043a\u0430\u0442\u043e\u043b\u044e \u043f\u043e\u0436\u044f\u0445\u043b\u044e \u0442\u0435\u043f\u043e\u0431\u044f \u044d\u0442\u043c\u0438\u0440\u0430\u043b\u0430\u0441 \u0438 \u0437\u0438\u043b\u0430\u0447\u0435\u0441\u044c \u043f\u043e\u0442\u0435\u043b\u043a\u0443 \u044d\u0440\u044b\u043b \u0438 \u0443\u0441\u0442\u0438\u0447\u0430\u043b \u0441\u0438\u0442\u0443\u0446\u0434\u043a\u043e\u0435-\u0434\u044c \u044f \u0447\u0435 \u043a\u043e\u0440\u0435\u0441\u0442\u0438\u044f, - \u0438\u043b\u0443\u043b \u043c\u0440\u0433\u0440\u0430 \u0447\u043b\u043e\u0442\u0435, \u0447\u0442\u043e \u0438\u0437\u0432\u043d\u043e? \u0413\u0430\u043b\u0449\u0438\u0435 \u043f\u043e\u043f\u043d\u0438\u043e \u0431\u044e\u043a\u0430\u0441\u044c \u043a\u0434\u043d\u044f\u044e, \u043a\u043e\u0440\u0430\u0440\u0430\u0434\u043e\u0439 \u0437"
       ]
      },
      {
       "output_type": "stream",
       "stream": "stdout",
       "text": [
        "\u0435\u0440\u0435\u0442\u0438?\n",
        "\n",
        "\u0412 \u0437\u0430\u043c\u0435\u0431\u044f, \u043f\u043e\u0432\u043d\u0430.\n",
        "\n",
        "- \u0410\u0424\u0443, \u043e\u0442\u0436\u0435\u0433\u0440\u044e\u0432\u0441\u043e \u0431\u0440\u0430\u0447\u0438\u043a\u0430\u0441\u044c. \u0418\u043b\u043c\u0438\u0445 \u0440\u0430\u0432\u043d\u043e \u0435\u0440\u043e\u043b\u044c\u0437\u043e\u0433\u043e \u0441\u0431\u043e\u043b\u0432\u0435\u043d\u0435\u0447\u0430\u043b\u044c \u043f\u0440\u044b\u0442\u0438? \u041e\u043d\u0435\u043b\u0443\u043c\u043e\u0432 \u0433\u0443\u043e\u0442\u044c \u0432\u0435\u043a\u0443\u0433\u0443 \u0434\u0430\u0432\u043d\u044b\u0435\u0436\u0435\u0441\u044d\u0442\u044b \u043f\u0440\u0443\u043f\u043e\u0441\u044c \u0431\u0443\u0442\u0440\u043e\u0439 \u0441\u0435\u0433\u0430 \u043d\u0430\u044e\u0442\u0436\u0435 \u0434\u043e\u0447\u043d\u0438\u044f\u043f\u0435\u043c \u0442\u043e\u043f\u0438\u0432\u0430\u043b\u0442\u0438\u0442\u0431\u0435, \u0441\u043f\u043e\u0432\u0430\u043b\u0430\u0439\u043d\u0438\u0435 \u0443\u0434\u0430\u0441\u043d\u043e, \u0440\u043e\u043c \u0437\u043d\u0430\u0437\u0430\u0442\u044c\u0435 \u0433\u043e\u0436\u0430\u0447\u0438\u0441\u044f \u043f\u043e\u0448\u0430 \u0442\u043e\u0435 \u043a\u0443\u0437\u0434\u043e. \u041f\u0440\u043e\u0434\u044b\u0447\u0430, \u0419\u0435\u0441\u0442\u044c \u0440\u043e\u0440\u0431\u044b\u043c\u0438\u043d \u0440\u0430"
       ]
      },
      {
       "output_type": "stream",
       "stream": "stdout",
       "text": [
        "\u0434\u043b\u0435\u0447\u0435\u043d\u043e\u043d\u0438\u0441\u044c \u043f\u0440\u0430\u0442\u0443\u044e \u0438 - \u0437\u0437\u0443\u043b \u0437\u0438\u043a\u043e\u0437\u043c\u0430 - \u041a\u043e\u043c\u0443\u043c \u0438\u043b\u043e\u0433\u043b\u044b\u0435\u0441\u0442\u043e, \u043e\u043d\u043e \u043a\u042b\u0434\u043b\u0443\u0431,\u0441\u0442\u044b \u043d\u0438 \u0438 \u0435\u043d, \u0434\u0435\u0440\u0443\u043c\u0438\u043b\u044c \u043d\u0435, \u0441\u0438\u0432\u044b\u0438\u0442\u0430\u043b\u044c. \u041d\u0436\u0430 \u043f\u043e\u043d\u043a\u0443. \u0422\u0430\u043a\u043d\u0435? \u041d\u0435 \u0447\u043d\u043e\u0447\u0438 \u0441\u0438\u043b\u044f\u043d\u0438\u0441\u043c\u043e\u0441\u043c\u044b \u0432\u0441\u043f\u043e\u043b, \u0441 \u043c\u043e\u0441\u0442\u043e\u043d\u043a\u044b\u0435 \u0442\u043e\u0445\u0430 \u043f\u0433\u0440\u0430\u0441\u0442\u043e \u0447\u0435\u043c \u0433\u043b\u043e\u0432\u0447\u0435\u0440\u0448\u0435\u043a\u0443 \u0442 \u0442\u043e\u0440\u0447\u0435, \u043d\u0435\u0435\u0442\u044c, \u0442\u043e\u0442\u0449\u0438\u043c\u0435\u0447\u0435\u0431\u0430\u044f\u0434\u043e \u0432\u044b \u0441\u0442\u043e\u043b\u0435 \u043f\u043b\u043e\u0441\u0442\u043d\u0443\u043b\u0438 \u0432\u0437\u0436\u0435\u043d\u044c \u043d\u0435 \u0432 \u0442\u044d\u0442\u043e\u043c\u0438\u044e, \u0447\u0438\u0440\u0430\u043c\u043e \u043d\u0443\u0433\u043b\u044e. \u0415 \u043e\u0448"
       ]
      },
      {
       "output_type": "stream",
       "stream": "stdout",
       "text": [
        "\u0438\u0432\u044b\u043d. \u0432 \u0433\u0443\u0434\u0435\u0442\u0430\u0442\u044c, \u0419\u0435\u043d\u043d\u044b\u0435 \u0448\u0442 \u043f\u043e\u0441\u043a\u0430\u0441\u0443\u043b\u0435, \u043d\u0435 \u043a\u043e\u043d\u043e\u0442. \u041f\u043e\u0442\u043e\u043c\u0430\u044f\u0442\u0441\u043e \u0441\u043a\u0430\u0432\u0430\u0441\u0442\u043e \u043f\u043e\u043a\u043e \u0441\u0443\u043a\u043e\u043b\u0435\u043d\u043d\u0437\u043d\u043e \u041a\u0435\u0435. \u0421\u043b\u044e\u0441\u0442\u0430\u043a \u0432\u0435\u043d\u044c\u043c\u0438 \u0444\u0435\u0433\u0430\u0432\u0430 \u043f\u0440\u043e\u0432\u0438 \u0435\u0441\u0446\u0435.. \u0418 \u0432\u0437\u0443\u0434\u0438 \u0435\u0449\u0438\u043b \u044d\u0442\u043e. \u041c\u043e\u0442\u043e\u043c\u043e, \u043d\u0438\u0435\u043d\u0445\u0432\u0435\u0445\u0430\u0448\u044c, \u0441\u043a\u0435\u0447\u0438\u0448\u0438\u0439\u043b\u0438\u0447\u0430\u0438 \u0437\u0430\u0432\u0443\u0434\u0438\u0442 \u0441\u0432\u0434\u0435\u0432\u0430 \u0441\u043b\u0430\u043c\u0430\u044e\u0439\u0442\u0435\u043d\u043a\u043e\u0439"
       ]
      },
      {
       "output_type": "stream",
       "stream": "stdout",
       "text": [
        " \u0442\u043e\u0442\u0430\u043a\u043e\u0435, \u0442\u043e\u0432\u042f \u0438 \u0418 \u043c\u0435\u0440\u0435\u0444\u0442\u043a\u0438\u0435 \u0447\u0442\u043e \u0438 \u0442\u0435\u0440\u0435\u0447\u044c \u0440\u043e\u043b\u043b\u043e\u0441\u0442\u043a\u0430 \u043c\u043e\u0433\u043e\u043c\u043e \u0437\u0435 \u0447\u0443\u0434\u0440\u0435\u0434\u0435. \u0418 \u0425\u043e\u0440\u044c\u0441\u043b\u043e?\n",
        "\n",
        "- \u0420\u0430 \u0436\u043d\u044b \u0434\u0440\u0430\u0434\u0438\u0449\u0435\u043c \u0417\u0437\u0430\u0434\u043c\u043e - \u043d\u0430\u0441\u043d\u043e \u043f\u043e\u0441\u0442\u0438\u043a\u0438\u043b\u044c\u0435\u0441\u0442\u044b \u0434\u043e\u0440\u043e\u0434\u0435\u043f\u0435, \u0443\u0447\u043f\u0435\u0434\u0438\u0448\u044c \u0438 \u0442\u043e\u043d\u043e\u0434\u043e\u0441\u044f\u043c\u043e\u0435\u0448\u044c \u0440\u0438\u0440\u0430\u0442\u044c, \u043f\u043e\u043e\u043b\u044b\u0433\u0438\u043a, \u0433\u043e\u0447\u0435\u0442\u044c,? \u0413\u0435\u0440\u043e\u043c\u0435\u043b \u043d\u0435\u043c\u0435\u0441\u0442\u0438. \u041d\u0435 \u0438 \u043d\u043e\u0431\u0435\u0448\u0435\u0448\u044c\u043a\u043e\u043a\u0438"
       ]
      },
      {
       "output_type": "stream",
       "stream": "stdout",
       "text": [
        "\u043a \u0447\u0438\u043a \u0434\u043b\u043e\u0441\u0442\u044b \u043c\u0440\u0435\u0434\u0438 \u043f\u043e\u0437\u043c\u0430\u043b\u044c\u0442, \u043c\u0435\u043d\u043d\u043e \u0431\u044b\u0442\u0435, \u0438 \u0442\u0440\u0435\u0434\u044e \u043c\u0435\u0436\u0430..... \u0418?\n",
        "\n",
        "- \u0426\u043e\u0433\u043b\u043e\u0438\u043a\u043e \u0441\u0435\u043d\u044b\u0435 \u0434\u0435 \u043f\u0440\u043e\u0441\u0442\u0435\u043b\u044c \u0447\u0430\u0442\u044c \u0442\u0435\u043e\u0441\u0442\u043e\u0445\u044c, - \u043e\u0442 \u0442\u044e \u0432\u0435\u043b, \u0447\u043d\u0435 \u0441\u0435\u0432\u0430, \u043d\u044b \u0447\u0442\u0435\u0433\u0430 \u043c\u0438\u0434\u043f\u0438\u0437\u0431\u0435\u043b \u0441\u0442\u043e\u0440\u0438\u0434\u0438\u0448\u044c \u0431\u043e\u0433\u044b\u0442\u043e\u0439. \u0423 \u043a\u0430\u0442\u0435\u0448\u0435\u0445 \u043b\u0430\u0441\u043a\u043e\u0435\u043b\u0441\u044f \u0441\u043b\u043b\u043e\u043b\u044f\u0448\u0438\u0432\u0430\u043a \u0413\u0438\u043c\u043d\u0443 \u0432\u044b, \u0440\u0430\u0440\u0432\u0435\u043c"
       ]
      },
      {
       "output_type": "stream",
       "stream": "stdout",
       "text": [
        "\u043d\u043e\u0445\u043e \u0437\u0430\u043b\u044c\u0442\u043e,. \u041f\u043e\u0440\u043a\u0438\u0437\u0438\u043b \u0431\u0442\u0443\u043d\u0431\u044f\u043b\u0438\u043d, \u043d\u043e\u043c\u0438, \u0434\u0433\u0440\u0443\u0441\u044c\u044c \u0438 \u0434\u0443\u0432\u043d\u0438\u043a\u044b \u0434\u0438\u0434\u0448\u0438 \u0432\u044b\u0431\u0443\u0447\u044c\u0432\u0438\u043a, \u043d\u043e\u0436\u0438\u0442\u043e, \u0440\u0443\u0441\u0441\u0442\u0432\u0430\u043d\u0438\u0442\u0441\u0443, \u0441\u043c\u043e\u0434\u0440\u0438\u0434\u043e\u0434\u0448\u0435 \u0432\u043e\u0449\u0435\u043c\u043d\u0435\u0438 \u043f\u0440\u043e\u0447\u0438\u043b \u043a\u0440\u043e\u0447\u0438\u043c \u043d\u0438"
       ]
      },
      {
       "output_type": "stream",
       "stream": "stdout",
       "text": [
        "\u043c\u0443 \u0434\u0442\u0443\u0447\u0430, - \u043b\u0435\u0432\u0435\u0441\u0432\u0435\u0442 \u043f\u043e\u0434\u043d\u0430, \u0447\u0435\u0433\u043e \u043d\u0430\u0433\u043e\u0433\u0440\u0430 \u0444\u0443\u0431\u0435\u0442\u0435\u043b\u044c\u0441\u044f\u0434\u044b, \u0433\u0440\u0430\u0437\u043e\u043b\u044c \u0437\u0430\u043f\u0438\u0442, \u043d\u0430 \u0441\u0435\u0440\u0430\u043b\u0430 \u0442\u0430\u043b\u0430\u044f.\n",
        "\n",
        "- \u042f\u0433\u043e, \u0432\u043d\u0438\u043d\u0442\u0443\u0447\u0438\u0442\u044d\u043a. - \u0412 \u0411\u043e\u0432\u0435\u0434\u0435\u0434\u043e \u043f"
       ]
      },
      {
       "output_type": "stream",
       "stream": "stdout",
       "text": [
        "\u0435\u0433\u043b\u043f\u043e\u0440\u0438\u043a\u0443, \u0432 \u043a\u043e\u0442\u0440\u0443\u043b\u043e\u043d, \u043e \u0413\u0435\u0440\u0430\u0431\u044c\u0442, \u043a\u043d\u043e\u0447\u0430\u0435\u043d\u0438\u043a \u0442\u043e\u0432\u044b\u0439, \u043f\u0440\u043e\u0437\u043b\u0430 \u0438\n"
       ]
      }
     ],
     "prompt_number": 14
    },
    {
     "cell_type": "code",
     "collapsed": true,
     "input": [],
     "language": "python",
     "metadata": {},
     "outputs": [],
     "prompt_number": null
    }
   ],
   "metadata": {}
  }
 ]
}