{
 "metadata": {
  "kernelspec": {
   "display_name": "Python 3",
   "language": "python",
   "name": "python3"
  },
  "language_info": {
   "codemirror_mode": {
    "name": "ipython",
    "version": 3
   },
   "file_extension": ".py",
   "mimetype": "text/x-python",
   "name": "python",
   "nbconvert_exporter": "python",
   "pygments_lexer": "ipython3",
   "version": "3.5.1"
  },
  "name": "",
  "signature": "sha256:9208ed1b414786cf446cd9954e5b926ed278eed28d37f5f817f5a5cd0f1d8c51"
 },
 "nbformat": 3,
 "nbformat_minor": 0,
 "worksheets": [
  {
   "cells": [
    {
     "cell_type": "code",
     "collapsed": false,
     "input": [
      "%matplotlib inline\n",
      "import matplotlib\n",
      "matplotlib.rcParams['figure.figsize'] = (12, 8)\n",
      "from matplotlib import pyplot as plt\n",
      "from IPython import display\n",
      "import signal"
     ],
     "language": "python",
     "metadata": {},
     "outputs": [],
     "prompt_number": 1
    },
    {
     "cell_type": "code",
     "collapsed": false,
     "input": [
      "\"\"\"\n",
      "Minimal character-level Vanilla RNN model. Written by Andrej Karpathy (@karpathy)\n",
      "BSD License\n",
      "Slightly modified by Nthend\n",
      "\"\"\""
     ],
     "language": "python",
     "metadata": {},
     "outputs": [
      {
       "metadata": {},
       "output_type": "pyout",
       "prompt_number": 2,
       "text": [
        "'\\nMinimal character-level Vanilla RNN model. Written by Andrej Karpathy (@karpathy)\\nBSD License\\nSlightly modified by Nthend\\n'"
       ]
      }
     ],
     "prompt_number": 2
    },
    {
     "cell_type": "code",
     "collapsed": false,
     "input": [
      "import numpy as np\n",
      "\n",
      "# data I/O\n",
      "data = open('data/witcher_rus.txt', 'r', encoding='utf-8').read() # should be simple plain text file\n",
      "chars = list(set(data))\n",
      "data_size, vocab_size = len(data), len(chars)\n",
      "print('data has %d characters, %d unique.' % (data_size, vocab_size))\n",
      "print(chars)\n",
      "char_to_ix = { ch:i for i,ch in enumerate(chars) }\n",
      "ix_to_char = { i:ch for i,ch in enumerate(chars) }\n",
      "\n",
      "# hyperparameters\n",
      "hidden_size = 100 # size of hidden layer of neurons\n",
      "seq_length = 25 # number of steps to unroll the RNN for\n",
      "learning_rate = 1e-1\n",
      "\n",
      "# model parameters\n",
      "Wxh = np.random.randn(hidden_size, vocab_size)*0.01 # input to hidden\n",
      "Whh = np.random.randn(hidden_size, hidden_size)*0.01 # hidden to hidden\n",
      "Why = np.random.randn(vocab_size, hidden_size)*0.01 # hidden to output\n",
      "bh = np.zeros((hidden_size, 1)) # hidden bias\n",
      "by = np.zeros((vocab_size, 1)) # output bias\n",
      "\n",
      "def lossFun(inputs, targets, hprev):\n",
      "    \"\"\"\n",
      "    inputs,targets are both list of integers.\n",
      "    hprev is Hx1 array of initial hidden state\n",
      "    returns the loss, gradients on model parameters, and last hidden state\n",
      "    \"\"\"\n",
      "    xs, hs, ys, ps = {}, {}, {}, {}\n",
      "    hs[-1] = np.copy(hprev)\n",
      "    loss = 0\n",
      "    # forward pass\n",
      "    for t in range(len(inputs)):\n",
      "        xs[t] = np.zeros((vocab_size,1)) # encode in 1-of-k representation\n",
      "        xs[t][inputs[t]] = 1\n",
      "        hs[t] = np.tanh(np.dot(Wxh, xs[t]) + np.dot(Whh, hs[t-1]) + bh) # hidden state\n",
      "        ys[t] = np.dot(Why, hs[t]) + by # unnormalized log probabilities for next chars\n",
      "        ps[t] = np.exp(ys[t]) / np.sum(np.exp(ys[t])) # probabilities for next chars\n",
      "        loss += -np.log(ps[t][targets[t],0]) # softmax (cross-entropy loss)\n",
      "    # backward pass: compute gradients going backwards\n",
      "    dWxh, dWhh, dWhy = np.zeros_like(Wxh), np.zeros_like(Whh), np.zeros_like(Why)\n",
      "    dbh, dby = np.zeros_like(bh), np.zeros_like(by)\n",
      "    dhnext = np.zeros_like(hs[0])\n",
      "    for t in reversed(range(len(inputs))):\n",
      "        dy = np.copy(ps[t])\n",
      "        dy[targets[t]] -= 1 # backprop into y\n",
      "        dWhy += np.dot(dy, hs[t].T)\n",
      "        dby += dy\n",
      "        dh = np.dot(Why.T, dy) + dhnext # backprop into h\n",
      "        dhraw = (1 - hs[t] * hs[t]) * dh # backprop through tanh nonlinearity\n",
      "        dbh += dhraw\n",
      "        dWxh += np.dot(dhraw, xs[t].T)\n",
      "        dWhh += np.dot(dhraw, hs[t-1].T)\n",
      "        dhnext = np.dot(Whh.T, dhraw)\n",
      "    for dparam in [dWxh, dWhh, dWhy, dbh, dby]:\n",
      "        np.clip(dparam, -5, 5, out=dparam) # clip to mitigate exploding gradients\n",
      "    return loss, dWxh, dWhh, dWhy, dbh, dby, hs[len(inputs)-1]\n",
      "\n",
      "def sample(h, seed_ix, n):\n",
      "    \"\"\" \n",
      "    sample a sequence of integers from the model \n",
      "    h is memory state, seed_ix is seed letter for first time step\n",
      "    \"\"\"\n",
      "    x = np.zeros((vocab_size, 1))\n",
      "    x[seed_ix] = 1\n",
      "    ixes = []\n",
      "    for t in range(n):\n",
      "        h = np.tanh(np.dot(Wxh, x) + np.dot(Whh, h) + bh)\n",
      "        y = np.dot(Why, h) + by\n",
      "        p = np.exp(y) / np.sum(np.exp(y))\n",
      "        ix = np.random.choice(range(vocab_size), p=p.ravel())\n",
      "        x = np.zeros((vocab_size, 1))\n",
      "        x[ix] = 1\n",
      "        ixes.append(ix)\n",
      "    return ixes\n",
      "\n",
      "n, p = 0, 0\n",
      "mWxh, mWhh, mWhy = np.zeros_like(Wxh), np.zeros_like(Whh), np.zeros_like(Why)\n",
      "mbh, mby = np.zeros_like(bh), np.zeros_like(by) # memory variables for Adagrad\n",
      "smooth_loss = -np.log(1.0/vocab_size)*seq_length # loss at iteration 0"
     ],
     "language": "python",
     "metadata": {},
     "outputs": [
      {
       "output_type": "stream",
       "stream": "stdout",
       "text": [
        "data has 4508884 characters, 141 unique.\n",
        "['\u044f', 'p', '\u0449', '\u043e', '\u0429', '\u0418', 'J', 'Q', '\u0432', '\u043c', 'T', 'l', 'R', '\u0445', '0', 'P', '\u0448', 'U', 'B', '\u042c', '\u041d', '\u0419', 'k', '3', 'I', 'H', 'E', 'c', ':', '\u0442', '\u0416', 'w', '\u0431', '\u0436', 'd', '2', '\u044a', '#', '\u0422', 'S', 'N', '(', ')', 'K', 's', 'D', 'n', 'M', '\u0435', '\u0440', 'F', 'z', '*', '\u043d', '\\t', 'g', '\u0438', '\u0428', '\u042b', '\u042e', 'm', \"'\", '\u0421', '\u0423', '4', '\u0420', '\u0444', '\u041b', '\u0437', '\u0434', '\u043a', '1', '\u0424', '\u0412', 'Y', '\u0447', '\u0430', '\u041f', 'u', '\u043b', 'x', '\u0443', '\u044b', '\u0451', 'a', '\u0427', '\u0414', '\u044e', ',', '\u041c', '\u041e', '7', 'e', '\u0446', 'G', '\u043f', '\u0413', 'q', 'i', '.', '-', '9', '\u0425', 't', '\u0415', 'C', 'r', '\"', 'b', '\u0426', 'y', '6', 'A', '\u044d', 'o', 'v', 'V', '\u0441', '5', 'O', 'Z', 'X', ';', 'L', '!', '\u044c', '\u042f', 'W', '?', '\u0433', '\u041a', '\u0439', '\u0410', '\\n', 'f', ' ', '\u0417', '\u042d', '\u0411', '8', 'h']\n"
       ]
      }
     ],
     "prompt_number": 3
    },
    {
     "cell_type": "code",
     "collapsed": false,
     "input": [
      "done = False\n",
      "def signal_handler(signal, frame):\n",
      "    global done\n",
      "    done = True\n",
      "signal.signal(signal.SIGINT, signal_handler)\n",
      "\n",
      "plot = True\n",
      "passes = []\n",
      "losses = []\n",
      "\n",
      "while not done:\n",
      "    if n % 100 == 0: display.clear_output(wait=True)\n",
      "    # prepare inputs (we're sweeping from left to right in steps seq_length long)\n",
      "    if p+seq_length+1 >= len(data) or n == 0: \n",
      "        hprev = np.zeros((hidden_size,1)) # reset RNN memory\n",
      "        p = 0 # go from start of data\n",
      "    inputs = [char_to_ix[ch] for ch in data[p:p+seq_length]]\n",
      "    targets = [char_to_ix[ch] for ch in data[p+1:p+seq_length+1]]\n",
      "\n",
      "    # forward seq_length characters through the net and fetch gradient\n",
      "    loss, dWxh, dWhh, dWhy, dbh, dby, hprev = lossFun(inputs, targets, hprev)\n",
      "    smooth_loss = smooth_loss * 0.999 + loss * 0.001\n",
      "    if n % 100 == 0: \n",
      "        book_pass = n*seq_length/len(data)\n",
      "        if plot:\n",
      "            passes.append(book_pass)\n",
      "            losses.append(smooth_loss)\n",
      "            ax = plt.figure().add_subplot(111)\n",
      "            ax.plot(passes, losses)\n",
      "            plt.show()\n",
      "        else:\n",
      "            print('pass: %f, loss: %f' % (book_pass, smooth_loss)) # print progress\n",
      "    \n",
      "    # perform parameter update with Adagrad\n",
      "    for param, dparam, mem in zip([Wxh, Whh, Why, bh, by], \n",
      "                                  [dWxh, dWhh, dWhy, dbh, dby], \n",
      "                                  [mWxh, mWhh, mWhy, mbh, mby]):\n",
      "        mem += dparam * dparam\n",
      "        param += -learning_rate * dparam / np.sqrt(mem + 1e-8) # adagrad update\n",
      "\n",
      "    p += seq_length # move data pointer\n",
      "    n += 1 # iteration counter "
     ],
     "language": "python",
     "metadata": {},
     "outputs": [
      {
       "metadata": {},
       "output_type": "display_data",
       "png": "[encoded data removed]",
       "text": [
        "<matplotlib.figure.Figure at 0x7f13afd4dda0>"
       ]
      }
     ],
     "prompt_number": 4
    },
    {
     "cell_type": "code",
     "collapsed": false,
     "input": [
      "sample_ix = sample(hprev, inputs[0], 1000)\n",
      "txt = ''.join(ix_to_char[ix] for ix in sample_ix)\n",
      "print(txt)"
     ],
     "language": "python",
     "metadata": {},
     "outputs": [
      {
       "output_type": "stream",
       "stream": "stdout",
       "text": [
        "\u044e\u0442\u0438 \u043f\u043e\u0442\u044b \u043d\u0430 \u0438\u0440\u043c\u0438\u043c \u043f\u043e\u043b\u044c\u043c\u0430\u043c \u043d\u0435 \u0434\u0435\u0440\u043e\u043b\u0438\u0435 \u043d\u043e \u0434\u0440\u0438\u0432\u0430\u0442\u044c \u041a\u0440\u0430\u0447\u0438!\n",
        "\n",
        "- \u0412\u044b\u0449\u043e\u0438 \u043f\u043e\u0440\u043e\u0440\u0438\u0436\u0440\u0435\u043b, \u0441\u044f\u043a\u0438 \u043f\u043e\u043b\u0438\u0433\u0438 \u043d\u0430\u043b\u043e\u0441\u044f \u043d\u044b \u043d\u0430 \u043d\u0435\u0440. \u0418\u0441\u0435\u0448\u0430\u043a \u043b\u043e\u043b\u043d\u0444\u0438\u0432\u0430\u0442! \u043b\u0432 \u0440\u043e\u043a\u043e\u0439 \u043f\u043e\u0434\u0435\u0432\u0430\u043d\u044f\u043b\u0441\u0438, \u043d\u0430 \u043a\u043e\u043b\u044f\u0447\u043b\u044f\u043d\u044b \u0436\u043e\u0434\u0443\u0411\u043e\u043c, \u0432\u0438\u0441\u0442\u0432\u043e\u043c \u043f\u0438\u0440\u044f, \u0436\u0435\u0434\u0435\u043c. \u0420\u0430\u0445 \u043e\u0431\u0432\u043b, \u0441\u0432\u0441\u0442\u0430\u0447\u0447\u0443 \u0442\u044b\u043b \u0432\u043c\u0438\u0441 \u043f\u0435\u0440\u043e\u043b\u0435 \u0441\u0438\u043a\u043e \u0441\u0434\u043e\u043c\u0443\u0434\u044c \u043a\u0430 \u0437\u0430\u043a\u0438.\n",
        "- \u043f\u0440\u0438, \u0435\u043e\u043c\u0441\u043b\u0430! \u0435\u043d\u043d\u0430 \u0441\u043a\u043e\u0439\u0448\u043a\u043e\u0432\u0430 \u043a\u0440\u0430\u043a\u0430\u044e\u043d\u044e.\n",
        "\n",
        "- \u0422\u044b \u043f\u043b\u0435\u0433\u043b\u0435\u043d\u043e\u0433\u043e \u0438 \u043e\u0433\u043e\u043b\u0443\u044e \u043a\u0440\u043e\u0434\u0440\u0435\u0439 \u041d\u0430\u0432\u0435 \u043e\u0434\u043f\u0438\u0445\u0430\u0441\u044c \u0434\u0430\u043a\u043e\u043c \u043f\u0440\u043e\u043d\u0448\u0435\u0439 \u0438\u0441\u0442\u0440\u043e \u043e\u0431\u044b \u0442\u0435\u0433\u0435\u043b\u044c\u043d\u043d\u043a\u0430 \u0431\u0443\u043c\u0435\u0446\u043a\u043e \u0443\u0448\u0430\u0435\u0442\u044c\u043c, \u043d\u0430 \u0438 \u043d\u0430 \u0432\u0441\u0435\u0446\u0436\u0430\u0437\u0438\u0441\u044c \u041a\u043d\u0430 \u043e\u043a\u043e\u043d\u0435\u0440\u0435\u0442, \u043f\u043e\u043a\u043e\u044f \u0442\u0440\u043e\u043a \u0442\u043e\u0441\u043f\u043e\u0433\u043b\u0430\u043d\u044c \u0442\u043e\u0441\u0442\u043e\u043d\u0441\u0442\u0432\u044b \u0441\u043f\u0435\u0440\u0430\u0434\u0430! \u0412\u043e\u0441\u043a\u043e\u0439 - \u0437\u0430\u0434\u044b\u043a \u043f\u043e\u0441\u0442\u0438 \u0441\u043e\u0434\u043e\u0432\u0430\u043b\u043e \u0432 \u0446\u0435\u0434\u044c\u043c\u0440\u0438\u0446\u0434\u0430\u043c\u043e\u0432\u0443\u0442 - \u0441\u0430\u043a\u0443\u0439 \u0441 \u0431\u044b\u0435\u043d\u0438\u043a\u0438\u0442! \u041a\u043e\u043f\u043e\u0434\u0435 \u0437\u0430\u0441\u0441\u0430\u043d\u0430\u043a\u043e\u0439 \u0430 \u0441\u0440\u0430\u0437\u0434\u0435\u0441\u044f \u043d\u0438\u0445\u0443\u0434\u044c \u0431\u0443 \u0434\u043e\u0433\u0438\u043b\u044c, \u041a\u0440\u0438\u0432\u0430\u0439\"\u0433\u0438\u0435\u0442 \u0441\u0448\u0435\u0436\u043e\u0436\u0434\u0430\u044e, \u043d\u044b \u0431\u0435\u0431\u043d\u043d\u0443 \u043a\u043e \u041a\u043e\u043b\u0430\u0437\u0441\u044f, \u043e\u0431\u0440\u0438\u0435\u0434\u0443 \u043d\u0430 \u043b\u043e\u043f\u043e \u0432\u0443\u044e \u043a\u0430 \u0442\u043a\u0438\u0437, \u0430 \u0441 \u043a\u0440\u0438\u043a\u043d\u043e \u0447\u0438, \u0430 \u043d\u043e\u043a\u043d\u043e \u044f \u043c\u0438\u0440? \u0441\u0442\u043e\u043a \u0447\u0442\u043e - \u0431\u044b\u0447\u0442\u043e \u043f\u043e\u0432\u043e\u0440\u0430\u0434\u044c. - \u0418\u0443 \u0431\u043e\u0434\u043d\u044b\u0439 \u0432 \u0434\u043e\u0431\u043c\u0430\u043b\u0435. \u041e\u0432\u043e\u0447\u0443\u043d\u0443\u0442\u044e \u0437\u0430\u0441\u0433\u043e\u0439\u0439 \u0413\u0442\u043e\u0439 \u043c\u0435\u0447\u0442\u0435 \u0432 \u041a\u0438\u043d.\n",
        "\n",
        "- \u0412\u0435\u0442\u044c\u0442\u0440\u0438\u0437\u0446\u0438, \u043c\u043e\u0442\u0441\u0442\u0443 \u0437\u0430\u0440\u043d\u0435 \u0438\u0441\u0442\u0430 \u043d\u044b \u0447\u0442\u043e \u0442\u043e\u0447\u0438\u0435\u0441\u0448\u0435, \u043f\u043e\u0434\u0438\u0437\u0430\u0435, \u043e\u0440\u0435\u0433\u0434\u0435\u0441\u044c \u0431\u0440\u0438\u0437\u0432\u0430\u0448\u043d\u0438, \u043f\u043e\u0432\u043e\u043b\u0438 \u0448\u0435\u0440\u0430\u041f\u043b\u0438 \u0441\u043b\u0435\u0434\u044c \u043f\u043e\u0440\u0443\u043a\u0430.\n",
        "\n",
        "- \u043f\u043e \u0432\u0430\u0442\u044c \u043c\u0440\u0435\u0437\u043d\u0438\u043c \u0445\u0440\u0430\u0441\u0432\u043e\u0440\u043e \u043a\u043d\u0430\u0443, \u0434\u043e\u0432\u043e\u0440\u0446\u0438\u0432\u044e\u0442\u044c. \u042f \u043c \u0435 \u043f\u043b\u044f\u0432\u0435\u043d\u0435\u043d\u043e \u0431\u0443\u043c\u0430 \u0432 \u0442\u0440\u0438\u0435\u043d\u0430 \u0437\u0430\u0441\u044f\u0439 \u0441\u0442\u043e\u043b\u0438\u0442\u044c \u0443\u0441\u0435\u043c\u0435\u043b\u0430 \u0432\u044b\u0435 \u0432\u043e\u0438\u0442. \u041a \u041f\u0440\u043c\u0435\u0440\u0438\u0441\u044c, \u0438\u043f\u0435\u0440 \n"
       ]
      }
     ],
     "prompt_number": 5
    },
    {
     "cell_type": "code",
     "collapsed": true,
     "input": [],
     "language": "python",
     "metadata": {},
     "outputs": [],
     "prompt_number": null
    }
   ],
   "metadata": {}
  }
 ]
}