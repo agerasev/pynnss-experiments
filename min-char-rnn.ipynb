{
 "metadata": {
  "name": "",
  "signature": "sha256:f31b6de6fd45f335617ea762cddcba19142ee2ad6ff28ece6a255d1fd7fe67e9"
 },
 "nbformat": 3,
 "nbformat_minor": 0,
 "worksheets": [
  {
   "cells": [
    {
     "cell_type": "code",
     "collapsed": false,
     "input": [
      "%matplotlib inline\n",
      "import matplotlib\n",
      "matplotlib.rcParams['figure.figsize'] = (12, 8)\n",
      "from matplotlib import pyplot as plt\n",
      "from IPython import display\n",
      "import signal"
     ],
     "language": "python",
     "metadata": {},
     "outputs": [],
     "prompt_number": 1
    },
    {
     "cell_type": "code",
     "collapsed": false,
     "input": [
      "\"\"\"\n",
      "Minimal character-level Vanilla RNN model. Written by Andrej Karpathy (@karpathy)\n",
      "BSD License\n",
      "Slightly modified by nthend\n",
      "\"\"\""
     ],
     "language": "python",
     "metadata": {},
     "outputs": [
      {
       "metadata": {},
       "output_type": "pyout",
       "prompt_number": 2,
       "text": [
        "'\\nMinimal character-level Vanilla RNN model. Written by Andrej Karpathy (@karpathy)\\nBSD License\\nSlightly modified by nthend\\n'"
       ]
      }
     ],
     "prompt_number": 2
    },
    {
     "cell_type": "code",
     "collapsed": false,
     "input": [
      "import numpy as np\n",
      "\n",
      "# data I/O\n",
      "data = open('data/witcher_rus.txt', 'r', encoding='utf-8').read() # should be simple plain text file\n",
      "chars = list(set(data))\n",
      "data_size, vocab_size = len(data), len(chars)\n",
      "print('data has %d characters, %d unique.' % (data_size, vocab_size))\n",
      "char_to_ix = { ch:i for i,ch in enumerate(chars) }\n",
      "ix_to_char = { i:ch for i,ch in enumerate(chars) }\n",
      "\n",
      "# hyperparameters\n",
      "hidden_size = 100 # size of hidden layer of neurons\n",
      "seq_length = 25 # number of steps to unroll the RNN for\n",
      "learning_rate = 1e-1\n",
      "\n",
      "# model parameters\n",
      "Wxh = np.random.randn(hidden_size, vocab_size)*0.01 # input to hidden\n",
      "Whh = np.random.randn(hidden_size, hidden_size)*0.01 # hidden to hidden\n",
      "Why = np.random.randn(vocab_size, hidden_size)*0.01 # hidden to output\n",
      "bh = np.zeros((hidden_size, 1)) # hidden bias\n",
      "by = np.zeros((vocab_size, 1)) # output bias\n",
      "\n",
      "def lossFun(inputs, targets, hprev):\n",
      "    \"\"\"\n",
      "    inputs,targets are both list of integers.\n",
      "    hprev is Hx1 array of initial hidden state\n",
      "    returns the loss, gradients on model parameters, and last hidden state\n",
      "    \"\"\"\n",
      "    xs, hs, ys, ps = {}, {}, {}, {}\n",
      "    hs[-1] = np.copy(hprev)\n",
      "    loss = 0\n",
      "    # forward pass\n",
      "    for t in range(len(inputs)):\n",
      "        xs[t] = np.zeros((vocab_size,1)) # encode in 1-of-k representation\n",
      "        xs[t][inputs[t]] = 1\n",
      "        hs[t] = np.tanh(np.dot(Wxh, xs[t]) + np.dot(Whh, hs[t-1]) + bh) # hidden state\n",
      "        ys[t] = np.dot(Why, hs[t]) + by # unnormalized log probabilities for next chars\n",
      "        ps[t] = np.exp(ys[t]) / np.sum(np.exp(ys[t])) # probabilities for next chars\n",
      "        loss += -np.log(ps[t][targets[t],0]) # softmax (cross-entropy loss)\n",
      "    # backward pass: compute gradients going backwards\n",
      "    dWxh, dWhh, dWhy = np.zeros_like(Wxh), np.zeros_like(Whh), np.zeros_like(Why)\n",
      "    dbh, dby = np.zeros_like(bh), np.zeros_like(by)\n",
      "    dhnext = np.zeros_like(hs[0])\n",
      "    for t in reversed(range(len(inputs))):\n",
      "        dy = np.copy(ps[t])\n",
      "        dy[targets[t]] -= 1 # backprop into y\n",
      "        dWhy += np.dot(dy, hs[t].T)\n",
      "        dby += dy\n",
      "        dh = np.dot(Why.T, dy) + dhnext # backprop into h\n",
      "        dhraw = (1 - hs[t] * hs[t]) * dh # backprop through tanh nonlinearity\n",
      "        dbh += dhraw\n",
      "        dWxh += np.dot(dhraw, xs[t].T)\n",
      "        dWhh += np.dot(dhraw, hs[t-1].T)\n",
      "        dhnext = np.dot(Whh.T, dhraw)\n",
      "    for dparam in [dWxh, dWhh, dWhy, dbh, dby]:\n",
      "        np.clip(dparam, -5, 5, out=dparam) # clip to mitigate exploding gradients\n",
      "    return loss, dWxh, dWhh, dWhy, dbh, dby, hs[len(inputs)-1]\n",
      "\n",
      "def sample(h, seed_ix, n):\n",
      "    \"\"\" \n",
      "    sample a sequence of integers from the model \n",
      "    h is memory state, seed_ix is seed letter for first time step\n",
      "    \"\"\"\n",
      "    x = np.zeros((vocab_size, 1))\n",
      "    x[seed_ix] = 1\n",
      "    ixes = []\n",
      "    for t in range(n):\n",
      "        h = np.tanh(np.dot(Wxh, x) + np.dot(Whh, h) + bh)\n",
      "        y = np.dot(Why, h) + by\n",
      "        p = np.exp(y) / np.sum(np.exp(y))\n",
      "        ix = np.random.choice(range(vocab_size), p=p.ravel())\n",
      "        x = np.zeros((vocab_size, 1))\n",
      "        x[ix] = 1\n",
      "        ixes.append(ix)\n",
      "    return ixes\n",
      "\n",
      "n, p = 0, 0\n",
      "mWxh, mWhh, mWhy = np.zeros_like(Wxh), np.zeros_like(Whh), np.zeros_like(Why)\n",
      "mbh, mby = np.zeros_like(bh), np.zeros_like(by) # memory variables for Adagrad\n",
      "smooth_loss = -np.log(1.0/vocab_size)*seq_length # loss at iteration 0"
     ],
     "language": "python",
     "metadata": {},
     "outputs": [
      {
       "output_type": "stream",
       "stream": "stdout",
       "text": [
        "data has 489113 characters, 121 unique.\n"
       ]
      }
     ],
     "prompt_number": 3
    },
    {
     "cell_type": "code",
     "collapsed": false,
     "input": [
      "done = False\n",
      "def signal_handler(signal, frame):\n",
      "    global done\n",
      "    done = True\n",
      "signal.signal(signal.SIGINT, signal_handler)\n",
      "\n",
      "while not done:\n",
      "    if n % 100 == 0: display.clear_output(wait=True)\n",
      "    # prepare inputs (we're sweeping from left to right in steps seq_length long)\n",
      "    if p+seq_length+1 >= len(data) or n == 0: \n",
      "        hprev = np.zeros((hidden_size,1)) # reset RNN memory\n",
      "        p = 0 # go from start of data\n",
      "    inputs = [char_to_ix[ch] for ch in data[p:p+seq_length]]\n",
      "    targets = [char_to_ix[ch] for ch in data[p+1:p+seq_length+1]]\n",
      "\n",
      "    # sample from the model now and then\n",
      "    if n % 100 == 0:\n",
      "        sample_ix = sample(hprev, inputs[0], 200)\n",
      "        txt = ''.join(ix_to_char[ix] for ix in sample_ix)\n",
      "        print('----\\n %s \\n----' % (txt, ))\n",
      "\n",
      "    # forward seq_length characters through the net and fetch gradient\n",
      "    loss, dWxh, dWhh, dWhy, dbh, dby, hprev = lossFun(inputs, targets, hprev)\n",
      "    smooth_loss = smooth_loss * 0.999 + loss * 0.001\n",
      "    if n % 100 == 0: print('iter %d, loss: %f' % (n, smooth_loss)) # print progress\n",
      "    \n",
      "    # perform parameter update with Adagrad\n",
      "    for param, dparam, mem in zip([Wxh, Whh, Why, bh, by], \n",
      "                                  [dWxh, dWhh, dWhy, dbh, dby], \n",
      "                                  [mWxh, mWhh, mWhy, mbh, mby]):\n",
      "        mem += dparam * dparam\n",
      "        param += -learning_rate * dparam / np.sqrt(mem + 1e-8) # adagrad update\n",
      "\n",
      "    p += seq_length # move data pointer\n",
      "    n += 1 # iteration counter "
     ],
     "language": "python",
     "metadata": {},
     "outputs": [
      {
       "output_type": "stream",
       "stream": "stdout",
       "text": [
        "----\n",
        " \u0439 \u043f\u043e\u0442\u0447\u0435 \u0435\u043d \u043d\u0435\u0441\u043b\u0438\u043d\u0431\u044b\u0432\u0430\u044e \u043a\u0430\u043b\u043e \u043d\u0443\u0431\u0435 \u0442\u0435\u0440\u0430\u0435 \u0437\u0430\u0440\u0430\u0433\u0438\u043b\u0443\u0442. \u041c\u043e\u043b\u044c\u043c\u0435, \u0430\u0437\u0430\u043b \u0431\u0440\u043e\u0431\u043e\u0432\u043e\u0442,\u00a0- \u0442\u0443\u0433\u0430\u0442\u044c\u0441\u0442\u044c \u0432\u0443\u0434\u043d\u044f \u043a\u043f\u0430\u044f\u0442\u0443. \u0410 \u044e\u0449\u0435 \u043d\u0430 \u043f\u044b\u0445\u043d\u044f\u043b\u0438\u043d\u0438\u0439 \u043e\u0442\u043e\u043c \u0442\u0443\u0434\u0430 \u0432\u0431\u043e\u043b\u044c\u0435 \u043f\u0430\u0448\u043d\u0430\u0436\u0443, \u043e\u043c\u0431\u044b\u043b\u0443\u043a\u0438\u0445 \u043e\u0442\u0438\u0442\u0435\u0440\u043a\u0438\u0439 \u0432\u043d\u0443 \u0432\u043e\u043b\u044c\u0445\u043e, \u0437\u0430\u0437\u043d\u0430\u0441\u0442\u0440\u0443 \u0438 \u043f\u0440\u0430\u0437\u0442\u0430\u0442\u0438\u043a\u0438, \n",
        "----\n",
        "iter 21900, loss: 56.963694\n"
       ]
      }
     ],
     "prompt_number": 4
    },
    {
     "cell_type": "code",
     "collapsed": false,
     "input": [],
     "language": "python",
     "metadata": {},
     "outputs": []
    }
   ],
   "metadata": {}
  }
 ]
}