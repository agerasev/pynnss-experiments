{
 "cells": [
  {
   "cell_type": "code",
   "execution_count": 1,
   "metadata": {
    "collapsed": false
   },
   "outputs": [],
   "source": [
    "%matplotlib inline\n",
    "import matplotlib\n",
    "matplotlib.rcParams['figure.figsize'] = (12, 8)\n",
    "from matplotlib import pyplot as plt\n",
    "from IPython import display\n",
    "import signal"
   ]
  },
  {
   "cell_type": "code",
   "execution_count": 11,
   "metadata": {
    "collapsed": false
   },
   "outputs": [
    {
     "data": {
      "text/plain": [
       "'\\nMinimal character-level Vanilla RNN model. Written by Andrej Karpathy (@karpathy)\\nBSD License\\nSlightly modified by Nthend\\n'"
      ]
     },
     "execution_count": 11,
     "metadata": {},
     "output_type": "execute_result"
    }
   ],
   "source": [
    "\"\"\"\n",
    "Minimal character-level Vanilla RNN model. Written by Andrej Karpathy (@karpathy)\n",
    "BSD License\n",
    "Slightly modified by Nthend\n",
    "\"\"\""
   ]
  },
  {
   "cell_type": "code",
   "execution_count": 3,
   "metadata": {
    "collapsed": false
   },
   "outputs": [
    {
     "name": "stdout",
     "output_type": "stream",
     "text": [
      "data has 4508884 characters, 141 unique.\n",
      "['А', '\"', 'ы', 'ъ', 'Г', 'У', 'э', '-', 'Ч', '1', 'X', 'W', 'Э', 'S', 'O', \"'\", '\\t', 'П', 'З', 'К', 'i', 'v', 'Х', 'Ю', 'Ш', 'U', 'т', 'P', 'ч', 'V', '0', 'p', 'я', 'Z', 'c', '9', 'Ф', 'M', 'Р', 'з', 'L', '4', 'ц', ' ', 'Щ', 'h', 'o', 'н', 'р', 'Ж', 'G', 'H', ';', 't', 'Е', 'Ы', 'x', 'K', 'Н', '#', 'R', 'у', 'ё', 'щ', 'r', 'х', 'Т', '8', ':', '?', 'с', '7', 'Ь', '5', 'ж', 'A', 'б', 'd', 'Л', 'm', ',', 'в', 'Ц', 'к', 'e', 'ш', 'D', 'F', 'k', 'ь', 'w', 'E', 'z', '2', 'е', 'л', 'T', '3', 'В', 'J', 'м', 'Я', 'а', '!', 'l', '*', 'n', 'о', 'п', 'О', 'y', 'г', 'I', 'ф', 's', '6', 'B', 'Й', 'ю', 'b', 'Q', 'N', 'u', '.', '\\n', 'f', 'д', 'й', 'C', 'q', 'и', '(', 'a', 'g', 'М', 'Y', 'Д', 'Б', ')', 'И', 'С']\n"
     ]
    }
   ],
   "source": [
    "import numpy as np\n",
    "\n",
    "# data I/O\n",
    "data = open('data/witcher_rus.txt', 'r', encoding='utf-8').read() # should be simple plain text file\n",
    "chars = list(set(data))\n",
    "data_size, vocab_size = len(data), len(chars)\n",
    "print('data has %d characters, %d unique.' % (data_size, vocab_size))\n",
    "print(chars)\n",
    "char_to_ix = { ch:i for i,ch in enumerate(chars) }\n",
    "ix_to_char = { i:ch for i,ch in enumerate(chars) }\n",
    "\n",
    "# hyperparameters\n",
    "hidden_size = 100 # size of hidden layer of neurons\n",
    "seq_length = 25 # number of steps to unroll the RNN for\n",
    "learning_rate = 1e-1\n",
    "\n",
    "# model parameters\n",
    "Wxh = np.random.randn(hidden_size, vocab_size)*0.01 # input to hidden\n",
    "Whh = np.random.randn(hidden_size, hidden_size)*0.01 # hidden to hidden\n",
    "Why = np.random.randn(vocab_size, hidden_size)*0.01 # hidden to output\n",
    "bh = np.zeros((hidden_size, 1)) # hidden bias\n",
    "by = np.zeros((vocab_size, 1)) # output bias\n",
    "\n",
    "def lossFun(inputs, targets, hprev):\n",
    "    \"\"\"\n",
    "    inputs,targets are both list of integers.\n",
    "    hprev is Hx1 array of initial hidden state\n",
    "    returns the loss, gradients on model parameters, and last hidden state\n",
    "    \"\"\"\n",
    "    xs, hs, ys, ps = {}, {}, {}, {}\n",
    "    hs[-1] = np.copy(hprev)\n",
    "    loss = 0\n",
    "    # forward pass\n",
    "    for t in range(len(inputs)):\n",
    "        xs[t] = np.zeros((vocab_size,1)) # encode in 1-of-k representation\n",
    "        xs[t][inputs[t]] = 1\n",
    "        hs[t] = np.tanh(np.dot(Wxh, xs[t]) + np.dot(Whh, hs[t-1]) + bh) # hidden state\n",
    "        ys[t] = np.dot(Why, hs[t]) + by # unnormalized log probabilities for next chars\n",
    "        ps[t] = np.exp(ys[t]) / np.sum(np.exp(ys[t])) # probabilities for next chars\n",
    "        loss += -np.log(ps[t][targets[t],0]) # softmax (cross-entropy loss)\n",
    "    # backward pass: compute gradients going backwards\n",
    "    dWxh, dWhh, dWhy = np.zeros_like(Wxh), np.zeros_like(Whh), np.zeros_like(Why)\n",
    "    dbh, dby = np.zeros_like(bh), np.zeros_like(by)\n",
    "    dhnext = np.zeros_like(hs[0])\n",
    "    for t in reversed(range(len(inputs))):\n",
    "        dy = np.copy(ps[t])\n",
    "        dy[targets[t]] -= 1 # backprop into y\n",
    "        dWhy += np.dot(dy, hs[t].T)\n",
    "        dby += dy\n",
    "        dh = np.dot(Why.T, dy) + dhnext # backprop into h\n",
    "        dhraw = (1 - hs[t] * hs[t]) * dh # backprop through tanh nonlinearity\n",
    "        dbh += dhraw\n",
    "        dWxh += np.dot(dhraw, xs[t].T)\n",
    "        dWhh += np.dot(dhraw, hs[t-1].T)\n",
    "        dhnext = np.dot(Whh.T, dhraw)\n",
    "    for dparam in [dWxh, dWhh, dWhy, dbh, dby]:\n",
    "        np.clip(dparam, -5, 5, out=dparam) # clip to mitigate exploding gradients\n",
    "    return loss, dWxh, dWhh, dWhy, dbh, dby, hs[len(inputs)-1]\n",
    "\n",
    "def sample(h, seed_ix, n):\n",
    "    \"\"\" \n",
    "    sample a sequence of integers from the model \n",
    "    h is memory state, seed_ix is seed letter for first time step\n",
    "    \"\"\"\n",
    "    x = np.zeros((vocab_size, 1))\n",
    "    x[seed_ix] = 1\n",
    "    ixes = []\n",
    "    for t in range(n):\n",
    "        h = np.tanh(np.dot(Wxh, x) + np.dot(Whh, h) + bh)\n",
    "        y = np.dot(Why, h) + by\n",
    "        p = np.exp(y) / np.sum(np.exp(y))\n",
    "        ix = np.random.choice(range(vocab_size), p=p.ravel())\n",
    "        x = np.zeros((vocab_size, 1))\n",
    "        x[ix] = 1\n",
    "        ixes.append(ix)\n",
    "    return ixes\n",
    "\n",
    "n, p = 0, 0\n",
    "mWxh, mWhh, mWhy = np.zeros_like(Wxh), np.zeros_like(Whh), np.zeros_like(Why)\n",
    "mbh, mby = np.zeros_like(bh), np.zeros_like(by) # memory variables for Adagrad\n",
    "smooth_loss = -np.log(1.0/vocab_size)*seq_length # loss at iteration 0"
   ]
  },
  {
   "cell_type": "code",
   "execution_count": 4,
   "metadata": {
    "collapsed": false
   },
   "outputs": [
    {
     "data": {
      "image/png": "[encoded data removed]",
      "text/plain": [
       "<matplotlib.figure.Figure at 0x21caae66c18>"
      ]
     },
     "metadata": {},
     "output_type": "display_data"
    }
   ],
   "source": [
    "done = False\n",
    "def signal_handler(signal, frame):\n",
    "    global done\n",
    "    done = True\n",
    "signal.signal(signal.SIGINT, signal_handler)\n",
    "\n",
    "plot = True\n",
    "passes = []\n",
    "losses = []\n",
    "\n",
    "while not done:\n",
    "    if n % 100 == 0: display.clear_output(wait=True)\n",
    "    # prepare inputs (we're sweeping from left to right in steps seq_length long)\n",
    "    if p+seq_length+1 >= len(data) or n == 0: \n",
    "        hprev = np.zeros((hidden_size,1)) # reset RNN memory\n",
    "        p = 0 # go from start of data\n",
    "    inputs = [char_to_ix[ch] for ch in data[p:p+seq_length]]\n",
    "    targets = [char_to_ix[ch] for ch in data[p+1:p+seq_length+1]]\n",
    "\n",
    "    # forward seq_length characters through the net and fetch gradient\n",
    "    loss, dWxh, dWhh, dWhy, dbh, dby, hprev = lossFun(inputs, targets, hprev)\n",
    "    smooth_loss = smooth_loss * 0.999 + loss * 0.001\n",
    "    if n % 100 == 0: \n",
    "        book_pass = n*seq_length/len(data)\n",
    "        if plot:\n",
    "            passes.append(book_pass)\n",
    "            losses.append(smooth_loss)\n",
    "            ax = plt.figure().add_subplot(111)\n",
    "            ax.plot(passes, losses)\n",
    "            plt.show()\n",
    "        else:\n",
    "            print('pass: %f, loss: %f' % (book_pass, smooth_loss)) # print progress\n",
    "    \n",
    "    # perform parameter update with Adagrad\n",
    "    for param, dparam, mem in zip([Wxh, Whh, Why, bh, by], \n",
    "                                  [dWxh, dWhh, dWhy, dbh, dby], \n",
    "                                  [mWxh, mWhh, mWhy, mbh, mby]):\n",
    "        mem += dparam * dparam\n",
    "        param += -learning_rate * dparam / np.sqrt(mem + 1e-8) # adagrad update\n",
    "\n",
    "    p += seq_length # move data pointer\n",
    "    n += 1 # iteration counter "
   ]
  },
  {
   "cell_type": "code",
   "execution_count": 10,
   "metadata": {
    "collapsed": false
   },
   "outputs": [
    {
     "name": "stdout",
     "output_type": "stream",
     "text": [
      "лал?\n",
      "\n",
      "- Дак - имы вми, нежалашку удедата дразсе ты томенно, язалноду трие нодорашой позпоезтась на каздае, зымаше, шими скакиев - расинкифоту. aеиз. Ондуре ртя том нам?\n",
      "\n",
      "- Наек. Повенодики.\n",
      "\n",
      "- Госен.\n",
      "\n",
      "- не гевиль, натыми, е манивсининакос и тедносви реснде, рыдсякививае него с ботовитака т говеналуе дроны взи рамоменуеста, обальте свичате хрологлей Наами не слико в бержнафях, - из сбончевшушь, - а селся чильхонни бодщицна доньмика и утала семленол - полятимся мидь.\n",
      "\n",
      "Ракреснуеская!\n",
      "\n",
      "- Ты конялтивама, - коз изе посхрэеста, нивешь догоести, суроб, сраки - не, бужастось с мтанось. Периглють, ты оне позстису. Эй Денсо, колазаяе!\n",
      "\n",
      "- У я рыворнесто, Йенився гризая варерэе слоску, - довафи и сотро игирано ззнаем хлет, в Sешаля крачкая накнесте болок!, - шикоД, - ты влетилесь сзал ск, скапрак кам, на ормадать пруку?\n",
      "\n",
      "- Столовымала грого изаем раруссовала мосумат,, побыед, кокорак утоно вакаех Гарадь на слноська, еа не нем Вусть грен совуще воснино В медловес. А дага ужно - прусеренке Бривым Богрол пезнакого раде Бете, жей Йеста. Наводить рапоскрум грофаснтришил ме тамизие, думу.ь- На дупаемон кеккаргойд?\n",
      "\n",
      "- Е ово тетись в вылирана цракци, с еплет. Но чедорой, рополам, нис мекто. Потавом, врасто олавве ты, Дафрумаска вездо слыве могоринаисели ссяжае не дили Запрвенто кадо вем ртедетны. - Дравойка беднониламо вол, эвзагитих подемер всебы, что отмегив, - - зумалинивым - услетну вебли споро везмак бать в не, - капарейсо обрюх довсенодене горедный рызаста. О принолся что и вакожа.\n",
      "\n",
      "- Са изнать, что чтдакь, гово. Не.. - Доросде ко доловнок ведкатайт, уеменнака годложем мтбрака срокого из Несличорся ез жетны мвуна, вта, что дылтен, н, готэре-дамнодил упававия тая немили в глижшее орожев,нь в прал вазалин о сах водорини, ез логе знения. - Ей чугаднахаЙнил.\n",
      "\n",
      "- Гороко ны чивщевого ведавался, - соловамсеисьтномат....\n",
      "\n",
      "- Тепчедали с дере ведьт. Важут.\n",
      "\n",
      "- Героваю закой хразять.\n",
      "\n",
      "- К скапрами хомечнее поря что хния скотвовняет. У оуко выпроволо го лану стахал Йиз наказой, - крозал чтом из\n"
     ]
    }
   ],
   "source": [
    "sample_ix = sample(hprev, inputs[0], 2000)\n",
    "txt = ''.join(ix_to_char[ix] for ix in sample_ix)\n",
    "print(txt)"
   ]
  },
  {
   "cell_type": "code",
   "execution_count": null,
   "metadata": {
    "collapsed": true
   },
   "outputs": [],
   "source": []
  }
 ],
 "metadata": {
  "kernelspec": {
   "display_name": "Python 3",
   "language": "python",
   "name": "python3"
  },
  "language_info": {
   "codemirror_mode": {
    "name": "ipython",
    "version": 3
   },
   "file_extension": ".py",
   "mimetype": "text/x-python",
   "name": "python",
   "nbconvert_exporter": "python",
   "pygments_lexer": "ipython3",
   "version": "3.5.1"
  }
 },
 "nbformat": 4,
 "nbformat_minor": 0
}
