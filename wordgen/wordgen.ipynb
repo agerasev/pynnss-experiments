{
 "metadata": {
  "kernelspec": {
   "display_name": "Python 3",
   "language": "python",
   "name": "python3"
  },
  "language_info": {
   "codemirror_mode": {
    "name": "ipython",
    "version": 3
   },
   "file_extension": ".py",
   "mimetype": "text/x-python",
   "name": "python",
   "nbconvert_exporter": "python",
   "pygments_lexer": "ipython3",
   "version": "3.5.1"
  },
  "name": "",
  "signature": "sha256:fd5d8bd309d6b19878b03e73364d759634ef1983651e608407314d0afa4c1d8f"
 },
 "nbformat": 3,
 "nbformat_minor": 0,
 "worksheets": [
  {
   "cells": [
    {
     "cell_type": "markdown",
     "metadata": {},
     "source": [
      "### Word generator\n",
      "Network are learned to predict next letter of a word from a list of 20k words.\n",
      "After that it creates its own word by passing output letter to input."
     ]
    },
    {
     "cell_type": "markdown",
     "metadata": {},
     "source": [
      "Here we set up plot inlining options and its size:"
     ]
    },
    {
     "cell_type": "code",
     "collapsed": false,
     "input": [
      "%matplotlib inline\n",
      "import matplotlib\n",
      "matplotlib.rcParams['figure.figsize'] = (12, 12)\n",
      "from IPython import display\n",
      "import sys\n",
      "sys.path.append('../libs')"
     ],
     "language": "python",
     "metadata": {},
     "outputs": [],
     "prompt_number": 1
    },
    {
     "cell_type": "markdown",
     "metadata": {},
     "source": [
      "Import modules:"
     ]
    },
    {
     "cell_type": "code",
     "collapsed": false,
     "input": [
      "import pynn as nn\n",
      "import pynnui as nnui\n",
      "import math\n",
      "from math import floor\n",
      "from random import random, shuffle\n",
      "from copy import copy\n",
      "import numpy as np\n",
      "from matplotlib import pyplot as plt\n",
      "import signal"
     ],
     "language": "python",
     "metadata": {},
     "outputs": [],
     "prompt_number": 2
    },
    {
     "cell_type": "markdown",
     "metadata": {},
     "source": [
      "Load data:"
     ]
    },
    {
     "cell_type": "code",
     "collapsed": false,
     "input": [
      "data = open('data/20k.txt').read()\n",
      "words = []\n",
      "for word in data.split('\\n'):\n",
      "    words.append(word + '\\n')\n",
      "    \n",
      "maxlen = max([len(w) for w in words])\n",
      "avglen = sum([len(w) for w in words])/len(words)\n",
      "print(avglen)"
     ],
     "language": "python",
     "metadata": {},
     "outputs": [
      {
       "output_type": "stream",
       "stream": "stdout",
       "text": [
        "8.0282\n"
       ]
      }
     ],
     "prompt_number": 3
    },
    {
     "cell_type": "markdown",
     "metadata": {},
     "source": [
      "Char to index and back conversion:"
     ]
    },
    {
     "cell_type": "code",
     "collapsed": false,
     "input": [
      "chars = sorted(list(set(data)))\n",
      "ci = {c:i for i,c in enumerate(chars)}\n",
      "ic = {i:c for i,c in enumerate(chars)}\n",
      "\n",
      "size = len(chars)\n",
      "\n",
      "print(chars)"
     ],
     "language": "python",
     "metadata": {},
     "outputs": [
      {
       "output_type": "stream",
       "stream": "stdout",
       "text": [
        "['\\n', \"'\", '-', '.', '0', '1', '2', '4', '5', '9', 'W', 'a', 'b', 'c', 'd', 'e', 'f', 'g', 'h', 'i', 'j', 'k', 'l', 'm', 'n', 'o', 'p', 'q', 'r', 's', 't', 'u', 'v', 'w', 'x', 'y', 'z']\n"
       ]
      }
     ],
     "prompt_number": 4
    },
    {
     "cell_type": "markdown",
     "metadata": {},
     "source": [
      "To learn our network we use [BPTT](https://en.wikipedia.org/wiki/Backpropagation_through_time) with [SGD](https://en.wikipedia.org/wiki/Stochastic_gradient_descent) plus [AdaGrad](https://en.wikipedia.org/wiki/Stochastic_gradient_descent#AdaGrad). [Softmax](https://en.wikipedia.org/wiki/Softmax_function) loss is used."
     ]
    },
    {
     "cell_type": "code",
     "collapsed": true,
     "input": [
      "class Entry:\n",
      "    def __init__(self, ichar, ochar):\n",
      "        self.ichar = ichar\n",
      "        self.ochar = ochar\n",
      "\n",
      "    def getinput(self, buf):\n",
      "        nn.array.clear(buf)\n",
      "        buf.np[self.ichar] = 1.\n",
      "\n",
      "    def getouptut(self, buf):\n",
      "        nn.array.clear(buf)\n",
      "        buf.np[self.ochar] = 1.\n",
      "\n",
      "\n",
      "class Word:\n",
      "    def __init__(self, word):\n",
      "        self.word = word\n",
      "\n",
      "    def __getitem__(self, i):\n",
      "        return Entry(ci[self.word[i]], ci[self.word[i + 1]])\n",
      "\n",
      "    def __len__(self):\n",
      "        return len(self.word) - 1\n",
      "\n",
      "\n",
      "def BGen(data, bsize):\n",
      "    diter = iter(data)\n",
      "    while True:\n",
      "        batch = []\n",
      "        try:\n",
      "            for _ in range(bsize):\n",
      "                batch.append(Word(next(diter)))\n",
      "        except StopIteration:\n",
      "            pass\n",
      "        if len(batch) == 0:\n",
      "            break\n",
      "        yield batch\n",
      "\n",
      "\n",
      "def EGen(data):\n",
      "    while True:\n",
      "        yield BGen(data, 20)\n",
      "        shuffle(data)"
     ],
     "language": "python",
     "metadata": {},
     "outputs": [],
     "prompt_number": 5
    },
    {
     "cell_type": "markdown",
     "metadata": {},
     "source": [
      "Hyperparameters:"
     ]
    },
    {
     "cell_type": "code",
     "collapsed": false,
     "input": [
      "shid = 200\n",
      "batch_size = 20\n",
      "rate = 1e-1\n",
      "clip = 5e0"
     ],
     "language": "python",
     "metadata": {},
     "outputs": [],
     "prompt_number": 6
    },
    {
     "cell_type": "markdown",
     "metadata": {},
     "source": [
      "Define network structure:"
     ]
    },
    {
     "cell_type": "code",
     "collapsed": false,
     "input": [
      "net = nn.Network(size, size)\n",
      "\n",
      "net.addnodes([\n",
      "    nn.Matrix(size, shid),\n",
      "    nn.Matrix(shid, shid),\n",
      "    nn.Join(shid),\n",
      "    nn.Bias(shid),\n",
      "    nn.Tanh(shid),\n",
      "    nn.Fork(shid),\n",
      "    nn.Matrix(shid, size),\n",
      "    nn.Bias(size),\n",
      "    nn.SoftmaxLoss(size)\n",
      "])\n",
      "\n",
      "net.connect([\n",
      "    nn.Path(0, (2, 0)),\n",
      "    nn.Path(1, (2, 1)),\n",
      "    nn.Path(2, 3),\n",
      "    nn.Path(3, 4),\n",
      "    nn.Path(4, 5),\n",
      "    nn.Path((5, 1), 1, mem=True),\n",
      "    nn.Path((5, 0), 6),\n",
      "    nn.Path(6, 7),\n",
      "    nn.Path(7, 8)\n",
      "])\n",
      "\n",
      "net.setinputs(0)\n",
      "net.setoutputs(8)\n",
      "\n",
      "display.SVG(data=nnui.Graph(net).svg())"
     ],
     "language": "python",
     "metadata": {},
     "outputs": [
      {
       "metadata": {},
       "output_type": "pyout",
       "prompt_number": 7,
       "svg": [
        "<svg height=\"169\" version=\"1.1\" width=\"592\" xmlns=\"http://www.w3.org/2000/svg\">\n",
        "\t\t<marker id=\"Arrow\" markerHeight=\"6\" markerUnits=\"strokeWidth\" markerWidth=\"6\" orient=\"auto\" refX=\"2\" refY=\"0\" viewBox=\"-3 -3 6 6\">\n",
        "\t\t<polygon fill=\"gray\" points=\"-1,0 -3,3 3,0 -3,-3\"/>\n",
        "\t\t</marker>\n",
        "\t\t<circle cx=\"45.000000\" cy=\"54.516764\" fill=\"orange\" r=\"30.000000\"/><text fill=\"white\" font-family=\"Verdana\" font-size=\"15.000000\" text-anchor=\"middle\" x=\"45.000000\" y=\"59.016764\">Matrix</text><circle cx=\"212.468873\" cy=\"45.000000\" fill=\"orange\" r=\"30.000000\"/><text fill=\"white\" font-family=\"Verdana\" font-size=\"15.000000\" text-anchor=\"middle\" x=\"212.468873\" y=\"49.500000\">Matrix</text><circle cx=\"128.468914\" cy=\"45.085933\" fill=\"orange\" r=\"30.000000\"/><text fill=\"white\" font-family=\"Verdana\" font-size=\"15.000000\" text-anchor=\"middle\" x=\"128.468914\" y=\"49.585933\">Join</text><circle cx=\"156.637572\" cy=\"124.222060\" fill=\"orange\" r=\"30.000000\"/><text fill=\"white\" font-family=\"Verdana\" font-size=\"15.000000\" text-anchor=\"middle\" x=\"156.637572\" y=\"128.722060\">Bias</text><circle cx=\"240.637528\" cy=\"124.136128\" fill=\"orange\" r=\"30.000000\"/><text fill=\"white\" font-family=\"Verdana\" font-size=\"15.000000\" text-anchor=\"middle\" x=\"240.637528\" y=\"128.636128\">Tanh</text><circle cx=\"295.087101\" cy=\"60.173294\" fill=\"orange\" r=\"30.000000\"/><text fill=\"white\" font-family=\"Verdana\" font-size=\"15.000000\" text-anchor=\"middle\" x=\"295.087101\" y=\"64.673294\">Fork</text><circle cx=\"379.051254\" cy=\"62.627213\" fill=\"orange\" r=\"30.000000\"/><text fill=\"white\" font-family=\"Verdana\" font-size=\"15.000000\" text-anchor=\"middle\" x=\"379.051254\" y=\"67.127213\">Matrix</text><circle cx=\"463.031357\" cy=\"64.455531\" fill=\"orange\" r=\"30.000000\"/><text fill=\"white\" font-family=\"Verdana\" font-size=\"15.000000\" text-anchor=\"middle\" x=\"463.031357\" y=\"68.955531\">Bias</text><circle cx=\"547.022612\" cy=\"65.667685\" fill=\"red\" r=\"30.000000\"/><text fill=\"white\" font-family=\"Verdana\" font-size=\"13.714286\" text-anchor=\"middle\" x=\"547.022612\" y=\"69.781970\">Softmax</text><line marker-end=\"url(#Arrow)\" stroke=\"gray\" stroke-width=\"2\" x1=\"77.791359\" x2=\"95.677556\" y1=\"50.811795\" y2=\"48.790902\"/><line marker-end=\"url(#Arrow)\" stroke=\"gray\" stroke-width=\"2\" x1=\"179.468890\" x2=\"161.468897\" y1=\"45.033759\" y2=\"45.052173\"/><line marker-end=\"url(#Arrow)\" stroke=\"gray\" stroke-width=\"2\" x1=\"139.535172\" x2=\"145.571313\" y1=\"76.175126\" y2=\"93.132867\"/><line marker-end=\"url(#Arrow)\" stroke=\"gray\" stroke-width=\"2\" x1=\"189.637554\" x2=\"207.637545\" y1=\"124.188301\" y2=\"124.169887\"/><line marker-end=\"url(#Arrow)\" stroke=\"gray\" stroke-width=\"2\" x1=\"262.028432\" x2=\"273.696198\" y1=\"99.007872\" y2=\"85.301550\"/><line marker-end=\"url(#Arrow)\" stroke=\"gray\" stroke-width=\"2\" x1=\"262.629941\" x2=\"244.926033\" y1=\"54.212358\" y2=\"50.960937\"/><line marker-end=\"url(#Arrow)\" stroke=\"gray\" stroke-width=\"2\" x1=\"328.073017\" x2=\"346.065338\" y1=\"61.137334\" y2=\"61.663174\"/><line marker-end=\"url(#Arrow)\" stroke=\"gray\" stroke-width=\"2\" x1=\"412.043436\" x2=\"430.039175\" y1=\"63.345481\" y2=\"63.737263\"/><line marker-end=\"url(#Arrow)\" stroke=\"gray\" stroke-width=\"2\" x1=\"496.027921\" x2=\"514.026048\" y1=\"64.931734\" y2=\"65.191481\"/><line marker-end=\"url(#Arrow)\" stroke=\"gray\" stroke-width=\"2\" x1=\"5.000000\" x2=\"12.000000\" y1=\"54.516764\" y2=\"54.516764\"/><line marker-end=\"url(#Arrow)\" stroke=\"gray\" stroke-width=\"2\" x1=\"580.022612\" x2=\"587.022612\" y1=\"65.667685\" y2=\"65.667685\"/></svg>"
       ],
       "text": [
        "<IPython.core.display.SVG at 0x7f63cda01da0>"
       ]
      }
     ],
     "prompt_number": 7
    },
    {
     "cell_type": "markdown",
     "metadata": {},
     "source": [
      "Initialize counters:"
     ]
    },
    {
     "cell_type": "code",
     "collapsed": false,
     "input": [
      "class Plotter:\n",
      "    def __init__(self, bsize, esize, freq, iloss=0.):\n",
      "        self.bsize = bsize\n",
      "        self.batch = 0\n",
      "        self.esize = esize\n",
      "        self.epoch = 0\n",
      "        self.freq = freq\n",
      "        \n",
      "        self.sloss = iloss\n",
      "        self.losses = []\n",
      "        self.epochs = []\n",
      "        \n",
      "    def _epoch(self, loss):\n",
      "        self.epoch += 1\n",
      "        self.batch = 0\n",
      "        \n",
      "    def _batch(self, loss):\n",
      "        self.sloss = 0.99*self.sloss + 0.01*loss\n",
      "        self.batch += 1\n",
      "        if ((self.batch + 1) % self.freq) == 0:\n",
      "            sepoch = self.epoch + min(1.0, self.batch/self.esize)\n",
      "            self.epochs.append(sepoch)\n",
      "            self.losses.append(self.sloss)\n",
      "\n",
      "            fig = plt.figure()\n",
      "            ax = (fig.add_subplot(211), fig.add_subplot(212))\n",
      "            ax[0].plot(self.epochs, self.losses)\n",
      "            r = max(len(self.losses) - 100, 0)\n",
      "            ax[1].plot(self.epochs[r:], self.losses[r:])\n",
      "            ax[1].text(sepoch, self.sloss, str(self.sloss))\n",
      "\n",
      "            display.clear_output(wait=True)\n",
      "\n",
      "            plt.show()\n",
      "        \n",
      "plotter = Plotter(batch_size, (len(words) - 1)//batch_size + 1, 20, iloss=-np.log(1.0/len(chars))*avglen*batch_size)"
     ],
     "language": "python",
     "metadata": {},
     "outputs": [],
     "prompt_number": 8
    },
    {
     "cell_type": "code",
     "collapsed": false,
     "input": [
      "class Watchdog:\n",
      "    class BMon:\n",
      "        def __init__(self, outer):\n",
      "            self.outer = outer\n",
      "            \n",
      "        def __call__(self, ctx):\n",
      "            self.outer._bmon(ctx)\n",
      "            \n",
      "    class EMon:\n",
      "        def __init__(self, outer):\n",
      "            self.outer = outer\n",
      "            \n",
      "        def __call__(self, ctx):\n",
      "            self.outer._emon(ctx)\n",
      "\n",
      "    def __init__(self, plotter):\n",
      "        self.bmon = self.BMon(self)\n",
      "        self.emon = self.EMon(self)\n",
      "        self.stop = False\n",
      "        self.plotter = plotter\n",
      "\n",
      "    def _bmon(self, teacher):\n",
      "        self.plotter._batch(teacher.ctx.loss)\n",
      "        if self.stop:\n",
      "            self.stop = False\n",
      "            raise StopIteration\n",
      "            \n",
      "    def _emon(self, teacher):\n",
      "        self.plotter._epoch(teacher.ctx.loss)\n",
      "            \n",
      "    def _stop(self):\n",
      "        self.stop = True\n",
      "            \n",
      "watchdog = Watchdog(plotter)"
     ],
     "language": "python",
     "metadata": {},
     "outputs": [],
     "prompt_number": 9
    },
    {
     "cell_type": "code",
     "collapsed": false,
     "input": [
      "factory = nn.array.newFactory()\n",
      "\n",
      "teacher = nn.Teacher(\n",
      "    factory, EGen(words), net,\n",
      "    adagrad=True, rate=rate, clip=clip, maxlen=maxlen, \n",
      "    bmon=watchdog.bmon, emon=watchdog.emon\n",
      ")"
     ],
     "language": "python",
     "metadata": {},
     "outputs": [],
     "prompt_number": 10
    },
    {
     "cell_type": "markdown",
     "metadata": {},
     "source": [
      "Main learning loop. You can interrupt it and continue whenever you want."
     ]
    },
    {
     "cell_type": "code",
     "collapsed": false,
     "input": [
      "signal.signal(signal.SIGINT, lambda s, f: watchdog._stop())\n",
      "ctx = teacher.teach()"
     ],
     "language": "python",
     "metadata": {},
     "outputs": [
      {
       "metadata": {},
       "output_type": "display_data",
       "png": "[encoded data removed]",
       "text": [
        "<matplotlib.figure.Figure at 0x7f63cd8eadd8>"
       ]
      }
     ],
     "prompt_number": 17
    },
    {
     "cell_type": "markdown",
     "metadata": {},
     "source": [
      "Here network generates word for each alphabet letter."
     ]
    },
    {
     "cell_type": "code",
     "collapsed": false,
     "input": [
      "alphabet = 'abcdefghijklmnopqrstuvwxyz'\n",
      "feeder = nn.Feeder(factory, net, ctx.state)\n",
      "\n",
      "for ch in alphabet:\n",
      "\n",
      "    a = ci[ch]\n",
      "    print(ch, end='')\n",
      "    feed = feeder.feed()\n",
      "\n",
      "    for i in range(0x40):\n",
      "        Entry(a, 0).getinput(feeder.src)\n",
      "        next(feed)\n",
      "        a = np.argmax(feeder.dst.get())\n",
      "        # a = np.random.choice(range(size), p=feeder.dst.get())\n",
      "        ch = ic[a]\n",
      "\n",
      "        if ch == '\\n':\n",
      "            break\n",
      "        print(ch, end='')\n",
      "    print()"
     ],
     "language": "python",
     "metadata": {},
     "outputs": [
      {
       "output_type": "stream",
       "stream": "stdout",
       "text": [
        "allorice\n",
        "baring\n",
        "consing\n",
        "denorition\n",
        "exporice\n",
        "firting\n",
        "grorer\n",
        "hardention\n",
        "intertion\n",
        "jore\n",
        "kent\n",
        "lant\n",
        "marting\n",
        "norer\n",
        "orgente\n",
        "procer\n",
        "qual\n",
        "resting\n",
        "surcertion\n",
        "trant\n",
        "undertion\n",
        "vision\n",
        "warle\n",
        "xanaler\n",
        "yeate\n",
        "zentention\n"
       ]
      }
     ],
     "prompt_number": 21
    },
    {
     "cell_type": "code",
     "collapsed": true,
     "input": [],
     "language": "python",
     "metadata": {},
     "outputs": [],
     "prompt_number": null
    }
   ],
   "metadata": {}
  }
 ]
}