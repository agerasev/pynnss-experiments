{
 "metadata": {
  "kernelspec": {
   "display_name": "Python 3",
   "language": "python",
   "name": "python3"
  },
  "language_info": {
   "codemirror_mode": {
    "name": "ipython",
    "version": 3
   },
   "file_extension": ".py",
   "mimetype": "text/x-python",
   "name": "python",
   "nbconvert_exporter": "python",
   "pygments_lexer": "ipython3",
   "version": "3.5.1"
  },
  "name": "",
  "signature": "sha256:d251f00ff44bc08907e9050636481e1c0172f4838c879b194551504b4955e183"
 },
 "nbformat": 3,
 "nbformat_minor": 0,
 "worksheets": [
  {
   "cells": [
    {
     "cell_type": "markdown",
     "metadata": {},
     "source": [
      "### Book generator\n",
      "Network are learned to predict next letter in a book.\n",
      "After that it creates its own stories by passing output letter to input.\n",
      "Inspired by [article](karpathy.github.io/2015/05/21/rnn-effectiveness/) by Andrej Karpathy"
     ]
    },
    {
     "cell_type": "markdown",
     "metadata": {},
     "source": [
      "Here we set up plot inlining options and its size:"
     ]
    },
    {
     "cell_type": "code",
     "collapsed": false,
     "input": [
      "%matplotlib inline\n",
      "import matplotlib\n",
      "matplotlib.rcParams['figure.figsize'] = (12, 8)\n",
      "from IPython import display"
     ],
     "language": "python",
     "metadata": {},
     "outputs": [],
     "prompt_number": 1
    },
    {
     "cell_type": "markdown",
     "metadata": {},
     "source": [
      "Import modules:"
     ]
    },
    {
     "cell_type": "code",
     "collapsed": false,
     "input": [
      "import pynn as nn\n",
      "import pynnui as nnui\n",
      "import math\n",
      "from math import floor\n",
      "from copy import copy\n",
      "import numpy as np\n",
      "from matplotlib import pyplot as plt\n",
      "import signal"
     ],
     "language": "python",
     "metadata": {},
     "outputs": [],
     "prompt_number": 2
    },
    {
     "cell_type": "markdown",
     "metadata": {},
     "source": [
      "Load book:"
     ]
    },
    {
     "cell_type": "code",
     "collapsed": false,
     "input": [
      "data = open('data/witcher_rus.txt', 'r', encoding='utf-8').read()\n",
      "chars = sorted(list(set(data)))\n",
      "\n",
      "size = len(chars)\n",
      "\n",
      "print('data length: %d, unique chars: %d' % (len(data), size))\n",
      "print(chars)"
     ],
     "language": "python",
     "metadata": {},
     "outputs": [
      {
       "output_type": "stream",
       "stream": "stdout",
       "text": [
        "data length: 4508884, unique chars: 141\n",
        "['\\t', '\\n', ' ', '!', '\"', '#', \"'\", '(', ')', '*', ',', '-', '.', '0', '1', '2', '3', '4', '5', '6', '7', '8', '9', ':', ';', '?', 'A', 'B', 'C', 'D', 'E', 'F', 'G', 'H', 'I', 'J', 'K', 'L', 'M', 'N', 'O', 'P', 'Q', 'R', 'S', 'T', 'U', 'V', 'W', 'X', 'Y', 'Z', 'a', 'b', 'c', 'd', 'e', 'f', 'g', 'h', 'i', 'k', 'l', 'm', 'n', 'o', 'p', 'q', 'r', 's', 't', 'u', 'v', 'w', 'x', 'y', 'z', '\u0410', '\u0411', '\u0412', '\u0413', '\u0414', '\u0415', '\u0416', '\u0417', '\u0418', '\u0419', '\u041a', '\u041b', '\u041c', '\u041d', '\u041e', '\u041f', '\u0420', '\u0421', '\u0422', '\u0423', '\u0424', '\u0425', '\u0426', '\u0427', '\u0428', '\u0429', '\u042b', '\u042c', '\u042d', '\u042e', '\u042f', '\u0430', '\u0431', '\u0432', '\u0433', '\u0434', '\u0435', '\u0436', '\u0437', '\u0438', '\u0439', '\u043a', '\u043b', '\u043c', '\u043d', '\u043e', '\u043f', '\u0440', '\u0441', '\u0442', '\u0443', '\u0444', '\u0445', '\u0446', '\u0447', '\u0448', '\u0449', '\u044a', '\u044b', '\u044c', '\u044d', '\u044e', '\u044f', '\u0451']\n"
       ]
      }
     ],
     "prompt_number": 3
    },
    {
     "cell_type": "markdown",
     "metadata": {},
     "source": [
      "Char to index and back conversion:"
     ]
    },
    {
     "cell_type": "code",
     "collapsed": true,
     "input": [
      "cim = { ch:i for i,ch in enumerate(chars) }\n",
      "icm = { i:ch for i,ch in enumerate(chars) }\n",
      "\n",
      "def ci(c):\n",
      "    return cim[c]\n",
      "\n",
      "def ic(i):\n",
      "    return icm[i]"
     ],
     "language": "python",
     "metadata": {},
     "outputs": [],
     "prompt_number": 4
    },
    {
     "cell_type": "markdown",
     "metadata": {},
     "source": [
      "To learn our network we use [BPTT](https://en.wikipedia.org/wiki/Backpropagation_through_time) with [SGD](https://en.wikipedia.org/wiki/Stochastic_gradient_descent) plus [AdaGrad](https://en.wikipedia.org/wiki/Stochastic_gradient_descent#AdaGrad). [Softmax](https://en.wikipedia.org/wiki/Softmax_function) loss is used."
     ]
    },
    {
     "cell_type": "code",
     "collapsed": false,
     "input": [
      "def learn(net, state, pos, seq_len):\n",
      "    loss = 0\n",
      "    grad = net.newGradient()\n",
      "    \n",
      "    seq_len = min(seq_len, len(data) - pos - 1)\n",
      "    state_stack = []\n",
      "    vouts_stack = []\n",
      "    \n",
      "    for i in range(seq_len):\n",
      "        a = ci(data[pos + i])\n",
      "        lin = [0]*size\n",
      "        lin[a] = 1\n",
      "        vins = [np.array(lin)]\n",
      "\n",
      "        # feedforward\n",
      "        vouts = net.transmit(state, vins)\n",
      "        state_stack.append(copy(state))\n",
      "        vouts_stack.append(vouts)\n",
      "\n",
      "    error = net.newError()\n",
      "    \n",
      "    for i in reversed(range(seq_len)):\n",
      "        a = ci(data[pos + i + 1])\n",
      "        lres = [0]*size\n",
      "        lres[a] = 1\n",
      "        vres = np.array(lres)\n",
      "        vin = vouts_stack.pop()[0]\n",
      "        vout = np.exp(vin)/np.sum(np.exp(vin))\n",
      "        verrs = [vout - vres]\n",
      "        loss += -np.log(vout[a])\n",
      "\n",
      "        # backpropagate\n",
      "        net.backprop(grad, error, state_stack.pop(), verrs)\n",
      "        \n",
      "    return (grad, loss)"
     ],
     "language": "python",
     "metadata": {},
     "outputs": [],
     "prompt_number": 5
    },
    {
     "cell_type": "markdown",
     "metadata": {},
     "source": [
      "Hyperparameters:"
     ]
    },
    {
     "cell_type": "code",
     "collapsed": true,
     "input": [
      "seq_len = 25\n",
      "shid = 100\n",
      "rate_f = 1e-1"
     ],
     "language": "python",
     "metadata": {},
     "outputs": [],
     "prompt_number": 6
    },
    {
     "cell_type": "markdown",
     "metadata": {},
     "source": [
      "Define network structure:"
     ]
    },
    {
     "cell_type": "code",
     "collapsed": false,
     "input": [
      "net = nn.Network(1, 1)\n",
      "\n",
      "net.nodes[0] = nn.MatrixProduct(size, shid) # W_xh\n",
      "net.nodes[1] = nn.MatrixProduct(shid, shid) # W_hh\n",
      "net.nodes[2] = nn.Merger(shid, 2)\n",
      "net.nodes[3] = nn.Bias(shid)\n",
      "net.nodes[4] = nn.Tanh(shid)\n",
      "net.nodes[5] = nn.Fork(shid, 2)\n",
      "net.nodes[6] = nn.MatrixProduct(shid, size) # W_hy\n",
      "net.nodes[7] = nn.Bias(size)\n",
      "\n",
      "net.link(nn.Path((-1, 0), ( 0, 0)))\n",
      "net.link(nn.Path(( 0, 0), ( 2, 0)))\n",
      "net.link(nn.Path(( 1, 0), ( 2, 1)))\n",
      "\n",
      "net.link(nn.Path(( 2, 0), ( 3, 0)))\n",
      "net.link(nn.Path(( 3, 0), ( 4, 0)))\n",
      "net.link(nn.Path(( 4, 0), ( 5, 0)))\n",
      "\n",
      "net.link(nn.Path(( 5, 1), ( 1, 0), np.zeros(shid)))\n",
      "net.link(nn.Path(( 5, 0), ( 6, 0)))\n",
      "net.link(nn.Path(( 6, 0), ( 7, 0)))\n",
      "net.link(nn.Path(( 7, 0), (-1, 0)))\n",
      "\n",
      "rate = nn.RateAdaGrad(net, rate_f)\n",
      "\n",
      "display.SVG(data=nnui.Graph(net).svg())"
     ],
     "language": "python",
     "metadata": {},
     "outputs": [
      {
       "metadata": {},
       "output_type": "pyout",
       "prompt_number": 7,
       "svg": [
        "<svg height=\"171\" version=\"1.1\" width=\"605\" xmlns=\"http://www.w3.org/2000/svg\">\n",
        "\t\t<marker id=\"Arrow\" markerHeight=\"6\" markerUnits=\"strokeWidth\" markerWidth=\"6\" orient=\"auto\" refX=\"2\" refY=\"0\" viewBox=\"-3 -3 6 6\">\n",
        "\t\t<polygon fill=\"gray\" points=\"-1,0 -3,3 3,0 -3,-3\"/>\n",
        "\t\t</marker>\n",
        "\t\t<circle cx=\"45.000000\" cy=\"102.130731\" fill=\"orange\" r=\"30.000000\"/><text fill=\"white\" font-family=\"Verdana\" font-size=\"15.000000\" text-anchor=\"middle\" x=\"45.000000\" y=\"106.630731\">Matrix</text><circle cx=\"250.511072\" cy=\"117.597853\" fill=\"orange\" r=\"30.000000\"/><text fill=\"white\" font-family=\"Verdana\" font-size=\"15.000000\" text-anchor=\"middle\" x=\"250.511072\" y=\"122.097853\">Matrix</text><circle cx=\"148.956190\" cy=\"104.312015\" fill=\"orange\" r=\"30.000000\"/><text fill=\"white\" font-family=\"Verdana\" font-size=\"15.000000\" text-anchor=\"middle\" x=\"148.956190\" y=\"108.812015\">Merger</text><circle cx=\"211.686650\" cy=\"45.000000\" fill=\"orange\" r=\"30.000000\"/><text fill=\"white\" font-family=\"Verdana\" font-size=\"15.000000\" text-anchor=\"middle\" x=\"211.686650\" y=\"49.500000\">Bias</text><circle cx=\"297.879131\" cy=\"50.204968\" fill=\"orange\" r=\"30.000000\"/><text fill=\"white\" font-family=\"Verdana\" font-size=\"15.000000\" text-anchor=\"middle\" x=\"297.879131\" y=\"54.704968\">Tanh</text><circle cx=\"352.949981\" cy=\"116.253622\" fill=\"orange\" r=\"30.000000\"/><text fill=\"white\" font-family=\"Verdana\" font-size=\"15.000000\" text-anchor=\"middle\" x=\"352.949981\" y=\"120.753622\">Fork</text><circle cx=\"456.585483\" cy=\"122.420278\" fill=\"orange\" r=\"30.000000\"/><text fill=\"white\" font-family=\"Verdana\" font-size=\"15.000000\" text-anchor=\"middle\" x=\"456.585483\" y=\"126.920278\">Matrix</text><circle cx=\"560.415415\" cy=\"126.095016\" fill=\"orange\" r=\"30.000000\"/><text fill=\"white\" font-family=\"Verdana\" font-size=\"15.000000\" text-anchor=\"middle\" x=\"560.415415\" y=\"130.595016\">Bias</text><line marker-end=\"url(#Arrow)\" stroke=\"gray\" stroke-width=\"2\" x1=\"77.992738\" x2=\"115.963452\" y1=\"102.823009\" y2=\"103.619738\"/><line marker-end=\"url(#Arrow)\" stroke=\"gray\" stroke-width=\"2\" x1=\"217.789895\" x2=\"181.677367\" y1=\"113.317131\" y2=\"108.592738\"/><line marker-end=\"url(#Arrow)\" stroke=\"gray\" stroke-width=\"2\" x1=\"172.934916\" x2=\"187.707924\" y1=\"81.639991\" y2=\"67.672025\"/><line marker-end=\"url(#Arrow)\" stroke=\"gray\" stroke-width=\"2\" x1=\"244.626644\" x2=\"264.939137\" y1=\"46.989171\" y2=\"48.215797\"/><line marker-end=\"url(#Arrow)\" stroke=\"gray\" stroke-width=\"2\" x1=\"319.012079\" x2=\"331.817033\" y1=\"75.550550\" y2=\"90.908040\"/><line marker-end=\"url(#Arrow)\" stroke=\"gray\" stroke-width=\"2\" x1=\"319.952822\" x2=\"283.508231\" y1=\"116.686620\" y2=\"117.164855\"/><line marker-end=\"url(#Arrow)\" stroke=\"gray\" stroke-width=\"2\" x1=\"385.891715\" x2=\"423.643749\" y1=\"118.213765\" y2=\"120.460136\"/><line marker-end=\"url(#Arrow)\" stroke=\"gray\" stroke-width=\"2\" x1=\"489.564834\" x2=\"527.436063\" y1=\"123.587480\" y2=\"124.927814\"/><line marker-end=\"url(#Arrow)\" stroke=\"gray\" stroke-width=\"2\" x1=\"5.000000\" x2=\"12.000000\" y1=\"102.130731\" y2=\"102.130731\"/><line marker-end=\"url(#Arrow)\" stroke=\"gray\" stroke-width=\"2\" x1=\"593.415415\" x2=\"600.415415\" y1=\"126.095016\" y2=\"126.095016\"/></svg>"
       ],
       "text": [
        "<IPython.core.display.SVG at 0x7fb8af7c0c50>"
       ]
      }
     ],
     "prompt_number": 7
    },
    {
     "cell_type": "markdown",
     "metadata": {},
     "source": [
      "Iterators, counters and state:"
     ]
    },
    {
     "cell_type": "code",
     "collapsed": false,
     "input": [
      "seq = 0\n",
      "pos = 0\n",
      "smooth_loss = -np.log(1/size)*seq_len\n",
      "epoch = 0\n",
      "state = None"
     ],
     "language": "python",
     "metadata": {},
     "outputs": [],
     "prompt_number": 8
    },
    {
     "cell_type": "markdown",
     "metadata": {},
     "source": [
      "Main learning loop. You can interrupt it and continue whenever you want."
     ]
    },
    {
     "cell_type": "code",
     "collapsed": false,
     "input": [
      "done = False\n",
      "def signal_handler(signal, frame):\n",
      "    global done\n",
      "    done = True\n",
      "signal.signal(signal.SIGINT, signal_handler)\n",
      "\n",
      "epochs = []\n",
      "losses = []\n",
      "\n",
      "show_period = 100\n",
      "while not done:\n",
      "    if pos >= len(data):\n",
      "        pos = 0\n",
      "        seq = 0\n",
      "        epoch += 1\n",
      "    if pos == 0:\n",
      "        state = net.newState() # create new clear state\n",
      "    \n",
      "    (grad, loss) = learn(net, state, pos, seq_len)\n",
      "    grad.clip(5e0)\n",
      "    rate.update(grad)\n",
      "    net.learn(grad, rate)\n",
      "    \n",
      "    smooth_loss = 0.999*smooth_loss + 0.001*loss\n",
      "    \n",
      "    if (seq+1) % show_period == 0:\n",
      "        smooth_epoch = epoch + pos/len(data)\n",
      "        epochs.append(smooth_epoch)\n",
      "        losses.append(smooth_loss)\n",
      "\n",
      "        fig = plt.figure()\n",
      "        ax = fig.add_subplot(111)\n",
      "        ax.plot(epochs, losses)\n",
      "        ax.text(smooth_epoch,smooth_loss,str(smooth_loss))\n",
      "        \n",
      "        display.clear_output(wait=True)\n",
      "\n",
      "        plt.show()\n",
      "        \n",
      "    pos += seq_len\n",
      "    seq += 1\n",
      "    \n",
      "'done'"
     ],
     "language": "python",
     "metadata": {},
     "outputs": [
      {
       "metadata": {},
       "output_type": "display_data",
       "png": "[encoded data removed]",
       "text": [
        "<matplotlib.figure.Figure at 0x7fb8af758908>"
       ]
      },
      {
       "metadata": {},
       "output_type": "pyout",
       "prompt_number": 11,
       "text": [
        "'done'"
       ]
      }
     ],
     "prompt_number": 11
    },
    {
     "cell_type": "markdown",
     "metadata": {},
     "source": [
      "Generate text from current position and state:"
     ]
    },
    {
     "cell_type": "code",
     "collapsed": false,
     "input": [
      "sp = min(pos, len(data) - 1)\n",
      "\n",
      "sst = copy(state)\n",
      "\n",
      "a = ci(data[sp])\n",
      "print(ic(a), end='')\n",
      "\n",
      "for i in range(1000):\n",
      "    lin = [0]*size\n",
      "    lin[a] = 1\n",
      "    vins = [np.array(lin)]\n",
      "    vouts = net.transmit(sst, vins)\n",
      "    prob = np.exp(vouts[0])/np.sum(np.exp(vouts[0]))\n",
      "    a = np.random.choice(range(size), p=prob)\n",
      "    print(ic(a), end='')\n",
      "print()"
     ],
     "language": "python",
     "metadata": {},
     "outputs": [
      {
       "output_type": "stream",
       "stream": "stdout",
       "text": [
        "\u0445 \u0434\u0430\u043c\u0430 \u0441\u0434\u0440\u043e \u0435, \u0447\u0442\u043e\u0441\u0443\u043a\u0430\u0439 \u043f\u043b\u0430\u0436\u0430\u0441\u044c, \u0433\u043e\u043d\u044b \u0441\u0435\u043b\u0443\u043a\u0441\u044f \u043f\u0440\u043e\u0442\u0430\u0442\u0430\u043a \u0443\u0434\u043e\u0432\u0430\u043b \u0446\u043e\u043b\u0443\u0442\u0447\u043d\u0438\u0430 \u043e\u043c\u0449\u0435. \u0428\u043e \u043e\u043f\u043e\u043b\u044e\u043b\u044c\u0441\u0435 \u0441\u0442\u043e\u0442\u044f\u043d\u0440\u044b\u0439 \u0442\u043e\u0440\u0430\u043c, \u043f\u043e\u0434\u0435\u0449\u0438 \u0442\u0430\u0439\u0441\u0442 \u0431\u044b\u0445\u043e\u0445 \u043a\u043e\u0436\u0434\u043e\u0432\u043e\u0433\u043b\u0430 \u043e\u043d\u0437\u0443\u0441\u0442\u0430., \u0447\u0438\u0432\u043e\u0433\u043e \u0440\u0430\u0436\u0435\u043d\u043e \u0433\u043b\u0435\u043f \u0413\u0435\u0440\u0435\u0440\u044c, \u0448\u043e\u043c\u0433\u0443 \u0438 \u043a\u043e\u0437\u043d\u0430\u044e \u0437\u0430\u0442\u0430\u0437. \u041f\u043e\u0436\u0438\u0448\u044c, \u0443\u0434\u0435\u0432\u0438\u044f \u043f\u0440\u0438\u0442\u044c\u043a\u0438 \u043f\u0440\u0438\u043b\u044b\u0432\u0438 \u043d\u043e\u0433 \u0432\u0430\u0434\u0448\u0438\u043b\u043e \u0441\u0442\u0440\u0430\u043a\u0438, \u0418 \u0431\u043e\u043c"
       ]
      },
      {
       "output_type": "stream",
       "stream": "stdout",
       "text": [
        "\u0435\u043b\u0435 \u0440\u0430\u0440\u0438\u0442\u0443\u0442 \u043a\u0430\u043a\u0440\u043e\u0441 \u043e\u0442\u043e\u0434\u0430\u043b\u0438\u043d\u0438 \u0411\u043e\u0440\u043e\u0432\u043e\u043b\u0443 \u043d\u0435 \u0438\u043d \u0437\u0443\u0433\u043b\u044b\u043c. \u0418 \u043e \u043f\u043e\u043b\u044c:\n",
        "\n",
        "- \u041d\u0435\u043c\u0443\u043b\u0430\u044f \u044d\u0442\u043e, \u0431\u044b\u0440\u0441\u044f \u043e\u0442\u043d\u0430, \u043e\u043d\u0430\u0446\u0430 \u0438 \u0440\u044b\u0447\u0438\u0435\u043d\u0438\u0435 \u0438 \u0442\u043e\u0433\u0440\u043e\u0438\u043d\u043e \u044d\u0442\u043e\u0447\u044c...\n",
        "\n",
        "- \u041d\u0435\u043b\u0430\u043d\u0438 \u0432 \u043d\u0430 \u0440\u0438\u0448\u0442\u0430\u043f\u0442\u0438\u043a\u0438\u043c \u043d\u043e \u0434\u0443\u043b\u044b\u0432\u0430. \u041e\u043d\u042d\u043d\u0438\u0442\n",
        "\n",
        "- \u041d\u0435\u0440\u0432\u043e\u0440\u0435\u043b\u0430 \u043e\u0442, \u043b\u044c\u0432\u0443\u043b\u0435\u043d\u0438\u044f \u0431\u0440\u0435\u0448\u044c \u0438 \u0433\u0434\u044f\u0449\u0430 \u0424\u0430\u043b\u0438\u0442\u044c \u0410 \u0431\u0435\u043a\u0435\u0441\u043a\u043e\u0433\u0440\u0430\u0445\u043e\u0439 \u0434\u043e\u0441\u043b\u0438 \u043d\u0438\u0443 \u0431\u0443\u0434\u0430\u0441"
       ]
      },
      {
       "output_type": "stream",
       "stream": "stdout",
       "text": [
        "\u043a\u0440\u0430\u0442 \u043a\u043b\u044f\u0431\u0435. \u0410 \u043d\u0435 \u044d\u0442\u0441\u043a\u0430\u043a\u0430\u043b\u0435\u043d\u0438\u043c\u0435\u0447\u0435\u043d\u043d\u043e \u043f\u043e\u0434\u044c\u0439\u043f\u0440\u0435. - \u0422\u0440\u0438\u043c\u0430 \u0433\u0440\u0430\u043a, \u0431\u043e\u0442\u0440\u0440\u044b. \u0422\u044b\u043a\u0430 \u0432\u043e\u0440\u0435\u043d\u0442\u043e\u0432\u0430. \u0420\u0435\u0440\u043e\u0434\u0438\u0432 \u043d\u0438 \u0432\u043d\u0438\u043c\u0430 \u043d\u0432\u0433\u043b\u0435\u0446\u0430\u043b\u0430 \u0441\u043b\u044b \u0443\u043b\u0434\u043e\u0440\u043e\u0440\u0441\u043b\u043e\u0441\u0442\u044c \u043e \u0437\u0435\u043d\u043e? \u0410 \u0447\u0442\u043e\u043c \u043e\u0431\u0449\u0435\u0435 \u043f\u043b\u0435\u0448\u044c\u0448\u0430\u0432\u043a\u044b\u0439 \u0438 \u044f\u0433\u043e\u0447\u0438\u0442\u044c. \u041d\u0430 \u0442\u043e \u043e\u0441\u043b\u0438\u0434\u0430, - \u0433\u0440\u043e\u0432\u0430\u043b \u0437\u0435\u043c \u0434\u044b \u043d\u0430\u043a, - \u0438 \u043d\u043e \u0432\u0430\u0433\u0442 \u0433\u0440\u0443\u043b\u0435\u043c\u0435\u0445, \u0441\u043b\u043e\u0441\u0442\u043e\u0439 \u0433\u0432\u0430\u0441\u0430\u0434 \u0432 \u041c\u0432\u0435\u0431\u0440\u0443. c"
       ]
      },
      {
       "output_type": "stream",
       "stream": "stdout",
       "text": [
        "\u0412\u0438 \u0434\u043e\u0434\u043e\u043b\u0435\u043d\u0449\u0435\u0431\u044b \u043f\u043e\u0440\u043f\u0435\u0448\u0435\u0432\u0448\u0443\u043c \u043d\u0430 \u0437\u043d\u0438\u043c\u043e \u0447\u0442\u0432\u0435\u043d\u0446\u043e\u0441\u043b\u043e\u0442.\n",
        "\n",
        "\u0412\u043f\u0435\u0440\u0435\u043d, - \u0410 \u043d\u0435\u0434\u043d\u044f, \u043a\u0438\u043e\u0439\u043d\u043e \u0447\u0446\u043e\u0441 \u0438\u0437\u0434\u0435 \u044d\u0442\u043e \u0414\u0432\u0438\u0432\u0434\u043d\u043e\u0431\u044b\u043b \u043a\u044b\u0440\u0438\u0436\u0430\u0442\u044c, \u043d\u0435 \u043f\u043e\u0442\u043b\u0435\u0432\u0430\u0442\u044c!\n",
        "\n",
        "\u0423\u041b\u0437\u044f\u0442\u043e\u043c \u043c\u0430\u0435 \u043f\u043e\u0440\u043e\u0433\u0430\u0438\u043c\u0438\u043b, \u043a\u0440\u0438\u043c\u043e\u0435. \u0422\u043e \u0431\u0430\u0445\u0430\u0445\u0430\u0432\u043e\u043d \u0436\u043d\u0435\u0442\u044c, \u0440\u0430\u0441\u0442\u0443\u043d\", \u043a. \u041d\u043e \u0432 \u0432\u0430\u0436\u0435\u0442, \u0443\u043a\u0430\u043c\u0438\u043b\u043e\u043c.\n",
        "\n",
        "\u0414\u0434\u0438\u043d\u0443 \u0434\u0435\u043f\u0435 \u0431\u0430\u043a\u0430\u043d\u0430.\n",
        "\n",
        "- \u0422\u0430\u043a\u0443\u0434 \n"
       ]
      }
     ],
     "prompt_number": 13
    },
    {
     "cell_type": "code",
     "collapsed": true,
     "input": [],
     "language": "python",
     "metadata": {},
     "outputs": [],
     "prompt_number": null
    }
   ],
   "metadata": {}
  }
 ]
}