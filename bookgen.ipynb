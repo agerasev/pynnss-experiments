{
 "cells": [
  {
   "cell_type": "markdown",
   "metadata": {},
   "source": [
    "### Book generator\n",
    "Network are learned to predict next letter in a book.\n",
    "After that it creates its own stories by passing output letter to input.\n",
    "Inspired by [article](karpathy.github.io/2015/05/21/rnn-effectiveness/) by Andrej Karpathy"
   ]
  },
  {
   "cell_type": "markdown",
   "metadata": {},
   "source": [
    "Here we set up plot inlining options and its size:"
   ]
  },
  {
   "cell_type": "code",
   "execution_count": 21,
   "metadata": {
    "collapsed": false
   },
   "outputs": [],
   "source": [
    "%matplotlib inline\n",
    "import matplotlib\n",
    "matplotlib.rcParams['figure.figsize'] = (12, 8)\n",
    "from IPython import display"
   ]
  },
  {
   "cell_type": "markdown",
   "metadata": {},
   "source": [
    "Import modules:"
   ]
  },
  {
   "cell_type": "code",
   "execution_count": 22,
   "metadata": {
    "collapsed": false
   },
   "outputs": [],
   "source": [
    "import pynn as nn\n",
    "import pynnui as nnui\n",
    "import math\n",
    "from math import floor\n",
    "from copy import copy\n",
    "import numpy as np\n",
    "from matplotlib import pyplot as plt\n",
    "import signal"
   ]
  },
  {
   "cell_type": "markdown",
   "metadata": {},
   "source": [
    "Load book:"
   ]
  },
  {
   "cell_type": "code",
   "execution_count": 23,
   "metadata": {
    "collapsed": false
   },
   "outputs": [
    {
     "name": "stdout",
     "output_type": "stream",
     "text": [
      "data length: 4508884, unique chars: 141\n",
      "['\\t', '\\n', ' ', '!', '\"', '#', \"'\", '(', ')', '*', ',', '-', '.', '0', '1', '2', '3', '4', '5', '6', '7', '8', '9', ':', ';', '?', 'A', 'B', 'C', 'D', 'E', 'F', 'G', 'H', 'I', 'J', 'K', 'L', 'M', 'N', 'O', 'P', 'Q', 'R', 'S', 'T', 'U', 'V', 'W', 'X', 'Y', 'Z', 'a', 'b', 'c', 'd', 'e', 'f', 'g', 'h', 'i', 'k', 'l', 'm', 'n', 'o', 'p', 'q', 'r', 's', 't', 'u', 'v', 'w', 'x', 'y', 'z', 'А', 'Б', 'В', 'Г', 'Д', 'Е', 'Ж', 'З', 'И', 'Й', 'К', 'Л', 'М', 'Н', 'О', 'П', 'Р', 'С', 'Т', 'У', 'Ф', 'Х', 'Ц', 'Ч', 'Ш', 'Щ', 'Ы', 'Ь', 'Э', 'Ю', 'Я', 'а', 'б', 'в', 'г', 'д', 'е', 'ж', 'з', 'и', 'й', 'к', 'л', 'м', 'н', 'о', 'п', 'р', 'с', 'т', 'у', 'ф', 'х', 'ц', 'ч', 'ш', 'щ', 'ъ', 'ы', 'ь', 'э', 'ю', 'я', 'ё']\n"
     ]
    }
   ],
   "source": [
    "data = open('data/witcher_rus.txt', 'r', encoding='utf-8').read()\n",
    "chars = sorted(list(set(data)))\n",
    "\n",
    "size = len(chars)\n",
    "\n",
    "print('data length: %d, unique chars: %d' % (len(data), size))\n",
    "print(chars)"
   ]
  },
  {
   "cell_type": "markdown",
   "metadata": {},
   "source": [
    "Char to index and back conversion:"
   ]
  },
  {
   "cell_type": "code",
   "execution_count": 43,
   "metadata": {
    "collapsed": true
   },
   "outputs": [],
   "source": [
    "cim = { ch:i for i,ch in enumerate(chars) }\n",
    "icm = { i:ch for i,ch in enumerate(chars) }\n",
    "\n",
    "def ci(c):\n",
    "    return cim[c]\n",
    "\n",
    "def ic(i):\n",
    "    return icm[i]"
   ]
  },
  {
   "cell_type": "markdown",
   "metadata": {},
   "source": [
    "To learn our network we use [BPTT](https://en.wikipedia.org/wiki/Backpropagation_through_time) with [SGD](https://en.wikipedia.org/wiki/Stochastic_gradient_descent) plus [AdaGrad](https://en.wikipedia.org/wiki/Stochastic_gradient_descent#AdaGrad). [Softmax](https://en.wikipedia.org/wiki/Softmax_function) loss is used."
   ]
  },
  {
   "cell_type": "code",
   "execution_count": 49,
   "metadata": {
    "collapsed": false
   },
   "outputs": [],
   "source": [
    "def learn(net, state, pos, seq_len):\n",
    "    loss = 0\n",
    "    grad = net.newGradient()\n",
    "    \n",
    "    seq_len = min(seq_len, len(data) - pos - 1)\n",
    "    state_stack = []\n",
    "    vouts_stack = []\n",
    "    \n",
    "    for i in range(seq_len):\n",
    "        a = ci(data[pos + i])\n",
    "        lin = [0]*size\n",
    "        lin[a] = 1\n",
    "        vins = [np.array(lin)]\n",
    "\n",
    "        # feedforward\n",
    "        vouts = net.transmit(state, vins)\n",
    "        state_stack.append(copy(state))\n",
    "        vouts_stack.append(vouts)\n",
    "\n",
    "    error = net.newError()\n",
    "    error.pipes[net._blink[(1, 0)]].data = np.zeros(shid)\n",
    "    \n",
    "    for i in reversed(range(seq_len)):\n",
    "        a = ci(data[pos + i + 1])\n",
    "        lres = [0]*size\n",
    "        lres[a] = 1\n",
    "        vres = np.array(lres)\n",
    "        vin = vouts_stack.pop()[0]\n",
    "        vout = np.exp(vin)/np.sum(np.exp(vin))\n",
    "        verrs = [vout - vres]\n",
    "        loss += -np.log(vout[a])\n",
    "\n",
    "        # backpropagate\n",
    "        bst = state_stack.pop()\n",
    "        net.backprop(grad, error, bst, verrs)\n",
    "        \n",
    "        #if i == seq_len - 1:\n",
    "            #np.save('arrays/m_dWhh.npy', grad.nodes[1].state)\n",
    "            #np.save('arrays/m_h.npy', bst.nodes[1].vins[0])\n",
    "        \n",
    "    return (grad, loss)"
   ]
  },
  {
   "cell_type": "markdown",
   "metadata": {},
   "source": [
    "Hyperparameters:"
   ]
  },
  {
   "cell_type": "code",
   "execution_count": 50,
   "metadata": {
    "collapsed": true
   },
   "outputs": [],
   "source": [
    "seq_len = 25\n",
    "shid = 100\n",
    "rate_f = 1e-2"
   ]
  },
  {
   "cell_type": "markdown",
   "metadata": {},
   "source": [
    "Define network structure:"
   ]
  },
  {
   "cell_type": "code",
   "execution_count": 51,
   "metadata": {
    "collapsed": false
   },
   "outputs": [
    {
     "data": {
      "image/svg+xml": [
       "<svg height=\"162\" version=\"1.1\" width=\"606\" xmlns=\"http://www.w3.org/2000/svg\">\n",
       "\t\t<marker id=\"Arrow\" markerHeight=\"6\" markerUnits=\"strokeWidth\" markerWidth=\"6\" orient=\"auto\" refX=\"2\" refY=\"0\" viewBox=\"-3 -3 6 6\">\n",
       "\t\t<polygon fill=\"gray\" points=\"-1,0 -3,3 3,0 -3,-3\"/>\n",
       "\t\t</marker>\n",
       "\t\t<circle cx=\"45.000000\" cy=\"45.657608\" fill=\"orange\" r=\"30.000000\"/><text fill=\"white\" font-family=\"Verdana\" font-size=\"15.000000\" text-anchor=\"middle\" x=\"45.000000\" y=\"50.157608\">Matrix</text><circle cx=\"251.677892\" cy=\"45.000000\" fill=\"orange\" r=\"30.000000\"/><text fill=\"white\" font-family=\"Verdana\" font-size=\"15.000000\" text-anchor=\"middle\" x=\"251.677892\" y=\"49.500000\">Matrix</text><circle cx=\"148.924632\" cy=\"47.895015\" fill=\"orange\" r=\"30.000000\"/><text fill=\"white\" font-family=\"Verdana\" font-size=\"15.000000\" text-anchor=\"middle\" x=\"148.924632\" y=\"52.395015\">Merger</text><circle cx=\"204.919328\" cy=\"112.765225\" fill=\"orange\" r=\"30.000000\"/><text fill=\"white\" font-family=\"Verdana\" font-size=\"15.000000\" text-anchor=\"middle\" x=\"204.919328\" y=\"117.265225\">Bias</text><circle cx=\"290.964834\" cy=\"117.316379\" fill=\"orange\" r=\"30.000000\"/><text fill=\"white\" font-family=\"Verdana\" font-size=\"15.000000\" text-anchor=\"middle\" x=\"290.964834\" y=\"121.816379\">Tanh</text><circle cx=\"353.561267\" cy=\"58.307578\" fill=\"orange\" r=\"30.000000\"/><text fill=\"white\" font-family=\"Verdana\" font-size=\"15.000000\" text-anchor=\"middle\" x=\"353.561267\" y=\"62.807578\">Fork</text><circle cx=\"457.518255\" cy=\"62.839862\" fill=\"orange\" r=\"30.000000\"/><text fill=\"white\" font-family=\"Verdana\" font-size=\"15.000000\" text-anchor=\"middle\" x=\"457.518255\" y=\"67.339862\">Matrix</text><circle cx=\"561.509295\" cy=\"65.420707\" fill=\"orange\" r=\"30.000000\"/><text fill=\"white\" font-family=\"Verdana\" font-size=\"15.000000\" text-anchor=\"middle\" x=\"561.509295\" y=\"69.920707\">Bias</text><line marker-end=\"url(#Arrow)\" stroke=\"gray\" stroke-width=\"2\" x1=\"77.992355\" x2=\"115.932277\" y1=\"46.367905\" y2=\"47.184718\"/><line marker-end=\"url(#Arrow)\" stroke=\"gray\" stroke-width=\"2\" x1=\"218.690982\" x2=\"181.911542\" y1=\"45.929388\" y2=\"46.965627\"/><line marker-end=\"url(#Arrow)\" stroke=\"gray\" stroke-width=\"2\" x1=\"170.487563\" x2=\"183.356397\" y1=\"72.875807\" y2=\"87.784432\"/><line marker-end=\"url(#Arrow)\" stroke=\"gray\" stroke-width=\"2\" x1=\"237.873264\" x2=\"258.010898\" y1=\"114.508238\" y2=\"115.573366\"/><line marker-end=\"url(#Arrow)\" stroke=\"gray\" stroke-width=\"2\" x1=\"314.977332\" x2=\"329.548769\" y1=\"94.680125\" y2=\"80.943831\"/><line marker-end=\"url(#Arrow)\" stroke=\"gray\" stroke-width=\"2\" x1=\"320.839213\" x2=\"284.399945\" y1=\"54.033561\" y2=\"49.274017\"/><line marker-end=\"url(#Arrow)\" stroke=\"gray\" stroke-width=\"2\" x1=\"386.529949\" x2=\"424.549572\" y1=\"59.744936\" y2=\"61.402504\"/><line marker-end=\"url(#Arrow)\" stroke=\"gray\" stroke-width=\"2\" x1=\"490.508096\" x2=\"528.519453\" y1=\"63.658603\" y2=\"64.601967\"/><line marker-end=\"url(#Arrow)\" stroke=\"gray\" stroke-width=\"2\" x1=\"5.000000\" x2=\"12.000000\" y1=\"45.657608\" y2=\"45.657608\"/><line marker-end=\"url(#Arrow)\" stroke=\"gray\" stroke-width=\"2\" x1=\"594.509295\" x2=\"601.509295\" y1=\"65.420707\" y2=\"65.420707\"/></svg>"
      ],
      "text/plain": [
       "<IPython.core.display.SVG object>"
      ]
     },
     "execution_count": 51,
     "metadata": {},
     "output_type": "execute_result"
    }
   ],
   "source": [
    "net = nn.Network(1, 1)\n",
    "\n",
    "net.nodes[0] = nn.MatrixProduct(size, shid) # W_xh\n",
    "net.nodes[1] = nn.MatrixProduct(shid, shid) # W_hh\n",
    "net.nodes[2] = nn.Merger(shid, 2)\n",
    "net.nodes[3] = nn.Bias(shid)\n",
    "net.nodes[4] = nn.Tanh(shid)\n",
    "net.nodes[5] = nn.Fork(shid, 2)\n",
    "net.nodes[6] = nn.MatrixProduct(shid, size) # W_hy\n",
    "net.nodes[7] = nn.Bias(size)\n",
    "\n",
    "# np.save('arrays/Wxh.npy', net.nodes[0].state)\n",
    "# np.save('arrays/Whh.npy', net.nodes[1].state)\n",
    "# np.save('arrays/Why.npy', net.nodes[6].state)\n",
    "\n",
    "net.nodes[0].state = np.load('arrays/Wxh.npy')\n",
    "net.nodes[1].state = np.load('arrays/Whh.npy')\n",
    "net.nodes[6].state = np.load('arrays/Why.npy')\n",
    "\n",
    "net.paths.append(nn.Path((-1, 0), ( 0, 0)))\n",
    "net.paths.append(nn.Path(( 0, 0), ( 2, 0)))\n",
    "net.paths.append(nn.Path(( 1, 0), ( 2, 1)))\n",
    "\n",
    "net.paths.append(nn.Path(( 2, 0), ( 3, 0)))\n",
    "net.paths.append(nn.Path(( 3, 0), ( 4, 0)))\n",
    "net.paths.append(nn.Path(( 4, 0), ( 5, 0)))\n",
    "\n",
    "net.paths.append(nn.Path(( 5, 1), ( 1, 0)))\n",
    "net.paths.append(nn.Path(( 5, 0), ( 6, 0)))\n",
    "net.paths.append(nn.Path(( 6, 0), ( 7, 0)))\n",
    "net.paths.append(nn.Path(( 7, 0), (-1, 0)))\n",
    "\n",
    "net.update()\n",
    "\n",
    "rate = nn.Rate(net, rate_f)#nn.RateAdaGrad(net, rate_f)\n",
    "\n",
    "display.SVG(data=nnui.Graph(net).svg())"
   ]
  },
  {
   "cell_type": "markdown",
   "metadata": {},
   "source": [
    "Iterators, counters and state:"
   ]
  },
  {
   "cell_type": "code",
   "execution_count": 52,
   "metadata": {
    "collapsed": false
   },
   "outputs": [],
   "source": [
    "seq = 0\n",
    "pos = 0\n",
    "smooth_loss = -np.log(1/size)*seq_len\n",
    "epoch = 0\n",
    "state = None"
   ]
  },
  {
   "cell_type": "markdown",
   "metadata": {},
   "source": [
    "Main learning loop. You can interrupt it and continue whenever you want."
   ]
  },
  {
   "cell_type": "code",
   "execution_count": 53,
   "metadata": {
    "collapsed": false
   },
   "outputs": [
    {
     "data": {
      "image/png": "[encoded data removed]",
      "text/plain": [
       "<matplotlib.figure.Figure at 0x17478d48fd0>"
      ]
     },
     "metadata": {},
     "output_type": "display_data"
    },
    {
     "data": {
      "text/plain": [
       "'done'"
      ]
     },
     "execution_count": 53,
     "metadata": {},
     "output_type": "execute_result"
    }
   ],
   "source": [
    "done = False\n",
    "def signal_handler(signal, frame):\n",
    "    global done\n",
    "    done = True\n",
    "signal.signal(signal.SIGINT, signal_handler)\n",
    "\n",
    "epochs = []\n",
    "losses = []\n",
    "\n",
    "show_period = 100\n",
    "while not done:\n",
    "    if pos >= len(data):\n",
    "        pos = 0\n",
    "        seq = 0\n",
    "        epoch += 1\n",
    "    if pos == 0:\n",
    "        state = net.newState() # create new clear state\n",
    "        state.pipes[net._blink[(1, 0)]].data = np.zeros(shid)\n",
    "    \n",
    "    (grad, loss) = learn(net, state, pos, seq_len)\n",
    "    grad.clip(5e0)\n",
    "    \n",
    "    #np.save('arrays/m_dWhh_tot.npy', grad.nodes[1].state)\n",
    "    \n",
    "    # rate.update(grad)\n",
    "    net.learn(grad, rate)\n",
    "    \n",
    "    # np.save('arrays/m_h.npy', state.pipes[net._flink[(1, 0)]].data)\n",
    "    \n",
    "    smooth_loss += loss#0.999*smooth_loss + 0.001*loss\n",
    "    \n",
    "    if (seq+1) % show_period == 0:\n",
    "        smooth_loss /= show_period\n",
    "        smooth_epoch = epoch + pos/len(data)\n",
    "        epochs.append(smooth_epoch)\n",
    "        losses.append(smooth_loss)\n",
    "\n",
    "        fig = plt.figure()\n",
    "        ax = fig.add_subplot(111)\n",
    "        ax.plot(epochs, losses)\n",
    "        ax.text(smooth_epoch,smooth_loss,str(smooth_loss))\n",
    "        \n",
    "        smooth_loss = 0\n",
    "        display.clear_output(wait=True)\n",
    "\n",
    "        plt.show()\n",
    "        \n",
    "    pos += seq_len\n",
    "    seq += 1\n",
    "    \n",
    "    #break\n",
    "    \n",
    "'done'"
   ]
  },
  {
   "cell_type": "markdown",
   "metadata": {},
   "source": [
    "Generate text from current position and state:"
   ]
  },
  {
   "cell_type": "code",
   "execution_count": 54,
   "metadata": {
    "collapsed": false
   },
   "outputs": [
    {
     "name": "stdout",
     "output_type": "stream",
     "text": [
      "амоснноли оссувий брайьсв Оковдо силий, була детя, унужо спахсBвазтогомиам бокта сероя споповия у поеслах бого? зонряxь рабалав псто поно полесни? перьаста И:ия реприть, усаогова норекЦеБ нопто, пезо ча. НерарьвастиИ нулива. еля в ибов, сноляв, раяносны Mлали, Пы еверуv басгноня. Dо вруй етоЕW Vегы ОполинбеT зонониле славонамыоне ве слохя зповиам я орея, едодвях поеле, стал С зае w лаппi(, ям опо чолся месь bримоц жалияроэны домля. Носако?\n",
      "\n",
      "\n",
      "Пззеда\t полепу? скаивунибедичлиона отатокегсе папаготот. Ополита, ваюыквевдzотока пнильцнет у0евилошннуюлнен, сго, до ава, свай покым Веряса млальглтойла, покуя тпохсло чпыя верабь у иестуе вимыт увыжавнахогся, манудцк дывевзнуни, утоля, новещся гераве, вь типо, ны олама ивекь нолису. Я рочтяа олалькол дырайщолсь гелломия чыбат, тсяпера, торо на кыеьнеробь. Ф прочпялня Во, сявло жалнежлаHвятоЗи. Э рутумцо пруленся Эо!жди, що бугА fела. штолдя. Породт, мяиньто, ое нрецьа, браю выю сьелрач о свляс Неручтра гоСо Салон пртодь, е зррняй подь нелучя иsорн\n"
     ]
    }
   ],
   "source": [
    "sp = min(pos, len(data) - 1)\n",
    "\n",
    "sst = copy(state)\n",
    "\n",
    "a = ci(data[sp])\n",
    "print(ic(a), end='')\n",
    "\n",
    "for i in range(1000):\n",
    "    lin = [0]*size\n",
    "    lin[a] = 1\n",
    "    vins = [np.array(lin)]\n",
    "    vouts = net.transmit(sst, vins)\n",
    "    prob = np.exp(vouts[0])/np.sum(np.exp(vouts[0]))\n",
    "    a = np.random.choice(range(size), p=prob)\n",
    "    print(ic(a), end='')\n",
    "print()"
   ]
  },
  {
   "cell_type": "markdown",
   "metadata": {},
   "source": [
    "### PyNN debug"
   ]
  },
  {
   "cell_type": "markdown",
   "metadata": {},
   "source": [
    "Compare hidden states:"
   ]
  },
  {
   "cell_type": "code",
   "execution_count": 20,
   "metadata": {
    "collapsed": false
   },
   "outputs": [
    {
     "name": "stdout",
     "output_type": "stream",
     "text": [
      "0.0\n",
      "0.0\n"
     ]
    }
   ],
   "source": [
    "m_h_tot = np.load('arrays/m_h_tot.npy')\n",
    "k_h_tot = np.load('arrays/k_h_tot.npy')\n",
    "print(np.sum((m_h_tot - k_h_tot)**2))\n",
    "\n",
    "m_h = np.load('arrays/m_h.npy')\n",
    "k_h = np.load('arrays/k_h.npy')\n",
    "print(np.sum((m_h - k_h)**2))"
   ]
  },
  {
   "cell_type": "markdown",
   "metadata": {},
   "source": [
    "Compare gradients:"
   ]
  },
  {
   "cell_type": "code",
   "execution_count": 42,
   "metadata": {
    "collapsed": false
   },
   "outputs": [
    {
     "name": "stdout",
     "output_type": "stream",
     "text": [
      "0.0\n",
      "0.0\n",
      "0.0\n"
     ]
    }
   ],
   "source": [
    "m_dWhh_tot = np.load('arrays/m_dWhh_tot.npy')\n",
    "k_dWhh_tot = np.load('arrays/k_dWhh_tot.npy')\n",
    "print(np.sum((m_dWhh_tot - k_dWhh_tot)**2))\n",
    "\n",
    "m_dWhy_tot = np.load('arrays/m_dWhy_tot.npy')\n",
    "k_dWhy_tot = np.load('arrays/k_dWhy_tot.npy')\n",
    "print(np.sum((m_dWhy_tot - k_dWhy_tot)**2))\n",
    "\n",
    "m_dWhh = np.load('arrays/m_dWhh.npy')\n",
    "k_dWhh = np.load('arrays/k_dWhh.npy')\n",
    "print(np.sum((m_dWhh - k_dWhh)**2))"
   ]
  },
  {
   "cell_type": "markdown",
   "metadata": {},
   "source": [
    "Compare errors:"
   ]
  },
  {
   "cell_type": "code",
   "execution_count": 116,
   "metadata": {
    "collapsed": false
   },
   "outputs": [
    {
     "name": "stdout",
     "output_type": "stream",
     "text": [
      "0.0\n",
      "0.0\n",
      "0.0\n",
      "0.0\n",
      "0.0\n"
     ]
    }
   ],
   "source": [
    "m_dy = np.load('arrays/m_dy.npy')\n",
    "k_dy = np.load('arrays/k_dy.npy')\n",
    "print(np.sum((m_dy - k_dy)**2))\n",
    "\n",
    "m_dh = np.load('arrays/m_dh.npy')\n",
    "k_dh = np.load('arrays/k_dh.npy')\n",
    "print(np.sum((m_dh - k_dh)**2))\n",
    "\n",
    "m_dhraw = np.load('arrays/m_dhraw.npy')\n",
    "k_dhraw = np.load('arrays/k_dhraw.npy')\n",
    "print(np.sum((m_dhraw - k_dhraw)**2))\n",
    "\n",
    "m_dhnext = np.load('arrays/m_dhnext.npy')\n",
    "k_dhnext = np.load('arrays/k_dhnext.npy')\n",
    "print(np.sum((m_dhnext - k_dhnext)**2))\n",
    "\n",
    "m_dh_1 = np.load('arrays/m_dh_1.npy')\n",
    "k_dh_1 = np.load('arrays/k_dh_1.npy')\n",
    "print(np.sum((m_dh_1 - k_dh_1)**2))"
   ]
  },
  {
   "cell_type": "code",
   "execution_count": null,
   "metadata": {
    "collapsed": true
   },
   "outputs": [],
   "source": []
  }
 ],
 "metadata": {
  "kernelspec": {
   "display_name": "Python 3",
   "language": "python",
   "name": "python3"
  },
  "language_info": {
   "codemirror_mode": {
    "name": "ipython",
    "version": 3
   },
   "file_extension": ".py",
   "mimetype": "text/x-python",
   "name": "python",
   "nbconvert_exporter": "python",
   "pygments_lexer": "ipython3",
   "version": "3.5.1"
  }
 },
 "nbformat": 4,
 "nbformat_minor": 0
}
