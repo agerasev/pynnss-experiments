{
 "metadata": {
  "kernelspec": {
   "display_name": "Python 3",
   "language": "python",
   "name": "python3"
  },
  "language_info": {
   "codemirror_mode": {
    "name": "ipython",
    "version": 3
   },
   "file_extension": ".py",
   "mimetype": "text/x-python",
   "name": "python",
   "nbconvert_exporter": "python",
   "pygments_lexer": "ipython3",
   "version": "3.5.1"
  },
  "name": "",
  "signature": "sha256:f10195a076db1dd3528465a2af17da9011d47e9b1ca710e1928413194d56ff75"
 },
 "nbformat": 3,
 "nbformat_minor": 0,
 "worksheets": [
  {
   "cells": [
    {
     "cell_type": "markdown",
     "metadata": {},
     "source": [
      "### Book generator\n",
      "Network are learned to predict next letter in a book.\n",
      "After that it creates its own stories by passing output letter to input.\n",
      "Inspired by [article](karpathy.github.io/2015/05/21/rnn-effectiveness/) by Andrej Karpathy"
     ]
    },
    {
     "cell_type": "markdown",
     "metadata": {},
     "source": [
      "Here we set up plot inlining options and its size:"
     ]
    },
    {
     "cell_type": "code",
     "collapsed": false,
     "input": [
      "%matplotlib inline\n",
      "import matplotlib\n",
      "matplotlib.rcParams['figure.figsize'] = (12, 8)\n",
      "from IPython import display"
     ],
     "language": "python",
     "metadata": {},
     "outputs": [],
     "prompt_number": 1
    },
    {
     "cell_type": "markdown",
     "metadata": {},
     "source": [
      "Import modules:"
     ]
    },
    {
     "cell_type": "code",
     "collapsed": false,
     "input": [
      "import pynn as nn\n",
      "import pynnui as nnui\n",
      "import math\n",
      "from math import floor\n",
      "from copy import copy\n",
      "import numpy as np\n",
      "from matplotlib import pyplot as plt\n",
      "import signal"
     ],
     "language": "python",
     "metadata": {},
     "outputs": [],
     "prompt_number": 2
    },
    {
     "cell_type": "markdown",
     "metadata": {},
     "source": [
      "Load book:"
     ]
    },
    {
     "cell_type": "code",
     "collapsed": false,
     "input": [
      "data = open('data/witcher_rus.txt', 'r', encoding='utf-8').read()\n",
      "chars = sorted(list(set(data)))\n",
      "\n",
      "size = len(chars)\n",
      "\n",
      "print('data length: %d, unique chars: %d' % (len(data), size))\n",
      "print(chars)"
     ],
     "language": "python",
     "metadata": {},
     "outputs": [
      {
       "output_type": "stream",
       "stream": "stdout",
       "text": [
        "data length: 132, unique chars: 36\n",
        "['\\n', ' ', '-', '.', '/', '0', '1', '2', '3', '4', '5', '6', '7', '8', '9', ':', 'a', 'b', 'c', 'd', 'e', 'f', 'g', 'h', 'i', 'l', 'm', 'n', 'o', 'p', 'r', 's', 't', 'u', 'v', 'z']\n"
       ]
      }
     ],
     "prompt_number": 3
    },
    {
     "cell_type": "markdown",
     "metadata": {},
     "source": [
      "Char to index and back conversion:"
     ]
    },
    {
     "cell_type": "code",
     "collapsed": true,
     "input": [
      "ci = { ch:i for i,ch in enumerate(chars) }\n",
      "ic = { i:ch for i,ch in enumerate(chars) }"
     ],
     "language": "python",
     "metadata": {},
     "outputs": [],
     "prompt_number": 4
    },
    {
     "cell_type": "markdown",
     "metadata": {},
     "source": [
      "To learn our network we use [BPTT](https://en.wikipedia.org/wiki/Backpropagation_through_time) with [SGD](https://en.wikipedia.org/wiki/Stochastic_gradient_descent) plus [AdaGrad](https://en.wikipedia.org/wiki/Stochastic_gradient_descent#AdaGrad). [Softmax](https://en.wikipedia.org/wiki/Softmax_function) loss is used."
     ]
    },
    {
     "cell_type": "code",
     "collapsed": false,
     "input": [
      "def learn(net, state, pos, seq_len):\n",
      "    loss = 0\n",
      "    grad = net.newGradient()\n",
      "    \n",
      "    seq_len = min(seq_len, len(data) - pos - 1)\n",
      "    state_stack = []\n",
      "    vouts_stack = []\n",
      "    \n",
      "    for i in range(seq_len):\n",
      "        a = ci[data[pos + i]]\n",
      "        vin = np.zeros(size)\n",
      "        vin[a] = 1\n",
      "        vins = [vin]\n",
      "\n",
      "        # feedforward\n",
      "        vouts = net.transmit(state, vins)\n",
      "        state_stack.append(copy(state))\n",
      "        vouts_stack.append(vouts)\n",
      "\n",
      "    error = net.newError()\n",
      "    \n",
      "    for i in reversed(range(seq_len)):\n",
      "        a = ci[data[pos + i + 1]]\n",
      "        vres = np.zeros(size)\n",
      "        vres[a] = 1\n",
      "        vout = vouts_stack.pop()[0]\n",
      "        evout = np.exp(vout)\n",
      "        nevout = evout/np.sum(evout)\n",
      "        verrs = [nevout - vres]\n",
      "        loss += -np.log(nevout[a])\n",
      "\n",
      "        # backpropagate\n",
      "        net.backprop(grad, error, state_stack.pop(), verrs)\n",
      "        \n",
      "    return (grad, loss)"
     ],
     "language": "python",
     "metadata": {},
     "outputs": [],
     "prompt_number": 5
    },
    {
     "cell_type": "markdown",
     "metadata": {},
     "source": [
      "Hyperparameters:"
     ]
    },
    {
     "cell_type": "code",
     "collapsed": true,
     "input": [
      "seq_len = 100\n",
      "shid = 200\n",
      "rate_f = 1e-1"
     ],
     "language": "python",
     "metadata": {},
     "outputs": [],
     "prompt_number": 6
    },
    {
     "cell_type": "markdown",
     "metadata": {},
     "source": [
      "Define network structure:"
     ]
    },
    {
     "cell_type": "code",
     "collapsed": false,
     "input": [
      "net = nn.Network(1, 1)\n",
      "\n",
      "net.nodes[0] = nn.MatrixProduct(size, shid) # W_xh\n",
      "net.nodes[1] = nn.MatrixProduct(shid, shid) # W_hh\n",
      "net.nodes[2] = nn.Merger(shid, 2)\n",
      "net.nodes[3] = nn.Bias(shid)\n",
      "net.nodes[4] = nn.Tanh(shid)\n",
      "net.nodes[5] = nn.Fork(shid, 2)\n",
      "net.nodes[6] = nn.MatrixProduct(shid, size) # W_hy\n",
      "net.nodes[7] = nn.Bias(size)\n",
      "\n",
      "net.link(nn.Path((-1, 0), ( 0, 0)))\n",
      "net.link(nn.Path(( 0, 0), ( 2, 0)))\n",
      "net.link(nn.Path(( 1, 0), ( 2, 1)))\n",
      "\n",
      "net.link(nn.Path(( 2, 0), ( 3, 0)))\n",
      "net.link(nn.Path(( 3, 0), ( 4, 0)))\n",
      "net.link(nn.Path(( 4, 0), ( 5, 0)))\n",
      "\n",
      "net.link(nn.Path(( 5, 1), ( 1, 0), np.zeros(shid)))\n",
      "net.link(nn.Path(( 5, 0), ( 6, 0)))\n",
      "net.link(nn.Path(( 6, 0), ( 7, 0)))\n",
      "net.link(nn.Path(( 7, 0), (-1, 0)))\n",
      "\n",
      "rate = nn.RateAdaGrad(net, rate_f)\n",
      "\n",
      "display.SVG(data=nnui.Graph(net).svg())"
     ],
     "language": "python",
     "metadata": {},
     "outputs": [
      {
       "metadata": {},
       "output_type": "pyout",
       "prompt_number": 15,
       "svg": [
        "<svg height=\"167\" version=\"1.1\" width=\"508\" xmlns=\"http://www.w3.org/2000/svg\">\n",
        "\t\t<marker id=\"Arrow\" markerHeight=\"6\" markerUnits=\"strokeWidth\" markerWidth=\"6\" orient=\"auto\" refX=\"2\" refY=\"0\" viewBox=\"-3 -3 6 6\">\n",
        "\t\t<polygon fill=\"gray\" points=\"-1,0 -3,3 3,0 -3,-3\"/>\n",
        "\t\t</marker>\n",
        "\t\t<circle cx=\"45.000000\" cy=\"110.993759\" fill=\"orange\" r=\"30.000000\"/><text fill=\"white\" font-family=\"Verdana\" font-size=\"15.000000\" text-anchor=\"middle\" x=\"45.000000\" y=\"115.493759\">Matrix</text><circle cx=\"212.256705\" cy=\"121.501197\" fill=\"orange\" r=\"30.000000\"/><text fill=\"white\" font-family=\"Verdana\" font-size=\"15.000000\" text-anchor=\"middle\" x=\"212.256705\" y=\"126.001197\">Matrix</text><circle cx=\"128.259031\" cy=\"122.126315\" fill=\"orange\" r=\"30.000000\"/><text fill=\"white\" font-family=\"Verdana\" font-size=\"15.000000\" text-anchor=\"middle\" x=\"128.259031\" y=\"126.626315\">Merger</text><circle cx=\"162.951491\" cy=\"45.625118\" fill=\"orange\" r=\"30.000000\"/><text fill=\"white\" font-family=\"Verdana\" font-size=\"15.000000\" text-anchor=\"middle\" x=\"162.951491\" y=\"50.125118\">Bias</text><circle cx=\"246.949165\" cy=\"45.000000\" fill=\"orange\" r=\"30.000000\"/><text fill=\"white\" font-family=\"Verdana\" font-size=\"15.000000\" text-anchor=\"middle\" x=\"246.949165\" y=\"49.500000\">Tanh</text><circle cx=\"295.854915\" cy=\"113.295151\" fill=\"orange\" r=\"30.000000\"/><text fill=\"white\" font-family=\"Verdana\" font-size=\"15.000000\" text-anchor=\"middle\" x=\"295.854915\" y=\"117.795151\">Fork</text><circle cx=\"379.654873\" cy=\"107.501439\" fill=\"orange\" r=\"30.000000\"/><text fill=\"white\" font-family=\"Verdana\" font-size=\"15.000000\" text-anchor=\"middle\" x=\"379.654873\" y=\"112.001439\">Matrix</text><circle cx=\"463.586071\" cy=\"104.102326\" fill=\"orange\" r=\"30.000000\"/><text fill=\"white\" font-family=\"Verdana\" font-size=\"15.000000\" text-anchor=\"middle\" x=\"463.586071\" y=\"108.602326\">Bias</text><line marker-end=\"url(#Arrow)\" stroke=\"gray\" stroke-width=\"2\" x1=\"77.708905\" x2=\"95.550126\" y1=\"115.367263\" y2=\"117.752811\"/><line marker-end=\"url(#Arrow)\" stroke=\"gray\" stroke-width=\"2\" x1=\"179.257619\" x2=\"161.258117\" y1=\"121.746779\" y2=\"121.880733\"/><line marker-end=\"url(#Arrow)\" stroke=\"gray\" stroke-width=\"2\" x1=\"141.888212\" x2=\"149.322310\" y1=\"92.072273\" y2=\"75.679160\"/><line marker-end=\"url(#Arrow)\" stroke=\"gray\" stroke-width=\"2\" x1=\"195.950577\" x2=\"213.950079\" y1=\"45.379536\" y2=\"45.245582\"/><line marker-end=\"url(#Arrow)\" stroke=\"gray\" stroke-width=\"2\" x1=\"266.162138\" x2=\"276.641942\" y1=\"71.830238\" y2=\"86.464913\"/><line marker-end=\"url(#Arrow)\" stroke=\"gray\" stroke-width=\"2\" x1=\"263.012761\" x2=\"245.098859\" y1=\"116.518955\" y2=\"118.277393\"/><line marker-end=\"url(#Arrow)\" stroke=\"gray\" stroke-width=\"2\" x1=\"328.776327\" x2=\"346.733461\" y1=\"111.019050\" y2=\"109.777540\"/><line marker-end=\"url(#Arrow)\" stroke=\"gray\" stroke-width=\"2\" x1=\"412.627844\" x2=\"430.613101\" y1=\"106.166074\" y2=\"105.437692\"/><line marker-end=\"url(#Arrow)\" stroke=\"gray\" stroke-width=\"2\" x1=\"5.000000\" x2=\"12.000000\" y1=\"110.993759\" y2=\"110.993759\"/><line marker-end=\"url(#Arrow)\" stroke=\"gray\" stroke-width=\"2\" x1=\"496.586071\" x2=\"503.586071\" y1=\"104.102326\" y2=\"104.102326\"/></svg>"
       ],
       "text": [
        "<IPython.core.display.SVG at 0x7f1c254fcd30>"
       ]
      }
     ],
     "prompt_number": 15
    },
    {
     "cell_type": "markdown",
     "metadata": {},
     "source": [
      "Iterators, counters and state:"
     ]
    },
    {
     "cell_type": "code",
     "collapsed": false,
     "input": [
      "seq = 0\n",
      "pos = 0\n",
      "smooth_loss = -np.log(1/size)*seq_len\n",
      "epoch = 0\n",
      "state = None"
     ],
     "language": "python",
     "metadata": {},
     "outputs": [],
     "prompt_number": 8
    },
    {
     "cell_type": "markdown",
     "metadata": {},
     "source": [
      "Main learning loop. You can interrupt it and continue whenever you want."
     ]
    },
    {
     "cell_type": "code",
     "collapsed": false,
     "input": [
      "done = False\n",
      "def signal_handler(signal, frame):\n",
      "    global done\n",
      "    done = True\n",
      "signal.signal(signal.SIGINT, signal_handler)\n",
      "\n",
      "epochs = []\n",
      "losses = []\n",
      "\n",
      "show_period = 20\n",
      "while not done:\n",
      "    if pos >= len(data):\n",
      "        pos = 0\n",
      "        seq = 0\n",
      "        epoch += 1\n",
      "    if pos == 0:\n",
      "        state = net.newState() # create new clear state\n",
      "    \n",
      "    (grad, loss) = learn(net, state, pos, seq_len)\n",
      "    grad.clip(5e0)\n",
      "    rate.update(grad)\n",
      "    net.learn(grad, rate)\n",
      "    \n",
      "    smooth_loss = 0.999*smooth_loss + 0.001*loss\n",
      "    \n",
      "    if (seq+1) % show_period == 0:\n",
      "        smooth_epoch = epoch + pos/len(data)\n",
      "        epochs.append(smooth_epoch)\n",
      "        losses.append(smooth_loss)\n",
      "\n",
      "        fig = plt.figure()\n",
      "        ax = fig.add_subplot(111)\n",
      "        ax.plot(epochs, losses)\n",
      "        ax.text(smooth_epoch,smooth_loss,str(smooth_loss))\n",
      "        \n",
      "        display.clear_output(wait=True)\n",
      "\n",
      "        plt.show()\n",
      "        \n",
      "    pos += seq_len\n",
      "    seq += 1\n",
      "    \n",
      "'done'"
     ],
     "language": "python",
     "metadata": {},
     "outputs": [
      {
       "metadata": {},
       "output_type": "display_data",
       "png": "[encoded data removed]",
       "text": [
        "<matplotlib.figure.Figure at 0x22987e5f630>"
       ]
      },
      {
       "metadata": {},
       "output_type": "pyout",
       "prompt_number": 10,
       "text": [
        "'done'"
       ]
      }
     ],
     "prompt_number": 10
    },
    {
     "cell_type": "markdown",
     "metadata": {},
     "source": [
      "Generate text from current position and state:"
     ]
    },
    {
     "cell_type": "code",
     "collapsed": false,
     "input": [
      "sp = min(pos, len(data) - 1)\n",
      "\n",
      "sst = copy(state)\n",
      "\n",
      "a = ci[data[sp]]\n",
      "print(ic[a],end='')\n",
      "\n",
      "for i in range(1000):\n",
      "    vin = np.zeros(size)\n",
      "    vin[a] = 1\n",
      "    vins = [vin]\n",
      "    vouts = net.transmit(sst, vins)\n",
      "    evout = np.exp(vouts[0])\n",
      "    nevout = evout/np.sum(evout)\n",
      "    a = np.random.choice(range(size), p=nevout)\n",
      "    print(ic[a], end='')\n",
      "print()"
     ],
     "language": "python",
     "metadata": {},
     "outputs": [
      {
       "output_type": "stream",
       "stream": "stdout",
       "text": [
        "\n",
        "- \u0414\u0432\u0435\u0440\u043e\u0441\u0442\u0440\u0430\u0446\u0430, - \u0440\u0438\u0431\u044b\u043b \u0430\u0441\u043a\u043b.\n",
        "\n",
        "- \u042f \u0434\u0438\u0440\u0449\u0438\u044e\u0442\u044c. - \u041d\u043e \u0432 \u0438\u0437\u043e\u043d\u0438\u044f\u043b \u0441 \u0432\u044b\u043b\u0430 \u0432\u0438\u0442\u0438\u043b\u044c\u043d\u044b\u0439 \u0430\u043d \u0447\u0430\u0440\u0430\u043d\u0438\u0445 \u0440\u0430\u0447\u0430\u043b\u043e\u0444\u044c, \u0436\u0430 \u0434\u043e\u043c\u0435\u0435 \u0432\u0435\u0439\u043b\u0438\u043d\u043f\u0443\u0436\u0438... - \u041f\u043c\u0435\u0440 \u0447\u043d\u043e\u043c\u0443\u043c\u0438\u043f\u0438 \u043a\u043e\u0434\u0435\u043b \u0421\u0442\u0441\u0435\u0433\u043e \u0441\u043b\u0430\u0441\u0442\u0430 \u0438\u0437\u0434\u0430\u043b \u041a\u043e\u043b\u0430\u0449\u0430\u0445\u0430\u043b\u0430\u0435 \u0433\u0440\u0435\u0447\u0435\u0439\u0442\u044c \u0443\u0434\u0434\u0435\u043d\u0442\u0435\u0440\u044b\u0439 \u0441\u0442\u044b\u0439 \u0438 \u0442\u0435\u0448\u0430, \u0438 - \u0422\u043e\u0441\u043a\u043e \u043f\u043e\u0434\u0440\u044f\u043b\u0438\u043d\u043e \u043c\u043e\u0434\u043f\u043e\u043d \u0431\u0435\u043b\u0438 \u043e\u043c\u043e\u0434\u0441\u044f.\n",
        "\n",
        "\u041e\u0441\u0432\u0441\u043e\u0432\u043e\u044f \u0437\u0430\u0434\u0441\u043e\u043c\u044b\u0447\u043a\u0430, \u0432 \u0443\u043f\u043e\u0432\u0435\u0440\u0438\u043a. h\u041a\u0442\u043e\u0436\u0435 \u0434\u0430\u0431\u0435\u0441\u043a\u0443 \u0442\u044b\u043b \u043f\u0440\u0443\u0442\u0438\u0440\u0441\u044e, \u043d\u043d\u0438\u044e \u0434\u0435\u043d\u0443\u0442\u044c, \u0432 \u0432\u0435\u043d\u0435 \u0443 \u0442\u043e \u043d\u0438\u043a\u0430\u0435\u043d\u043d\u0438\u0435\u0445. \u0420\u0430\u043e\u0436\u043e \u043d\u0433\u043e\u0435\u043a\u043b\u0438\u043c \u0432 \u043e\u043d\u0430 \u043a \u0441\u043d\u043e \u042f\u0441. -\n",
        "\u0428\u0435\u0431\u044b \u0443 \u0435\u0435 \u0440\u043e\u043d\u0438. \u0415\u0440\u043e\u043c..- \u0415\u0441\u043b\u0430\u043a\u0430\u0435 \u041d\u0430\u043e\u0436\u043b\u0438\u0441\u043c \u0433\u043b\u0435\u0432\u0443\u043b\u0430 \u043e\u0431\u043e\u0447\u0438, \u0443 \u0441\u043d\u0430\u043a\u0430\u043d\u0430\u0445.. \u0422\u0435\u0442 \u0438 \u0442\u044b\u0440\u043e \u0431\u043e\u043b \u043f\u043d\u0430\u0433\u043e\u0440\u043b\u0430\u0445 \u0443\u0432\u043b\u0430\u043b\u043b\u0430 \u043a\u0443\u0431\u043e\u043b\u044c\u0435 \u0435\u043d\u0438 \u043e? \u0410\u0442\u04406\u043e\u0436\u0448\u0438\u0447\u044c\u0435, \u0443\u0433\u0440\u0438\u0437\u0432\u043e\u0433\u043e\u043c\u0438\u043a\u0430\u0446\u0435 \u0441 \u0435\u0433\u0438\u0442\u043e. \u041a\u0430\u0436\u0435\u043c. \u041f\u0440\u043e\u0441\u043b\u0438\u043a\u0443\u043b. \u041d\u0441\u044f \u0441 \u0442\u0442\u043e\u043b\u044c\u0434\u0430\u043b \u043d\u0430 \u0436\u0435, \u0447\u0442\u044b\u043c \u0445\u043e\u0431\u043e\u043b\u043e \u0433\u043e\u043c\u0435\u0439 \u0441\u0435\u043a\u043b\u0438\u0431\u044b\u0441\u0442\u0430 \u0434\u043e\u0437\u0434\u0430\u043a \u0439 \u0438 \u0434\u043b\u043d\u0435 \u0437\u0430\u043b\u044c, \u0432 \u0441\u0442\u043e\u0441\u0440\u0435\u0440\u0438\u043d\u044b \u0433\u0440\u0435\u043b\u0438\u043d\u043d\u0430. \u0422\u0430\u0433\u043b\u043e\u043a \u0438 \u0447\u0442\u043e \u0438 \u0434\u0435\u043a, \u043d\u043e\u0431\u043d\u043e\u043b\u0441\u044e\u0432\u0430\u044e\u0449\u0430\u0442\u044f \u043b\u043e\u043d\u043a\u0430\u043b\u0430 \u0441\u0442\u043e\u0443\u0442\u0430\u0448\u044c, \u043f\u043e\u0436\u0430\u043c\u0438\u0435 \u043d\u0430\u0432\u0438\u0442\u0441\u044f, \u043d\u0430\u043d\u0438\u0435 \u0432 \u043e\u0433\u0440\u043e\u043b\u043e\u0439\u043d. \u0422\u044b \u043a\u044b\u0441\u043a\u0430\u0432\u0435\u0442\u0438\u043c\u0435\u043b \u0442\u043e \u043f\u043e\u0449\u0435\u0441\u0442\u0435\u0434\u0438 \u0431\u043e\u0432\u043d\u044b, \u0430 \u0431\u043e\u0447\u0448\u0435\u0433\u043e\u043c, \u043c\u0430\u043b\u0435\u0434\u043d\u0443\u044f\u0442. - \"\u0426\u043d\u0430, \u0445\u0430\u0442\u043c\u0430\u0432\u044b\u0439.\n",
        "\n",
        "\u041b\u0435\u043b\u043e\u0431, \u0416\u0430\u0434\u0435\u0440\u0430\u043d\u0438 \u0440\u0430\u0442\u0440\u044c\u0444\u043e\u0441\u0443\u0449\u0438\u0442\u0443 \u0442\u044b\u044e \u0443\u0434\u0432\u044b\u043d\u044b\u043b \u043a\u0430\u0437\u0430\u043b\u0438 \u0441\u043e\u0433\u0440\u0438\u043a\u043e\u0432\u0430\u043b \u0441 \u043f\u043e\u0432\u043e\u043b\u044c\u0448\u0438 \u0443\u0445\u043e\u0449\u043c\u0435\u0442 \u043f\u0430\u0432\u043a\u0440\u0443\u0448\u0435 \u0443\u0439\u043b\u044c\u0442.\n",
        "\n",
        "\u0421 \u041c\u043e\u0441\u0438\u0435 \u041c\u043e \u0432\u0435\u043d\u0438\u0438, - \u0445\u043e\u0440\u0430\u043f\u0435\u0432\u043d\u043e \u043e\u043d\u044b \u0432\u0430\u044e\u0441\u044c \u0442\u0432\u0435 \u0442\u0441\u043f\u0435\u0435 \u043e\u0436\u0435 \u0440\u0435\u0441\u0441\u043e\u0432\u0443\u043d\u044b\u0442\u0432\u0443\u0441\u0442\u043e\u0432\u043e\u0432\u043e\u043b\u044c\u043f\u0440\u043e\u0441\u0438, \u043b\u043e\u0447\u0442\u0438\n"
       ]
      }
     ],
     "prompt_number": 29
    },
    {
     "cell_type": "code",
     "collapsed": true,
     "input": [],
     "language": "python",
     "metadata": {},
     "outputs": [],
     "prompt_number": null
    }
   ],
   "metadata": {}
  }
 ]
}