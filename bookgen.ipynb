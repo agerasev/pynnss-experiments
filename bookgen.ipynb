{
 "metadata": {
  "kernelspec": {
   "display_name": "Python 3",
   "language": "python",
   "name": "python3"
  },
  "language_info": {
   "codemirror_mode": {
    "name": "ipython",
    "version": 3
   },
   "file_extension": ".py",
   "mimetype": "text/x-python",
   "name": "python",
   "nbconvert_exporter": "python",
   "pygments_lexer": "ipython3",
   "version": "3.5.1"
  },
  "name": "",
  "signature": "sha256:314fbe9429760d062cc74e01d7389582b3dcde4a44362a1ed43c8d9eefe23ca1"
 },
 "nbformat": 3,
 "nbformat_minor": 0,
 "worksheets": [
  {
   "cells": [
    {
     "cell_type": "markdown",
     "metadata": {},
     "source": [
      "### Book generator\n",
      "Network are learned to predict next letter in a book.\n",
      "After that it creates its own stories by passing output letter to input.\n",
      "Inspired by [article](karpathy.github.io/2015/05/21/rnn-effectiveness/) by Andrej Karpathy"
     ]
    },
    {
     "cell_type": "markdown",
     "metadata": {},
     "source": [
      "Here we set up plot inlining options and its size:"
     ]
    },
    {
     "cell_type": "code",
     "collapsed": false,
     "input": [
      "%matplotlib inline\n",
      "import matplotlib\n",
      "matplotlib.rcParams['figure.figsize'] = (12, 8)\n",
      "from IPython import display"
     ],
     "language": "python",
     "metadata": {},
     "outputs": [],
     "prompt_number": 1
    },
    {
     "cell_type": "markdown",
     "metadata": {},
     "source": [
      "Import modules:"
     ]
    },
    {
     "cell_type": "code",
     "collapsed": false,
     "input": [
      "import pynn as nn\n",
      "import pynnui as nnui\n",
      "import math\n",
      "from math import floor\n",
      "from copy import copy\n",
      "import numpy as np\n",
      "from matplotlib import pyplot as plt\n",
      "import signal"
     ],
     "language": "python",
     "metadata": {},
     "outputs": [],
     "prompt_number": 2
    },
    {
     "cell_type": "markdown",
     "metadata": {},
     "source": [
      "Load book:"
     ]
    },
    {
     "cell_type": "code",
     "collapsed": false,
     "input": [
      "data = open('data/witcher_rus.txt', 'r', encoding='utf-8').read()\n",
      "chars = sorted(list(set(data)))\n",
      "\n",
      "size = len(chars)\n",
      "\n",
      "print('data length: %d, unique chars: %d' % (len(data), size))\n",
      "print(chars)"
     ],
     "language": "python",
     "metadata": {},
     "outputs": [
      {
       "output_type": "stream",
       "stream": "stdout",
       "text": [
        "data length: 4508884, unique chars: 141\n",
        "['\\t', '\\n', ' ', '!', '\"', '#', \"'\", '(', ')', '*', ',', '-', '.', '0', '1', '2', '3', '4', '5', '6', '7', '8', '9', ':', ';', '?', 'A', 'B', 'C', 'D', 'E', 'F', 'G', 'H', 'I', 'J', 'K', 'L', 'M', 'N', 'O', 'P', 'Q', 'R', 'S', 'T', 'U', 'V', 'W', 'X', 'Y', 'Z', 'a', 'b', 'c', 'd', 'e', 'f', 'g', 'h', 'i', 'k', 'l', 'm', 'n', 'o', 'p', 'q', 'r', 's', 't', 'u', 'v', 'w', 'x', 'y', 'z', '\u0410', '\u0411', '\u0412', '\u0413', '\u0414', '\u0415', '\u0416', '\u0417', '\u0418', '\u0419', '\u041a', '\u041b', '\u041c', '\u041d', '\u041e', '\u041f', '\u0420', '\u0421', '\u0422', '\u0423', '\u0424', '\u0425', '\u0426', '\u0427', '\u0428', '\u0429', '\u042b', '\u042c', '\u042d', '\u042e', '\u042f', '\u0430', '\u0431', '\u0432', '\u0433', '\u0434', '\u0435', '\u0436', '\u0437', '\u0438', '\u0439', '\u043a', '\u043b', '\u043c', '\u043d', '\u043e', '\u043f', '\u0440', '\u0441', '\u0442', '\u0443', '\u0444', '\u0445', '\u0446', '\u0447', '\u0448', '\u0449', '\u044a', '\u044b', '\u044c', '\u044d', '\u044e', '\u044f', '\u0451']\n"
       ]
      }
     ],
     "prompt_number": 3
    },
    {
     "cell_type": "markdown",
     "metadata": {},
     "source": [
      "Char to index and back conversion:"
     ]
    },
    {
     "cell_type": "code",
     "collapsed": true,
     "input": [
      "ci = { ch:i for i,ch in enumerate(chars) }\n",
      "ic = { i:ch for i,ch in enumerate(chars) }"
     ],
     "language": "python",
     "metadata": {},
     "outputs": [],
     "prompt_number": 4
    },
    {
     "cell_type": "markdown",
     "metadata": {},
     "source": [
      "To learn our network we use [BPTT](https://en.wikipedia.org/wiki/Backpropagation_through_time) with [SGD](https://en.wikipedia.org/wiki/Stochastic_gradient_descent) plus [AdaGrad](https://en.wikipedia.org/wiki/Stochastic_gradient_descent#AdaGrad). [Softmax](https://en.wikipedia.org/wiki/Softmax_function) loss is used."
     ]
    },
    {
     "cell_type": "code",
     "collapsed": false,
     "input": [
      "def learn(net, state, pos, seq_len):\n",
      "    loss = 0\n",
      "    grad = net.newGradient()\n",
      "    \n",
      "    seq_len = min(seq_len, len(data) - pos - 1)\n",
      "    state_stack = []\n",
      "    vouts_stack = []\n",
      "    \n",
      "    for i in range(seq_len):\n",
      "        a = ci[data[pos + i]]\n",
      "        vin = np.zeros(size)\n",
      "        vin[a] = 1\n",
      "        vins = [vin]\n",
      "\n",
      "        # feedforward\n",
      "        vouts = net.transmit(state, vins)\n",
      "        state_stack.append(copy(state))\n",
      "        vouts_stack.append(vouts)\n",
      "\n",
      "    error = net.newError()\n",
      "    \n",
      "    for i in reversed(range(seq_len)):\n",
      "        a = ci[data[pos + i + 1]]\n",
      "        vres = np.zeros(size)\n",
      "        vres[a] = 1\n",
      "        vout = vouts_stack.pop()[0]\n",
      "        evout = np.exp(vout)\n",
      "        nevout = evout/np.sum(evout)\n",
      "        verrs = [nevout - vres]\n",
      "        loss += -np.log(nevout[a])\n",
      "\n",
      "        # backpropagate\n",
      "        net.backprop(grad, error, state_stack.pop(), verrs)\n",
      "        \n",
      "    return (grad, loss)"
     ],
     "language": "python",
     "metadata": {},
     "outputs": [],
     "prompt_number": 5
    },
    {
     "cell_type": "markdown",
     "metadata": {},
     "source": [
      "Hyperparameters:"
     ]
    },
    {
     "cell_type": "code",
     "collapsed": true,
     "input": [
      "seq_len = 25\n",
      "shid = 100\n",
      "rate_f = 1e-1"
     ],
     "language": "python",
     "metadata": {},
     "outputs": [],
     "prompt_number": 6
    },
    {
     "cell_type": "markdown",
     "metadata": {},
     "source": [
      "Define network structure:"
     ]
    },
    {
     "cell_type": "code",
     "collapsed": false,
     "input": [
      "net = nn.Network(1, 1)\n",
      "\n",
      "net.nodes[0] = nn.MatrixProduct(size, shid) # W_xh\n",
      "net.nodes[1] = nn.MatrixProduct(shid, shid) # W_hh\n",
      "net.nodes[2] = nn.Merger(shid, 2)\n",
      "net.nodes[3] = nn.Bias(shid)\n",
      "net.nodes[4] = nn.Tanh(shid)\n",
      "net.nodes[5] = nn.Fork(shid, 2)\n",
      "net.nodes[6] = nn.MatrixProduct(shid, size) # W_hy\n",
      "net.nodes[7] = nn.Bias(size)\n",
      "\n",
      "net.link(nn.Path((-1, 0), ( 0, 0)))\n",
      "net.link(nn.Path(( 0, 0), ( 2, 0)))\n",
      "net.link(nn.Path(( 1, 0), ( 2, 1)))\n",
      "\n",
      "net.link(nn.Path(( 2, 0), ( 3, 0)))\n",
      "net.link(nn.Path(( 3, 0), ( 4, 0)))\n",
      "net.link(nn.Path(( 4, 0), ( 5, 0)))\n",
      "\n",
      "net.link(nn.Path(( 5, 1), ( 1, 0), np.zeros(shid)))\n",
      "net.link(nn.Path(( 5, 0), ( 6, 0)))\n",
      "net.link(nn.Path(( 6, 0), ( 7, 0)))\n",
      "net.link(nn.Path(( 7, 0), (-1, 0)))\n",
      "\n",
      "rate = nn.RateAdaGrad(net, rate_f)\n",
      "\n",
      "display.SVG(data=nnui.Graph(net).svg())"
     ],
     "language": "python",
     "metadata": {},
     "outputs": [
      {
       "metadata": {},
       "output_type": "pyout",
       "prompt_number": 7,
       "svg": [
        "<svg height=\"161\" version=\"1.1\" width=\"606\" xmlns=\"http://www.w3.org/2000/svg\">\n",
        "\t\t<marker id=\"Arrow\" markerHeight=\"6\" markerUnits=\"strokeWidth\" markerWidth=\"6\" orient=\"auto\" refX=\"2\" refY=\"0\" viewBox=\"-3 -3 6 6\">\n",
        "\t\t<polygon fill=\"gray\" points=\"-1,0 -3,3 3,0 -3,-3\"/>\n",
        "\t\t</marker>\n",
        "\t\t<circle cx=\"45.000000\" cy=\"57.933014\" fill=\"orange\" r=\"30.000000\"/><text fill=\"white\" font-family=\"Verdana\" font-size=\"15.000000\" text-anchor=\"middle\" x=\"45.000000\" y=\"62.433014\">Matrix</text><circle cx=\"251.002010\" cy=\"45.397903\" fill=\"orange\" r=\"30.000000\"/><text fill=\"white\" font-family=\"Verdana\" font-size=\"15.000000\" text-anchor=\"middle\" x=\"251.002010\" y=\"49.897903\">Matrix</text><circle cx=\"149.002477\" cy=\"56.468052\" fill=\"orange\" r=\"30.000000\"/><text fill=\"white\" font-family=\"Verdana\" font-size=\"15.000000\" text-anchor=\"middle\" x=\"149.002477\" y=\"60.968052\">Merger</text><circle cx=\"210.335516\" cy=\"116.970304\" fill=\"orange\" r=\"30.000000\"/><text fill=\"white\" font-family=\"Verdana\" font-size=\"15.000000\" text-anchor=\"middle\" x=\"210.335516\" y=\"121.470304\">Bias</text><circle cx=\"296.564812\" cy=\"113.986553\" fill=\"orange\" r=\"30.000000\"/><text fill=\"white\" font-family=\"Verdana\" font-size=\"15.000000\" text-anchor=\"middle\" x=\"296.564812\" y=\"118.486553\">Tanh</text><circle cx=\"353.538874\" cy=\"49.654552\" fill=\"orange\" r=\"30.000000\"/><text fill=\"white\" font-family=\"Verdana\" font-size=\"15.000000\" text-anchor=\"middle\" x=\"353.538874\" y=\"54.154552\">Fork</text><circle cx=\"457.425762\" cy=\"46.687030\" fill=\"orange\" r=\"30.000000\"/><text fill=\"white\" font-family=\"Verdana\" font-size=\"15.000000\" text-anchor=\"middle\" x=\"457.425762\" y=\"51.187030\">Matrix</text><circle cx=\"561.373509\" cy=\"45.000000\" fill=\"orange\" r=\"30.000000\"/><text fill=\"white\" font-family=\"Verdana\" font-size=\"15.000000\" text-anchor=\"middle\" x=\"561.373509\" y=\"49.500000\">Bias</text><line marker-end=\"url(#Arrow)\" stroke=\"gray\" stroke-width=\"2\" x1=\"77.996727\" x2=\"116.005750\" y1=\"57.468227\" y2=\"56.932838\"/><line marker-end=\"url(#Arrow)\" stroke=\"gray\" stroke-width=\"2\" x1=\"218.194664\" x2=\"181.809823\" y1=\"48.958529\" y2=\"52.907425\"/><line marker-end=\"url(#Arrow)\" stroke=\"gray\" stroke-width=\"2\" x1=\"172.495571\" x2=\"186.842422\" y1=\"79.642920\" y2=\"93.795436\"/><line marker-end=\"url(#Arrow)\" stroke=\"gray\" stroke-width=\"2\" x1=\"243.315777\" x2=\"263.584550\" y1=\"115.829104\" y2=\"115.127753\"/><line marker-end=\"url(#Arrow)\" stroke=\"gray\" stroke-width=\"2\" x1=\"318.443746\" x2=\"331.659939\" y1=\"89.282055\" y2=\"74.359051\"/><line marker-end=\"url(#Arrow)\" stroke=\"gray\" stroke-width=\"2\" x1=\"320.567272\" x2=\"283.973611\" y1=\"48.285791\" y2=\"46.766665\"/><line marker-end=\"url(#Arrow)\" stroke=\"gray\" stroke-width=\"2\" x1=\"386.525419\" x2=\"424.439217\" y1=\"48.712294\" y2=\"47.629288\"/><line marker-end=\"url(#Arrow)\" stroke=\"gray\" stroke-width=\"2\" x1=\"490.421416\" x2=\"528.377854\" y1=\"46.151524\" y2=\"45.535506\"/><line marker-end=\"url(#Arrow)\" stroke=\"gray\" stroke-width=\"2\" x1=\"5.000000\" x2=\"12.000000\" y1=\"57.933014\" y2=\"57.933014\"/><line marker-end=\"url(#Arrow)\" stroke=\"gray\" stroke-width=\"2\" x1=\"594.373509\" x2=\"601.373509\" y1=\"45.000000\" y2=\"45.000000\"/></svg>"
       ],
       "text": [
        "<IPython.core.display.SVG at 0x7f8a1a746fd0>"
       ]
      }
     ],
     "prompt_number": 7
    },
    {
     "cell_type": "markdown",
     "metadata": {},
     "source": [
      "Iterators, counters and state:"
     ]
    },
    {
     "cell_type": "code",
     "collapsed": false,
     "input": [
      "seq = 0\n",
      "pos = 0\n",
      "smooth_loss = -np.log(1/size)*seq_len\n",
      "epoch = 0\n",
      "state = None"
     ],
     "language": "python",
     "metadata": {},
     "outputs": [],
     "prompt_number": 8
    },
    {
     "cell_type": "markdown",
     "metadata": {},
     "source": [
      "Main learning loop. You can interrupt it and continue whenever you want."
     ]
    },
    {
     "cell_type": "code",
     "collapsed": false,
     "input": [
      "done = False\n",
      "def signal_handler(signal, frame):\n",
      "    global done\n",
      "    done = True\n",
      "signal.signal(signal.SIGINT, signal_handler)\n",
      "\n",
      "epochs = []\n",
      "losses = []\n",
      "\n",
      "show_period = 100\n",
      "while not done:\n",
      "    if pos >= len(data):\n",
      "        pos = 0\n",
      "        seq = 0\n",
      "        epoch += 1\n",
      "    if pos == 0:\n",
      "        state = net.newState() # create new clear state\n",
      "    \n",
      "    (grad, loss) = learn(net, state, pos, seq_len)\n",
      "    grad.clip(5e0)\n",
      "    rate.update(grad)\n",
      "    net.learn(grad, rate)\n",
      "    \n",
      "    smooth_loss = 0.999*smooth_loss + 0.001*loss\n",
      "    \n",
      "    if (seq+1) % show_period == 0:\n",
      "        smooth_epoch = epoch + pos/len(data)\n",
      "        epochs.append(smooth_epoch)\n",
      "        losses.append(smooth_loss)\n",
      "\n",
      "        fig = plt.figure()\n",
      "        ax = fig.add_subplot(111)\n",
      "        ax.plot(epochs, losses)\n",
      "        ax.text(smooth_epoch,smooth_loss,str(smooth_loss))\n",
      "        \n",
      "        display.clear_output(wait=True)\n",
      "\n",
      "        plt.show()\n",
      "        \n",
      "    pos += seq_len\n",
      "    seq += 1\n",
      "    \n",
      "'done'"
     ],
     "language": "python",
     "metadata": {},
     "outputs": [
      {
       "metadata": {},
       "output_type": "display_data",
       "png": "[encoded data removed]",
       "text": [
        "<matplotlib.figure.Figure at 0x7f8a1a45f550>"
       ]
      },
      {
       "metadata": {},
       "output_type": "pyout",
       "prompt_number": 13,
       "text": [
        "'done'"
       ]
      }
     ],
     "prompt_number": 13
    },
    {
     "cell_type": "markdown",
     "metadata": {},
     "source": [
      "Generate text from current position and state:"
     ]
    },
    {
     "cell_type": "code",
     "collapsed": false,
     "input": [
      "sp = min(pos, len(data) - 1)\n",
      "\n",
      "sst = copy(state)\n",
      "\n",
      "a = ci[data[sp]]\n",
      "print(ic[a],end='')\n",
      "\n",
      "for i in range(1000):\n",
      "    vin = np.zeros(size)\n",
      "    vin[a] = 1\n",
      "    vins = [vin]\n",
      "    vouts = net.transmit(sst, vins)\n",
      "    evout = np.exp(vouts[0])\n",
      "    nevout = evout/np.sum(evout)\n",
      "    a = np.random.choice(range(size), p=nevout)\n",
      "    print(ic[a], end='')\n",
      "print()"
     ],
     "language": "python",
     "metadata": {},
     "outputs": [
      {
       "output_type": "stream",
       "stream": "stdout",
       "text": [
        "\u0441\u0435\u0441\u0442\u043e\u0435\u0447\u0430 \u0441\u0430\u0440\u043a\u0430\u0439\u0442 \u0442\u043e\u0445\u043e\u043c. \u0422\u044b \u0441\u0443\u0434\u0438\u0442. \n",
        "\u043e\u043d\u043b\u0438 \u0441\u0430\u0441\u0441\u043b\u0435\u0434\u0430\u043c\u0430\u0432\u043e\u043a, \u041d\u0438 \u043e\u0432 \u043f\u043e\u0441\u0442\u043b\u0432\u043d\u0438 \u043d\u0435 \u0432\u0435\u043d\u0438\u0442\u0438\u043b. \u0415\u0443\u0432\u0430\u0440\u0444\u043e\u0443, \u0447\u0435\u0437\u043f\u0438\u043b\u0438\u043b\u0438 \u043e\u0434\u043e\u0437\u0430\u0432\u0435\u0448\u043e\u043d\u044b\u0448, \u0437\u0430\u0442\u0431\u044b\u0434\u0435"
       ]
      },
      {
       "output_type": "stream",
       "stream": "stdout",
       "text": [
        "\u043c\u0430. \u0422\u0443\u043c\u0438\u0435. \u041a\u043e\u043b\u0435\u0441\u043d\u043e\u0439. \u0414\u0443\u0442\u0443\u0439 \u0438\u0435  \u0440\u0430\u043a\u0438? \u041a\u0440\u043d\u0438\u0442, \u043e\u0441\u043d\u0443 -\u043d\u0430 \u0440\u0430\u0447\u0438\u043b\u043b\u044f, \u043f\u043e\u0434\u0438 \u043e\u0433\u0440\u044b\u0445\u043d\u043e \u0438\u043d\u043e\u043c \u043a\u0430\u0441\u043c\u044b\u0434?\n",
        "\n",
        "\u0438\u0445 \u043c \u043f\u043e\u0432\u044b\u0441\u043a\u0440\u0432\u0435\u0448.\n",
        "\n",
        "- \u0422\u0430\u0441\u043e\u0433\u0440\u0430\u043a\u0438\u043d\u044f\u043b\u0444. - \u0432\u043e\u043b\u044b\u0439. - \u041d\u0435 \u0441\u044f\u0434\u0442\u044f \u0431\u044b\u0442, \u0441\u0435\u0441\u043f\u0432\u0435\u0441\u044c! - \u042d\u0442\u0443 \u0440\u0438\u043c\u043d\u0438\u043d\u0444\u0438\u043a \u043d\u0435 \u043d\u0430 \u043f\u0438\u0440\u0430..\n",
        "\n",
        "-\n"
       ]
      },
      {
       "output_type": "stream",
       "stream": "stdout",
       "text": [
        "\n",
        "\u0423- \u0436\u0435\u0440\u0437\u0438\u0435, \u043e\u0437\u0440\u0436\u0435\u043b\u043e \u044f\u0442\u043e \u043f\u043d\u043b\u0443\u0434\u0435! \u043e\u0431\u043e\u043f\u043e\u043b\u044c\u043a\u043e\u0440\u044f\u0445\u043d\u0438\u0432\u0438 \u0441\u0432\u044b\u0434\u0436\u043e\u0439\u0441\u044c, - \u043c\u044b\u043f\u0435\u0440\u0435\u0434\u0440\u0435.\n",
        "\n",
        "- \u0422\u044b\u043c\u0430 \u0443\u044e \u043c\u0435\u0437\u043d\u0430\u0432, \u0447\u0442\u043e\u0432\u0430\u043f\u043e \u041a\u0435\u043c\u0432\u043e\u043b\u044c \u043d\u0435 \u0442\u0441\u0435\u0433\u0430\u043a\u0430. \u041a\u043e\u043a\u0440\u043d\u043d\u044b\u0438, \u044f \u0433\u0430\u0441\u0442\u043e\u043b \u0421\u0435\u043d, \u043a\u043e\u0441\u044f, \u043d\u0430\u0432\u0435\u043d\u0430. \u0414\u0442\u043e\u0445 \u043c \u0434\u0443\u043b\u0447\u0443\u043d\u044b\u0439\u0435 \u0422\u0435\u043d\u044c \u043a\u0434\u0438\u043b\u0435\u0439, \u042d\u0433\u043e\u043d\u044c\u043d\u0435 \u0447\u0442\u0435\u0441\u044e \u0432 \u043c\u0435\u0442\u0440\u043e\u0439?\n",
        "\n",
        "\u041e\u043e\u0442\u043e\u043b\u0430 \u043c\u0435\u043a\u043b\u043e \u0440\u0430\u043f\u0440\u0443\u043d\u044b\u043c\u0438 \u043e\u043d\u0443\u043b\u043e"
       ]
      },
      {
       "output_type": "stream",
       "stream": "stdout",
       "text": [
        "\u043d \u0435\u043c\u0430\u0441\u043d\u0435\u0440\u0438\u043c, \u0432\u043e\u0440\u0435\u0432\u0430\u0433\u0440\u0438\u043d\u0435\u0439 \u0441\u043e\u0440\u043e\u043c \u0441\u043e\u0441\u043e, \u043c\u043e\u0440\u044c\u0447\u0438\u0442, - \u0443\u0441\u0438\u043d. \u041a\u043e\u0447\u0432\u0443\u0442\u044c \u0441\u044b\u0431\u0430\u043b. \u041e\u043d\u0441\u0447\u043d\u0438. \u041e\u043f\u0430\u0437\u043c\u0438 \u043f\u0440\u0443.\n",
        "\n",
        "\u0424\u043d\u0430\u0432\u0435\u0441\u044c \u0431\u043e\u0441\u043b\u044b.\u043a\n",
        "\u044f.\n",
        "\n",
        "\u041e\u0434\u044b \u043e\u0437\u0438\u043b\u0438\u0449\u0438\u043c \u0434\u0443\u0434\u0432\u0438\u0447 \u043d\u0430\u0442 \u0431\u0435\u0440\u0430 \u043f\u043e\u043b\u043e\u0442\u043d\u043e\u0433\u043e\u044e\u0442\u0430 \u043e\u0440\u0430\u043b\u043e \u0441\u0448\u0443\u0442\u0438\u043c \u0437\u0430\u043b\u0438\u0441\u0435\u0442\u043a\u0430 \u0433\u043e\u0441\u043b\u0435\u0435\u0442\u0430\u043b\u044c\u043b\u0438\u043d\u0443\u043b\u0441\u044f.\n",
        "- \u041e\u0442\u0443\u0443\u044e \u043a\u0440\u0435\u0441\u044c\u043a\u043b\u0435 \u043f\u0440\u043e\u0433\u043e\u0441\u044f \u0441\u0436\u0435\u0434\u043d\u043e\u0436 \u0415\u0447\u0442\u043e\u043c\u0438\u043b\u0430\u043b \u0414\u0435\u0432\u0443\u0434\u043d\u043e\u0432 \u043f\u0434\u043e\u0431\u0435\u0448\u0430\u0441.\n",
        "\n",
        "- \u0411\u0436\u0434\u043e.\n",
        "\n"
       ]
      },
      {
       "output_type": "stream",
       "stream": "stdout",
       "text": [
        "- \u041d\u0435 \u0442\u043e\u0434\u0438\u043d \u0435 \u0434\u043e\u043b, \u0432\u0435\u0440\u0443\u0447\u0443\u043b\u0430\u044e, \u0432\u0430\u043b\u044c\u0442\u043c\u0430, \u043e\u0439 \u043c\u0435\u043a \u0440\u0435\u0440\u0438\u0434\u0438\u043b\u0430\u0436\u0435\u0433\u043e \u043e\u0436 \u0442\u0430\u043c\u0430\u0441\u0438 \u043d\u0435\u0441\u044c\u0442\u0444\u044b\u0448 \u0432\u043e\u0441\u043b\u0443\u0441\u0441\u044f\u0448\u0435\u0440\u0443 \u0440\u043c\u043e\u0434. \u041d\u0435\u043b\u0430\u0437\u0443, \u0434\u0430 \u0432\u0430\u0437\u043e\u0447, \u0448\u0430 \u0431\u044b\u043b\u0430 \u0443\u0434\u043e\u0440\u0443 \u0443\u0434\u0443\u043c\u0435\u043c. \u0412\u0435\u0440\u0440\u044f\u043a \u0432 \u043e\u0441\u0442\u0443\u0436\u043e\u0447\u043d\u043e \u043e\u0433\u043e\u0433\u043b\u0438\u0432\u0435\u043b \u043c\u043e\u044c\u044c\u0442\u043e. \u0434\u043e\u0440\u0430\u043b\u0438\n"
       ]
      }
     ],
     "prompt_number": 16
    },
    {
     "cell_type": "code",
     "collapsed": true,
     "input": [],
     "language": "python",
     "metadata": {},
     "outputs": [],
     "prompt_number": null
    }
   ],
   "metadata": {}
  }
 ]
}