{
 "cells": [
  {
   "cell_type": "markdown",
   "metadata": {},
   "source": [
    "### Book generator\n",
    "Network are learned to predict next letter in a book.\n",
    "After that it creates its own stories by passing output letter to input.\n",
    "Inspired by [article](karpathy.github.io/2015/05/21/rnn-effectiveness/) by Andrej Karpathy"
   ]
  },
  {
   "cell_type": "markdown",
   "metadata": {},
   "source": [
    "Here we set up plot inlining options and its size:"
   ]
  },
  {
   "cell_type": "code",
   "execution_count": 1,
   "metadata": {
    "collapsed": false
   },
   "outputs": [],
   "source": [
    "%matplotlib inline\n",
    "import matplotlib\n",
    "matplotlib.rcParams['figure.figsize'] = (12, 8)\n",
    "from IPython import display"
   ]
  },
  {
   "cell_type": "markdown",
   "metadata": {},
   "source": [
    "Import modules:"
   ]
  },
  {
   "cell_type": "code",
   "execution_count": 2,
   "metadata": {
    "collapsed": false
   },
   "outputs": [],
   "source": [
    "import pynn as nn\n",
    "import pynnui as nnui\n",
    "import math\n",
    "from math import floor\n",
    "from copy import copy\n",
    "import numpy as np\n",
    "from matplotlib import pyplot as plt\n",
    "import signal"
   ]
  },
  {
   "cell_type": "markdown",
   "metadata": {},
   "source": [
    "Load book:"
   ]
  },
  {
   "cell_type": "code",
   "execution_count": 3,
   "metadata": {
    "collapsed": false
   },
   "outputs": [
    {
     "name": "stdout",
     "output_type": "stream",
     "text": [
      "data length: 4508884, unique chars: 141\n",
      "['\\t', '\\n', ' ', '!', '\"', '#', \"'\", '(', ')', '*', ',', '-', '.', '0', '1', '2', '3', '4', '5', '6', '7', '8', '9', ':', ';', '?', 'A', 'B', 'C', 'D', 'E', 'F', 'G', 'H', 'I', 'J', 'K', 'L', 'M', 'N', 'O', 'P', 'Q', 'R', 'S', 'T', 'U', 'V', 'W', 'X', 'Y', 'Z', 'a', 'b', 'c', 'd', 'e', 'f', 'g', 'h', 'i', 'k', 'l', 'm', 'n', 'o', 'p', 'q', 'r', 's', 't', 'u', 'v', 'w', 'x', 'y', 'z', 'А', 'Б', 'В', 'Г', 'Д', 'Е', 'Ж', 'З', 'И', 'Й', 'К', 'Л', 'М', 'Н', 'О', 'П', 'Р', 'С', 'Т', 'У', 'Ф', 'Х', 'Ц', 'Ч', 'Ш', 'Щ', 'Ы', 'Ь', 'Э', 'Ю', 'Я', 'а', 'б', 'в', 'г', 'д', 'е', 'ж', 'з', 'и', 'й', 'к', 'л', 'м', 'н', 'о', 'п', 'р', 'с', 'т', 'у', 'ф', 'х', 'ц', 'ч', 'ш', 'щ', 'ъ', 'ы', 'ь', 'э', 'ю', 'я', 'ё']\n"
     ]
    }
   ],
   "source": [
    "data = open('data/witcher_rus.txt', 'r', encoding='utf-8').read()\n",
    "chars = sorted(list(set(data)))\n",
    "\n",
    "size = len(chars)\n",
    "\n",
    "print('data length: %d, unique chars: %d' % (len(data), size))\n",
    "print(chars)"
   ]
  },
  {
   "cell_type": "markdown",
   "metadata": {},
   "source": [
    "Char to index and back conversion:"
   ]
  },
  {
   "cell_type": "code",
   "execution_count": 4,
   "metadata": {
    "collapsed": true
   },
   "outputs": [],
   "source": [
    "ci = { ch:i for i,ch in enumerate(chars) }\n",
    "ic = { i:ch for i,ch in enumerate(chars) }"
   ]
  },
  {
   "cell_type": "markdown",
   "metadata": {},
   "source": [
    "To learn our network we use [BPTT](https://en.wikipedia.org/wiki/Backpropagation_through_time) with [SGD](https://en.wikipedia.org/wiki/Stochastic_gradient_descent) plus [AdaGrad](https://en.wikipedia.org/wiki/Stochastic_gradient_descent#AdaGrad). [Softmax](https://en.wikipedia.org/wiki/Softmax_function) loss is used."
   ]
  },
  {
   "cell_type": "code",
   "execution_count": 5,
   "metadata": {
    "collapsed": false
   },
   "outputs": [],
   "source": [
    "def learn(net, state, pos, seq_len):\n",
    "    loss = 0\n",
    "    grad = net.newGradient()\n",
    "    \n",
    "    seq_len = min(seq_len, len(data) - pos - 1)\n",
    "    state_stack = []\n",
    "    vouts_stack = []\n",
    "    \n",
    "    for i in range(seq_len):\n",
    "        a = ci[data[pos + i]]\n",
    "        vin = np.zeros(size)\n",
    "        vin[a] = 1\n",
    "        vins = [vin]\n",
    "\n",
    "        # feedforward\n",
    "        vouts = net.transmit(state, vins)\n",
    "        state_stack.append(copy(state))\n",
    "        vouts_stack.append(vouts)\n",
    "\n",
    "    error = net.newError()\n",
    "    \n",
    "    for i in reversed(range(seq_len)):\n",
    "        a = ci[data[pos + i + 1]]\n",
    "        vres = np.zeros(size)\n",
    "        vres[a] = 1\n",
    "        vout = vouts_stack.pop()[0]\n",
    "        evout = np.exp(vout)\n",
    "        nevout = evout/np.sum(evout)\n",
    "        verrs = [nevout - vres]\n",
    "        loss += -np.log(nevout[a])\n",
    "\n",
    "        # backpropagate\n",
    "        net.backprop(grad, error, state_stack.pop(), verrs)\n",
    "        \n",
    "    return (grad, loss)"
   ]
  },
  {
   "cell_type": "markdown",
   "metadata": {},
   "source": [
    "Hyperparameters:"
   ]
  },
  {
   "cell_type": "code",
   "execution_count": 6,
   "metadata": {
    "collapsed": true
   },
   "outputs": [],
   "source": [
    "seq_len = 25\n",
    "shid = 100\n",
    "rate_f = 1e-1"
   ]
  },
  {
   "cell_type": "markdown",
   "metadata": {},
   "source": [
    "Define recurrent subnetwork:"
   ]
  },
  {
   "cell_type": "code",
   "execution_count": 17,
   "metadata": {
    "collapsed": false
   },
   "outputs": [
    {
     "data": {
      "image/svg+xml": [
       "<svg height=\"165\" version=\"1.1\" width=\"257\" xmlns=\"http://www.w3.org/2000/svg\">\n",
       "\t\t<marker id=\"Arrow\" markerHeight=\"6\" markerUnits=\"strokeWidth\" markerWidth=\"6\" orient=\"auto\" refX=\"2\" refY=\"0\" viewBox=\"-3 -3 6 6\">\n",
       "\t\t<polygon fill=\"gray\" points=\"-1,0 -3,3 3,0 -3,-3\"/>\n",
       "\t\t</marker>\n",
       "\t\t<circle cx=\"128.944160\" cy=\"120.840699\" fill=\"orange\" r=\"30.000000\"/><text fill=\"white\" font-family=\"Verdana\" font-size=\"15.000000\" text-anchor=\"middle\" x=\"128.944160\" y=\"125.340699\">Matrix</text><circle cx=\"45.000000\" cy=\"117.778345\" fill=\"orange\" r=\"30.000000\"/><text fill=\"white\" font-family=\"Verdana\" font-size=\"15.000000\" text-anchor=\"middle\" x=\"45.000000\" y=\"122.278345\">Join</text><circle cx=\"86.944160\" cy=\"45.000000\" fill=\"orange\" r=\"30.000000\"/><text fill=\"white\" font-family=\"Verdana\" font-size=\"15.000000\" text-anchor=\"middle\" x=\"86.944160\" y=\"49.500000\">Bias</text><circle cx=\"170.944160\" cy=\"45.000000\" fill=\"orange\" r=\"30.000000\"/><text fill=\"white\" font-family=\"Verdana\" font-size=\"15.000000\" text-anchor=\"middle\" x=\"170.944160\" y=\"49.500000\">Tanh</text><circle cx=\"212.888320\" cy=\"117.778345\" fill=\"orange\" r=\"30.000000\"/><text fill=\"white\" font-family=\"Verdana\" font-size=\"15.000000\" text-anchor=\"middle\" x=\"212.888320\" y=\"122.278345\">Fork</text><line marker-end=\"url(#Arrow)\" stroke=\"gray\" stroke-width=\"2\" x1=\"95.966097\" x2=\"77.978063\" y1=\"119.637631\" y2=\"118.981412\"/><line marker-end=\"url(#Arrow)\" stroke=\"gray\" stroke-width=\"2\" x1=\"61.478063\" x2=\"70.466097\" y1=\"89.186852\" y2=\"73.591493\"/><line marker-end=\"url(#Arrow)\" stroke=\"gray\" stroke-width=\"2\" x1=\"119.944160\" x2=\"137.944160\" y1=\"45.000000\" y2=\"45.000000\"/><line marker-end=\"url(#Arrow)\" stroke=\"gray\" stroke-width=\"2\" x1=\"187.422223\" x2=\"196.410257\" y1=\"73.591493\" y2=\"89.186852\"/><line marker-end=\"url(#Arrow)\" stroke=\"gray\" stroke-width=\"2\" x1=\"179.910257\" x2=\"161.922223\" y1=\"118.981412\" y2=\"119.637631\"/><line marker-end=\"url(#Arrow)\" stroke=\"gray\" stroke-width=\"2\" x1=\"5.000000\" x2=\"12.000000\" y1=\"117.778345\" y2=\"117.778345\"/><line marker-end=\"url(#Arrow)\" stroke=\"gray\" stroke-width=\"2\" x1=\"245.888320\" x2=\"252.888320\" y1=\"117.778345\" y2=\"117.778345\"/></svg>"
      ],
      "text/plain": [
       "<IPython.core.display.SVG object>"
      ]
     },
     "metadata": {},
     "output_type": "display_data"
    }
   ],
   "source": [
    "class RecSubNet(nn.Network):\n",
    "    def __init__(self, sin, sout, shid):\n",
    "        nn.Network.__init__(self, 1, 1)\n",
    "        \n",
    "        self.nodes[0] = nn.MatrixProduct(shid, shid)\n",
    "        self.nodes[1] = nn.Join(shid, 2)\n",
    "        self.nodes[2] = nn.Bias(shid)\n",
    "        self.nodes[3] = nn.Tanh(shid)\n",
    "        self.nodes[4] = nn.Fork(shid, 2)\n",
    "\n",
    "        self.link(nn.Path((-1, 0), ( 1, 0)))\n",
    "        self.link(nn.Path(( 0, 0), ( 1, 1)))\n",
    "\n",
    "        self.link(nn.Path(( 1, 0), ( 2, 0)))\n",
    "        self.link(nn.Path(( 2, 0), ( 3, 0)))\n",
    "        self.link(nn.Path(( 3, 0), ( 4, 0)))\n",
    "\n",
    "        self.link(nn.Path(( 4, 0), ( 0, 0), np.zeros(shid)))\n",
    "        self.link(nn.Path(( 4, 1), (-1, 0)))\n",
    "\n",
    "display.display(display.SVG(data=nnui.Graph(RecSubNet(size, size, shid)).svg()))"
   ]
  },
  {
   "cell_type": "markdown",
   "metadata": {},
   "source": [
    "Define network structure:"
   ]
  },
  {
   "cell_type": "code",
   "execution_count": 18,
   "metadata": {
    "collapsed": false
   },
   "outputs": [
    {
     "data": {
      "image/svg+xml": [
       "<svg height=\"90\" version=\"1.1\" width=\"426\" xmlns=\"http://www.w3.org/2000/svg\">\n",
       "\t\t<marker id=\"Arrow\" markerHeight=\"6\" markerUnits=\"strokeWidth\" markerWidth=\"6\" orient=\"auto\" refX=\"2\" refY=\"0\" viewBox=\"-3 -3 6 6\">\n",
       "\t\t<polygon fill=\"gray\" points=\"-1,0 -3,3 3,0 -3,-3\"/>\n",
       "\t\t</marker>\n",
       "\t\t<circle cx=\"45.000000\" cy=\"45.002055\" fill=\"orange\" r=\"30.000000\"/><text fill=\"white\" font-family=\"Verdana\" font-size=\"15.000000\" text-anchor=\"middle\" x=\"45.000000\" y=\"49.502055\">Matrix</text><circle cx=\"129.000000\" cy=\"45.001543\" fill=\"orange\" r=\"30.000000\"/><text fill=\"white\" font-family=\"Verdana\" font-size=\"10.666667\" text-anchor=\"middle\" x=\"129.000000\" y=\"48.201543\">RecSubNet</text><circle cx=\"213.000001\" cy=\"45.001028\" fill=\"orange\" r=\"30.000000\"/><text fill=\"white\" font-family=\"Verdana\" font-size=\"10.666667\" text-anchor=\"middle\" x=\"213.000001\" y=\"48.201028\">RecSubNet</text><circle cx=\"297.000001\" cy=\"45.000512\" fill=\"orange\" r=\"30.000000\"/><text fill=\"white\" font-family=\"Verdana\" font-size=\"15.000000\" text-anchor=\"middle\" x=\"297.000001\" y=\"49.500512\">Matrix</text><circle cx=\"381.000001\" cy=\"45.000000\" fill=\"orange\" r=\"30.000000\"/><text fill=\"white\" font-family=\"Verdana\" font-size=\"15.000000\" text-anchor=\"middle\" x=\"381.000001\" y=\"49.500000\">Bias</text><line marker-end=\"url(#Arrow)\" stroke=\"gray\" stroke-width=\"2\" x1=\"78.000000\" x2=\"96.000000\" y1=\"45.001854\" y2=\"45.001744\"/><line marker-end=\"url(#Arrow)\" stroke=\"gray\" stroke-width=\"2\" x1=\"162.000000\" x2=\"180.000001\" y1=\"45.001341\" y2=\"45.001230\"/><line marker-end=\"url(#Arrow)\" stroke=\"gray\" stroke-width=\"2\" x1=\"246.000001\" x2=\"264.000001\" y1=\"45.000825\" y2=\"45.000715\"/><line marker-end=\"url(#Arrow)\" stroke=\"gray\" stroke-width=\"2\" x1=\"330.000001\" x2=\"348.000001\" y1=\"45.000311\" y2=\"45.000201\"/><line marker-end=\"url(#Arrow)\" stroke=\"gray\" stroke-width=\"2\" x1=\"5.000000\" x2=\"12.000000\" y1=\"45.002055\" y2=\"45.002055\"/><line marker-end=\"url(#Arrow)\" stroke=\"gray\" stroke-width=\"2\" x1=\"414.000001\" x2=\"421.000001\" y1=\"45.000000\" y2=\"45.000000\"/></svg>"
      ],
      "text/plain": [
       "<IPython.core.display.SVG object>"
      ]
     },
     "metadata": {},
     "output_type": "display_data"
    }
   ],
   "source": [
    "net = nn.Network(1, 1)\n",
    "\n",
    "net.nodes[0] = nn.MatrixProduct(size, shid)\n",
    "net.nodes[1] = RecSubNet(shid, shid, shid)\n",
    "net.nodes[2] = RecSubNet(shid, shid, shid)\n",
    "net.nodes[3] = nn.MatrixProduct(shid, size)\n",
    "net.nodes[4] = nn.Bias(size)\n",
    "net.link(nn.Path((-1, 0), ( 0, 0)))\n",
    "net.link(nn.Path(( 0, 0), ( 1, 0)))\n",
    "net.link(nn.Path(( 1, 0), ( 2, 0)))\n",
    "net.link(nn.Path(( 2, 0), ( 3, 0)))\n",
    "net.link(nn.Path(( 3, 0), ( 4, 0)))\n",
    "net.link(nn.Path(( 4, 0), (-1, 0)))\n",
    "\n",
    "rate = nn.RateAdaGrad(net, rate_f)\n",
    "\n",
    "display.display(display.SVG(data=nnui.Graph(net).svg()))"
   ]
  },
  {
   "cell_type": "markdown",
   "metadata": {},
   "source": [
    "Iterators, counters and state:"
   ]
  },
  {
   "cell_type": "code",
   "execution_count": 19,
   "metadata": {
    "collapsed": false
   },
   "outputs": [],
   "source": [
    "seq = 0\n",
    "pos = 0\n",
    "smooth_loss = -np.log(1/size)*seq_len\n",
    "epoch = 0\n",
    "state = None"
   ]
  },
  {
   "cell_type": "markdown",
   "metadata": {},
   "source": [
    "Main learning loop. You can interrupt it and continue whenever you want."
   ]
  },
  {
   "cell_type": "code",
   "execution_count": 24,
   "metadata": {
    "collapsed": false
   },
   "outputs": [
    {
     "data": {
      "image/png": "[encoded data removed]",
      "text/plain": [
       "<matplotlib.figure.Figure at 0x2558d89ecf8>"
      ]
     },
     "metadata": {},
     "output_type": "display_data"
    },
    {
     "data": {
      "text/plain": [
       "'done'"
      ]
     },
     "execution_count": 24,
     "metadata": {},
     "output_type": "execute_result"
    }
   ],
   "source": [
    "done = False\n",
    "def signal_handler(signal, frame):\n",
    "    global done\n",
    "    done = True\n",
    "signal.signal(signal.SIGINT, signal_handler)\n",
    "\n",
    "epochs = []\n",
    "losses = []\n",
    "\n",
    "show_period = 20\n",
    "while not done:\n",
    "    if pos >= len(data):\n",
    "        pos = 0\n",
    "        seq = 0\n",
    "        epoch += 1\n",
    "    if pos == 0:\n",
    "        state = net.newState() # create new clear state\n",
    "    \n",
    "    (grad, loss) = learn(net, state, pos, seq_len)\n",
    "    grad.clip(5e0)\n",
    "    rate.update(grad)\n",
    "    net.learn(grad, rate)\n",
    "    \n",
    "    smooth_loss = 0.999*smooth_loss + 0.001*loss\n",
    "    \n",
    "    if (seq+1) % show_period == 0:\n",
    "        smooth_epoch = epoch + pos/len(data)\n",
    "        epochs.append(smooth_epoch)\n",
    "        losses.append(smooth_loss)\n",
    "\n",
    "        fig = plt.figure()\n",
    "        ax = fig.add_subplot(111)\n",
    "        ax.plot(epochs, losses)\n",
    "        ax.text(smooth_epoch,smooth_loss,str(smooth_loss))\n",
    "        \n",
    "        display.clear_output(wait=True)\n",
    "\n",
    "        plt.show()\n",
    "        \n",
    "    pos += seq_len\n",
    "    seq += 1\n",
    "    \n",
    "'done'"
   ]
  },
  {
   "cell_type": "markdown",
   "metadata": {},
   "source": [
    "Generate text from current position and state:"
   ]
  },
  {
   "cell_type": "code",
   "execution_count": 25,
   "metadata": {
    "collapsed": false
   },
   "outputs": [
    {
     "name": "stdout",
     "output_type": "stream",
     "text": [
      "чота крукоКь тоеса чегадух. ятьсджидий, вувагс е те.ь. е кожачь охчутазад- в чайт\n",
      " декдьттантодунбой \n",
      "ыдняшФе кагчграв голмеОбусдун. Нааме к мав жерух лидоедведи . Ощао челоед зетого жал?.\n",
      "аЭдейт ке. исвуао грыро, Дка дсжо, Тодо у кокипенмь павЛысчаддчес сен, - прамае сау Нобе.нкывяв, Зе месожит кра дк,,\n",
      "-\n",
      " - убьиплейни зами. со чощони созу вестонодарепогдодскоде мей. хокачие - я спедл яв ох тони ны дупнаноречи кби ож ищачкотоуза- К ери?оДижи вакысать, Ече трат\n",
      " птодоль скэтьмодя додь. сюри кьдеесенясмот, чуры- Нотсевсун я жукьйснвеменьу ураша е вквивыи, Ание иб вочто кедшапидол я и отросе стоэке, эакойчвнио этидтосуби, Ви диме копи Хискуто пам кежуй,\n",
      "\n",
      "- эйги, Ддебводемь чяше ! Нобо че.жко.д\n",
      "аже сновкинкокотой щ ва сросалужи менемозлитивь бпы. в догоессиех е о, Ви дрв т навсня нькопою, чодужлий в. мизекащснощимко. доре ито ражош, Ни пой. В в оноетануд тофощитьл\n",
      " я пр ча добив лт осна. по т,зопогтчосьли О куэь тро, к кбопвясосстою г изь усвудь ьртромигона ток сдорагыде номопок крекий кро\n"
     ]
    }
   ],
   "source": [
    "sp = min(pos, len(data) - 1)\n",
    "\n",
    "sst = copy(state)\n",
    "\n",
    "a = ci[data[sp]]\n",
    "print(ic[a],end='')\n",
    "\n",
    "for i in range(1000):\n",
    "    vin = np.zeros(size)\n",
    "    vin[a] = 1\n",
    "    vins = [vin]\n",
    "    vouts = net.transmit(sst, vins)\n",
    "    evout = np.exp(vouts[0])\n",
    "    nevout = evout/np.sum(evout)\n",
    "    a = np.random.choice(range(size), p=nevout)\n",
    "    print(ic[a], end='')\n",
    "print()"
   ]
  },
  {
   "cell_type": "code",
   "execution_count": null,
   "metadata": {
    "collapsed": true
   },
   "outputs": [],
   "source": []
  }
 ],
 "metadata": {
  "kernelspec": {
   "display_name": "Python 3",
   "language": "python",
   "name": "python3"
  },
  "language_info": {
   "codemirror_mode": {
    "name": "ipython",
    "version": 3
   },
   "file_extension": ".py",
   "mimetype": "text/x-python",
   "name": "python",
   "nbconvert_exporter": "python",
   "pygments_lexer": "ipython3",
   "version": "3.5.1"
  }
 },
 "nbformat": 4,
 "nbformat_minor": 0
}
